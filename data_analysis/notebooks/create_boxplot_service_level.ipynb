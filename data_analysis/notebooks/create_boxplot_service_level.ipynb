{
 "cells": [
  {
   "cell_type": "markdown",
   "metadata": {
    "collapsed": true,
    "pycharm": {
     "name": "#%% md\n"
    }
   },
   "source": [
    "### 1) Overall configurations"
   ]
  },
  {
   "cell_type": "code",
   "execution_count": 26,
   "outputs": [],
   "source": [
    "import sys\n",
    "\n",
    "sys.path.append( '../slevelsutil/' )\n",
    "\n",
    "import request_track_util as rtrack\n",
    "from Instance import Instance\n",
    "from ResultTripServiceLevel import ResultTripServiceLevel"
   ],
   "metadata": {
    "collapsed": false,
    "pycharm": {
     "name": "#%%\n"
    }
   }
  },
  {
   "cell_type": "markdown",
   "source": [
    "### 2) Loading the instance data"
   ],
   "metadata": {
    "collapsed": false
   }
  },
  {
   "cell_type": "code",
   "execution_count": 27,
   "outputs": [
    {
     "data": {
      "text/plain": "       Pickup waiting (min)  SQ Class  Service Pickup deadline  \\\n0                        71  Standard  Company        Achieved   \n1                        32  Standard  Company        Achieved   \n2                        75  Low-cost  Company        Achieved   \n3                        30  Standard  Company        Achieved   \n4                        61  Standard  Company        Achieved   \n...                     ...       ...      ...             ...   \n14229                   159  Standard  Company        Achieved   \n14230                    32  Standard  Company        Achieved   \n14231                   200  Standard  Company        Achieved   \n14232                   252  Business  Company        Violated   \n14233                   157  Standard  Company        Achieved   \n\n                   Policy  deviation  \n0      SL constrs. + Hire          0  \n1      SL constrs. + Hire          0  \n2      SL constrs. + Hire          0  \n3      SL constrs. + Hire          0  \n4      SL constrs. + Hire          0  \n...                   ...        ...  \n14229        Min. waiting          0  \n14230        Min. waiting          0  \n14231        Min. waiting          0  \n14232        Min. waiting         72  \n14233        Min. waiting          0  \n\n[42702 rows x 6 columns]",
      "text/html": "<div>\n<style scoped>\n    .dataframe tbody tr th:only-of-type {\n        vertical-align: middle;\n    }\n\n    .dataframe tbody tr th {\n        vertical-align: top;\n    }\n\n    .dataframe thead th {\n        text-align: right;\n    }\n</style>\n<table border=\"1\" class=\"dataframe\">\n  <thead>\n    <tr style=\"text-align: right;\">\n      <th></th>\n      <th>Pickup waiting (min)</th>\n      <th>SQ Class</th>\n      <th>Service</th>\n      <th>Pickup deadline</th>\n      <th>Policy</th>\n      <th>deviation</th>\n    </tr>\n  </thead>\n  <tbody>\n    <tr>\n      <th>0</th>\n      <td>71</td>\n      <td>Standard</td>\n      <td>Company</td>\n      <td>Achieved</td>\n      <td>SL constrs. + Hire</td>\n      <td>0</td>\n    </tr>\n    <tr>\n      <th>1</th>\n      <td>32</td>\n      <td>Standard</td>\n      <td>Company</td>\n      <td>Achieved</td>\n      <td>SL constrs. + Hire</td>\n      <td>0</td>\n    </tr>\n    <tr>\n      <th>2</th>\n      <td>75</td>\n      <td>Low-cost</td>\n      <td>Company</td>\n      <td>Achieved</td>\n      <td>SL constrs. + Hire</td>\n      <td>0</td>\n    </tr>\n    <tr>\n      <th>3</th>\n      <td>30</td>\n      <td>Standard</td>\n      <td>Company</td>\n      <td>Achieved</td>\n      <td>SL constrs. + Hire</td>\n      <td>0</td>\n    </tr>\n    <tr>\n      <th>4</th>\n      <td>61</td>\n      <td>Standard</td>\n      <td>Company</td>\n      <td>Achieved</td>\n      <td>SL constrs. + Hire</td>\n      <td>0</td>\n    </tr>\n    <tr>\n      <th>...</th>\n      <td>...</td>\n      <td>...</td>\n      <td>...</td>\n      <td>...</td>\n      <td>...</td>\n      <td>...</td>\n    </tr>\n    <tr>\n      <th>14229</th>\n      <td>159</td>\n      <td>Standard</td>\n      <td>Company</td>\n      <td>Achieved</td>\n      <td>Min. waiting</td>\n      <td>0</td>\n    </tr>\n    <tr>\n      <th>14230</th>\n      <td>32</td>\n      <td>Standard</td>\n      <td>Company</td>\n      <td>Achieved</td>\n      <td>Min. waiting</td>\n      <td>0</td>\n    </tr>\n    <tr>\n      <th>14231</th>\n      <td>200</td>\n      <td>Standard</td>\n      <td>Company</td>\n      <td>Achieved</td>\n      <td>Min. waiting</td>\n      <td>0</td>\n    </tr>\n    <tr>\n      <th>14232</th>\n      <td>252</td>\n      <td>Business</td>\n      <td>Company</td>\n      <td>Violated</td>\n      <td>Min. waiting</td>\n      <td>72</td>\n    </tr>\n    <tr>\n      <th>14233</th>\n      <td>157</td>\n      <td>Standard</td>\n      <td>Company</td>\n      <td>Achieved</td>\n      <td>Min. waiting</td>\n      <td>0</td>\n    </tr>\n  </tbody>\n</table>\n<p>42702 rows × 6 columns</p>\n</div>"
     },
     "execution_count": 27,
     "metadata": {},
     "output_type": "execute_result"
    }
   ],
   "source": [
    "test_case = \"standard_vs_enforce_BB\"\n",
    "instance_settings_path = \"C:/Users/LocalAdmin/IdeaProjects/slevels/src/main/resources/day/enforce_sl_all_hierachical_scenarios_150_plus.json\"\n",
    "data_dict_path = \"../data/dictionary/request_track_data_dictionary_plus.json\"\n",
    "\n",
    "instance = Instance(test_case, instance_settings_path, data_dict_path)\n",
    "tripdata = ResultTripServiceLevel(instance)\n",
    "tripdata.df_all"
   ],
   "metadata": {
    "collapsed": false,
    "pycharm": {
     "name": "#%%\n"
    }
   }
  },
  {
   "cell_type": "code",
   "execution_count": 28,
   "outputs": [],
   "source": [
    "figure_name_box_plot = \"grid_boxplot_pickup_waiting_plus.pdf\"\n",
    "fig_boxplot_filepath = f'{instance.paper_folder}{test_case}_{figure_name_box_plot}'"
   ],
   "metadata": {
    "collapsed": false,
    "pycharm": {
     "name": "#%%\n"
    }
   }
  },
  {
   "cell_type": "code",
   "execution_count": 29,
   "outputs": [
    {
     "data": {
      "text/plain": "{('Business', 'SL constrs.'): 34,\n ('Low-cost', 'Min. waiting'): 317,\n ('Low-cost', 'SL constrs.'): 52,\n ('Standard', 'Min. waiting'): 232,\n ('Standard', 'SL constrs.'): 176}"
     },
     "execution_count": 29,
     "metadata": {},
     "output_type": "execute_result"
    }
   ],
   "source": [
    "rejected_count_class_method = tripdata.get_rejected_value_counts_dict([\"class\"], \"method\")\n",
    "rejected_count_class_method"
   ],
   "metadata": {
    "collapsed": false,
    "pycharm": {
     "name": "#%%\n"
    }
   }
  },
  {
   "cell_type": "code",
   "execution_count": 30,
   "outputs": [
    {
     "data": {
      "text/plain": "{('Business', 'SL constrs.'): 34,\n ('Low-cost', 'Min. waiting'): 317,\n ('Low-cost', 'SL constrs.'): 52,\n ('Standard', 'Min. waiting'): 232,\n ('Standard', 'SL constrs.'): 176}"
     },
     "execution_count": 30,
     "metadata": {},
     "output_type": "execute_result"
    }
   ],
   "source": [
    "rejected_count_class_method = tripdata.get_rejected_value_counts_dict([\"class\"], \"method\")\n",
    "rejected_count_class_method"
   ],
   "metadata": {
    "collapsed": false,
    "pycharm": {
     "name": "#%%\n"
    }
   }
  },
  {
   "cell_type": "code",
   "execution_count": 31,
   "outputs": [
    {
     "name": "stdout",
     "output_type": "stream",
     "text": [
      "Business (#Rides = 6,831)\n",
      "Standard (#Rides = 29,151)\n",
      "Low-cost (#Rides = 6,720)\n",
      "saving at C:/Users/LocalAdmin/Documents/articles/trc_sl/img/standard_vs_enforce_BB_grid_boxplot_pickup_waiting_plus.pdf\n"
     ]
    },
    {
     "data": {
      "text/plain": "<Figure size 432x288 with 0 Axes>"
     },
     "metadata": {},
     "output_type": "display_data"
    },
    {
     "data": {
      "text/plain": "<Figure size 691.2x288 with 3 Axes>",
      "image/png": "[encoded data removed]"
     },
     "metadata": {},
     "output_type": "display_data"
    }
   ],
   "source": [
    "import matplotlib.pyplot as plt\n",
    "import seaborn as sns\n",
    "%matplotlib inline\n",
    "\n",
    "sns.set_style(\n",
    "    \"whitegrid\", {\n",
    "        'xtick.bottom': True,\n",
    "        'xtick.top': False,\n",
    "        'ytick.left': False,\n",
    "        'ytick.right': False\n",
    "    }\n",
    ")\n",
    "sns.set_context(\"paper\")\n",
    "sns.despine(left=True)\n",
    "\n",
    "YlGnBu_r = ['#081d58', '#e31a1c', '#225ea8', '#1d91c0', '#7fcdbb', '#c7e9b4', '#ffffd9']\n",
    "palette = sns.color_palette(YlGnBu_r)\n",
    "\n",
    "# type_plot = dict(cut=0, kind=\"violin\")\n",
    "type_plot = dict(kind=\"box\", fliersize=1, width=0.5)\n",
    "\n",
    "\n",
    "g = sns.catplot(\n",
    "    **type_plot,\n",
    "    x=instance.headers[\"method\"],\n",
    "    y=instance.headers[\"delay_pk\"],\n",
    "    col=instance.headers[\"class\"],\n",
    "    data=tripdata.df_serviced,\n",
    "    col_order=instance.order_classes,\n",
    "    order = instance.order_methods_dict.keys(),\n",
    "    height=4,\n",
    "    aspect=0.8,\n",
    "    palette=palette[3:]\n",
    ")\n",
    "\n",
    "kws = {\"color\":\"red\", \"linewidth\":1.5, \"linestyle\": \"--\"}\n",
    "\n",
    "def plot_expected_lines(facet_axes, line_kws):\n",
    "    def expected_line(*args, **kwargs):\n",
    "        sq_class, methods = [list(set(a)) for a in args]\n",
    "        sq_class = sq_class[0]\n",
    "        plt.axhline(instance.sl_class_target_pickup[sq_class], **kwargs)\n",
    "\n",
    "    facet_axes = (facet_axes.map(expected_line, instance.headers[\"class\"], instance.headers[\"method\"], **line_kws))\n",
    "    return facet_axes\n",
    "\n",
    "def plot_rejected_tags(facet_axes, tag_kws):\n",
    "    def rejected_tags(*args, **kwargs):\n",
    "        sq_class, methods = [list(set(a)) for a in args]\n",
    "        sq_class = sq_class[0]\n",
    "        for m in methods:\n",
    "            x_index_method = instance.order_methods_dict[m]\n",
    "            x_pos = x_index_method\n",
    "            rejected = rejected_count_class_method.get((sq_class, m),0)\n",
    "            if kwargs['label']:\n",
    "                label = f\"{kwargs['label']} = {rejected:,}\"\n",
    "                x_pos -= len(kwargs['label'])/30\n",
    "            else:\n",
    "                label = f\"{rejected:,}\"\n",
    "            plt.text(x_pos - len(label)/30, kwargs['rejected_y_pos'], label, style=\"italic\", color=\"black\")\n",
    "    facet_axes = (facet_axes.map(rejected_tags, instance.headers[\"class\"], instance.headers[\"method\"], **tag_kws))\n",
    "    return facet_axes\n",
    "\n",
    "g = plot_expected_lines(g,kws)\n",
    "rejected_y_pos = 450\n",
    "g = plot_rejected_tags(g, {\"label\":None, \"rejected_y_pos\":rejected_y_pos})\n",
    "#g = plot_rejected_tags(g, {\"label\":\"Rejected\"})\n",
    "g = rtrack.add_ticks(g, 0, 480, 60, label_min=0, label_max=9, label_step=1)\n",
    "g.set_axis_labels(instance.headers[\"method\"], instance.headers[\"delay_pk\"])\n",
    "g = g.set_titles(\"{col_name}\")\n",
    "\n",
    "for i_method, sqc in enumerate(instance.order_classes):\n",
    "    g.facet_axis(0, i_method).set_title(f\"{sqc} (#Rides = {tripdata.sq_class_count[sqc]:,})\")\n",
    "    g.facet_axis(0, i_method).margins(0)\n",
    "    g.facet_axis(0, i_method).set_ylim(0,480)\n",
    "    print(g.facet_axis(0, i_method).get_title())\n",
    "\n",
    "plt.text(-7.5, rejected_y_pos, \"Rejected:\" , style=\"italic\", color=\"black\")\n",
    "sns.despine(left=True)\n",
    "\n",
    "print(\"saving at\", fig_boxplot_filepath)\n",
    "plt.savefig(fig_boxplot_filepath, bbox_inches=\"tight\")"
   ],
   "metadata": {
    "collapsed": false,
    "pycharm": {
     "name": "#%%\n"
    }
   }
  }
 ],
 "metadata": {
  "kernelspec": {
   "name": "python37664bitenvslevelsconda0fcbcdd2fdaa4d328ecf1cbcb199e13d",
   "language": "python",
   "display_name": "Python 3.7.6 64-bit ('env_slevels': conda)"
  },
  "language_info": {
   "codemirror_mode": {
    "name": "ipython",
    "version": 2
   },
   "file_extension": ".py",
   "mimetype": "text/x-python",
   "name": "python",
   "nbconvert_exporter": "python",
   "pygments_lexer": "ipython2",
   "version": "2.7.6"
  }
 },
 "nbformat": 4,
 "nbformat_minor": 0
}