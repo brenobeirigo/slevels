{
 "cells": [
  {
   "cell_type": "code",
   "execution_count": 1,
   "metadata": {
    "collapsed": true
   },
   "outputs": [],
   "source": [
    "import sys\n",
    "\n",
    "sys.path.append( '../slevelsutil/' )\n",
    "import round_track_util as rutil\n",
    "from Instance import Instance\n",
    "import file_util"
   ]
  },
  {
   "cell_type": "code",
   "execution_count": 2,
   "outputs": [],
   "source": [
    "filter_instance = {\"instance_name\":\"SCENARIO\"} #, \"customer_segmentation\":\"X\", \"service_rate\": \"S1\"}\n",
    "test_case = \"standard_vs_enforce_BB\"\n",
    "#instance_settings_path = \"C:/Users/LocalAdmin/IdeaProjects/slevels/src/main/resources/day/trc_paper.json\"\n",
    "#data_dict_path = \"../data/dictionary/request_track_data_dictionary.json\"\n",
    "test_label = \"\"\n",
    "\n",
    "# TRC Paper (Flexible execution cuts)\n",
    "# instance_settings_path = \"C:/Users/LocalAdmin/IdeaProjects/slevels/src/main/resources/day/enforce_sl_all_hierachical_scenarios_150_plus.json\"\n",
    "# data_dict_path = \"../data/dictionary/request_track_data_dictionary_plus.json\"\n",
    "# test_label = \"time_plus\"\n",
    "\n",
    "# TRC Paper (Whole day)\n",
    "instance_settings_path = \"C:/Users/LocalAdmin/IdeaProjects/slevels/src/main/resources/day/enforce_sl_whole_day_plus.json\"\n",
    "data_dict_path = \"../data/dictionary/request_track_data_dictionary_whole_day_plus.json\"\n",
    "test_label = \"day_time_plus\"\n",
    "\n",
    "instance_case = Instance(test_case, instance_settings_path, data_dict_path)"
   ],
   "metadata": {
    "collapsed": false,
    "pycharm": {
     "name": "#%%\n"
    }
   }
  },
  {
   "cell_type": "markdown",
   "source": [
    "### One day config"
   ],
   "metadata": {
    "collapsed": false,
    "pycharm": {
     "name": "#%% md\n"
    }
   }
  },
  {
   "cell_type": "code",
   "execution_count": 3,
   "outputs": [
    {
     "name": "stdout",
     "output_type": "stream",
     "text": [
      "Reading 1 files from 'C:/Users/LocalAdmin/IdeaProjects/slevels/instance_output/day_enforce_sl_plus/request_track/'.\n",
      "  - Processing IN-WHOLEDAYPLUS_HC-150_BA-30_ST-86400_MR-1000_IF-1000_MC-4_CS-BB_CD-0_SR-S9_VH_SD_RE-OP_OPT-ERTV\n",
      "Creating figure in 'C:/Users/LocalAdmin/OneDrive/leap_forward/phd_project/sqc/business_class_amod/trc/plus/vehicle_status/VS_IN-WHOLEDAYPLUS_HC-150_BA-30_ST-86400_MR-1000_IF-1000_MC-4_CS-BB_CD-0_SR-S9_VH_SD_RE-OP_OPT-ERTV.png'\n",
      "TW1(2011-02-01T00:00:00, 2011-02-02T00:00:00)\n",
      "TW: ('2011-02-01T00:00:00', '2011-02-02T00:00:00')\n",
      "TW2(2011-02-01T00:00:00, 2011-02-02T00:00:00)\n",
      "Index(['waiting', 'finished', 'denied', 'n_requests', 'seat_count',\n",
      "       'picking_up_seats', 'rebalancing_seats', 'empty_seats',\n",
      "       'total_capacity', 'active_vehicles', 'hired_vehicles',\n",
      "       'deactivated_vehicles', 'enroute_count', 'pk_delay', 'total_delay',\n",
      "       'parked_vehicles', 'origin_vehicles', 'rebalancing',\n",
      "       'stopped_rebalancing', 'idle', 'picking_up', 'O1', 'O2', 'O3', 'O4',\n",
      "       'V1', 'V2', 'V3', 'V4', 'distance_traveled_cruising',\n",
      "       'distance_traveled_loaded', 'distance_traveled_rebalancing',\n",
      "       'time_ride_matching_s', 'time_update_fleet_status_s',\n",
      "       'time_vehicle_rebalancing_s', 'A_pk', 'A_dp', 'A_count',\n",
      "       'A_unmet_slevels', 'B_pk', 'B_dp', 'B_count', 'B_unmet_slevels', 'C_pk',\n",
      "       'C_dp', 'C_count', 'C_unmet_slevels'],\n",
      "      dtype='object')\n",
      "Firt record: 2011-02-01 00:00:30  -- Last record: 2011-02-02 00:35:30\n",
      "TW: 2011-02-01 00:00:00 2011-02-02 00:00:00\n",
      "Len x: 2881\n",
      "{'axes.facecolor': '#d0d0dd', 'axes.edgecolor': '.15', 'axes.grid': True, 'axes.axisbelow': True, 'axes.labelcolor': '.15', 'figure.facecolor': 'white', 'grid.color': '1.0', 'grid.linestyle': '-', 'text.color': '.15', 'xtick.color': '.15', 'ytick.color': '.15', 'xtick.direction': 'out', 'ytick.direction': 'out', 'lines.solid_capstyle': 'round', 'patch.edgecolor': 'w', 'image.cmap': 'rocket', 'font.family': ['sans-serif'], 'font.sans-serif': ['Arial', 'DejaVu Sans', 'Liberation Sans', 'Bitstream Vera Sans', 'sans-serif'], 'patch.force_edgecolor': True, 'xtick.bottom': True, 'xtick.top': False, 'ytick.left': True, 'ytick.right': False, 'axes.spines.left': True, 'axes.spines.bottom': True, 'axes.spines.right': True, 'axes.spines.top': True}\n",
      "Range:  DatetimeIndex(['2011-02-01 00:00:30', '2011-02-01 03:00:30',\n",
      "               '2011-02-01 06:00:30', '2011-02-01 09:00:30',\n",
      "               '2011-02-01 12:00:30', '2011-02-01 15:00:30',\n",
      "               '2011-02-01 18:00:30', '2011-02-01 21:00:30',\n",
      "               '2011-02-02 00:00:30'],\n",
      "              dtype='datetime64[ns]', freq='3H')\n",
      "LIMITS: 0 1250\n",
      "Fleet makeup: {'V1': 0, 'V2': 0, 'V3': 0, 'V4': 1000}\n",
      " Total seats: {'V1': 0, 'V2': 0, 'V3': 0, 'V4': 4000}\n",
      "Service rate: 100.00% (Serviced: 210262 + Denied: 7 = 210269) \n",
      "Pickup delay: 101.22 / Ride delay: 183.26 \n",
      "Runtime: 151.28s\n"
     ]
    },
    {
     "data": {
      "text/plain": "<Figure size 2160x648 with 0 Axes>"
     },
     "metadata": {},
     "output_type": "display_data"
    }
   ],
   "source": [
    "instance_file_names = file_util.read_files_from_folder(instance_case.request_log_folder)\n",
    "\n",
    "\n",
    "hour_config = {\n",
    "    \"custom_tw\" : ('2011-02-01T18:00:00', '2011-02-01T19:00:00'),\n",
    "    \"x_data_format\" : ('15T', '%H:%M'),\n",
    "    \"size_inches\":  (9, 9)\n",
    "}\n",
    "\n",
    "day_config = {\n",
    "    \"custom_tw\" : ('2011-02-01T00:00:00', '2011-02-02T00:00:00'),\n",
    "    \"x_data_format\" : ('3H', '%#H'),\n",
    "    \"size_inches\": (30, 9),\n",
    "}\n",
    "\n",
    "fonts_large = {\n",
    "    \"fontsize\":\"xx-large\",\n",
    "    \"fontsize_label\":\"xx-large\",\n",
    "    \"fontsize_label_sr\":\"x-large\",\n",
    "    \"context_font_scale\": 1.3,\n",
    "}\n",
    "\n",
    "for file_name in instance_file_names:\n",
    "    instance, extension = file_name.split(\".\")\n",
    "    print(\"  - Processing\", instance)\n",
    "    instance_settings = Instance.get_instance_settings(instance_case.instances_dic[\"labels\"], instance)\n",
    "\n",
    "\n",
    "    periods_config = day_config\n",
    "    fonts = fonts_large\n",
    "    rutil.plot_vehicle_status_graph(\n",
    "        instance_case.round_log_folder,\n",
    "        instance_case.paper_folder+\"vehicle_status/\",\n",
    "        instance,\n",
    "        replace=True,\n",
    "        smooth=0,\n",
    "        label_y = ([0, 250, 500, 750, 1000, 1250], [0, 250, 500, 750, 1000, 1250], \"xx-large\"),\n",
    "        print_details=False,\n",
    "        **fonts,\n",
    "        **periods_config,\n",
    "        color_bg = \"#C0C0C0\",\n",
    "        horizontal_legend = True,\n",
    "        day_sep_config = (dict(linewidth=6, color='white', alpha=0.4), dict(linewidth=1, color='black', linestyle='--')),\n",
    "        fig_type = 'png',\n",
    "        print_details_axis = (\"Time (h)\", \"#Vehicles\"),\n",
    "        input_dic = instance_settings,\n",
    "        show_tick_label_x = True,\n",
    "        annotate_data_per_status=False,\n",
    "        show_service_rate=\"Picked up: \",\n",
    "\n",
    "    )"
   ],
   "metadata": {
    "collapsed": false,
    "pycharm": {
     "name": "#%%\n"
    }
   }
  },
  {
   "cell_type": "markdown",
   "source": [
    "### Whole week config"
   ],
   "metadata": {
    "collapsed": false,
    "pycharm": {
     "name": "#%% md\n"
    }
   }
  },
  {
   "cell_type": "raw",
   "source": [
    "\n",
    "\n",
    "\n",
    "# Instance Info (key = instance name)\n",
    "dic_all_instance_settings = dict()\n",
    "dic_all_round_track = dict()\n",
    "dic_all_request_track = dict()\n",
    "\n",
    "general_config = dict(\n",
    "    replace=True,\n",
    "    smooth=0,\n",
    "    print_details=False,\n",
    "    size_inches = (18,3),\n",
    "    fontsize=\"x-large\",\n",
    "    fontsize_label=\"x-large\",\n",
    "    custom_tw = ('2011-02-01T00:00:00', '2011-02-08T00:00:00'),\n",
    "    x_data_format = ('6h', '%H'),\n",
    "    label_y = ([0, 225, 450, 675, 900, 1125, 1350, 1575, 1800, 2025, 2250], [0, 225, 450, 675, 900, 1125, 1350, 1575, 1800,  2025, 2250], \"small\"),\n",
    "    color_bg = \"#C0C0C0\",\n",
    "    context_font_scale = 1.3,\n",
    "    horizontal_legend = True,\n",
    "    day_sep_config = (dict(linewidth=6, color='white', alpha=0.4), dict(linewidth=1, color='black', linestyle='--')),\n",
    "    fig_type = 'png',\n",
    "    linewidth = 1,\n",
    ")\n",
    "\n",
    "msg_fontsize = 'large'\n",
    "\n",
    "for file_name in instance_file_names:\n",
    "    instance, extension = file_name.split(\".\")\n",
    "    print(\"  - Processing\", instance)\n",
    "    instance_settings = Instance.get_instance_settings(instance_case.instances_dic[\"labels\"], instance)\n",
    "\n",
    "    rutil.plot_vehicle_status_graph(\n",
    "        instance_case.round_log_folder,\n",
    "        instance_case.vehicle_status_graph_folder,\n",
    "        instance,\n",
    "        show_tick_label_x = True,\n",
    "        show_week_days = True,\n",
    "        print_details_axis = (\"Time (h)\", \"#Vehicles\"),\n",
    "        **general_config,\n",
    "        input_dic = instance_settings\n",
    "    )"
   ],
   "metadata": {
    "collapsed": false,
    "pycharm": {
     "name": "#%% raw\n"
    }
   }
  },
  {
   "cell_type": "code",
   "execution_count": 4,
   "outputs": [
    {
     "data": {
      "text/plain": "'7'"
     },
     "execution_count": 4,
     "metadata": {},
     "output_type": "execute_result"
    }
   ],
   "source": [
    "import datetime\n",
    "d = datetime.datetime(2013, 9, 30, 7, 6, 5)\n",
    "d.strftime(\"%#H\")"
   ],
   "metadata": {
    "collapsed": false,
    "pycharm": {
     "name": "#%%\n"
    }
   }
  }
 ],
 "metadata": {
  "kernelspec": {
   "name": "python37664bitenvslevelsconda0fcbcdd2fdaa4d328ecf1cbcb199e13d",
   "language": "python",
   "display_name": "Python 3.7.6 64-bit ('env_slevels': conda)"
  },
  "language_info": {
   "codemirror_mode": {
    "name": "ipython",
    "version": 2
   },
   "file_extension": ".py",
   "mimetype": "text/x-python",
   "name": "python",
   "nbconvert_exporter": "python",
   "pygments_lexer": "ipython2",
   "version": "2.7.6"
  }
 },
 "nbformat": 4,
 "nbformat_minor": 0
}