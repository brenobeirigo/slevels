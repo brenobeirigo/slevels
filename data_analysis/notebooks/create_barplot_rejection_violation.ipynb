{
 "cells": [
  {
   "cell_type": "markdown",
   "source": [
    "### 1) Overall configurations"
   ],
   "metadata": {
    "collapsed": false,
    "pycharm": {
     "name": "#%% md\n"
    }
   }
  },
  {
   "cell_type": "code",
   "execution_count": 1,
   "outputs": [],
   "source": [
    "import sys\n",
    "\n",
    "import pandas as pd\n",
    "sys.path.append( '../slevelsutil/' )\n",
    "\n",
    "import request_track_util as rtrack\n",
    "from Instance import Instance\n",
    "from Filter import Filter\n",
    "from ResultTripServiceLevel import ResultTripServiceLevel"
   ],
   "metadata": {
    "collapsed": false,
    "pycharm": {
     "name": "#%%\n"
    }
   }
  },
  {
   "cell_type": "markdown",
   "source": [
    "### 2) Loading the instance data"
   ],
   "metadata": {
    "collapsed": false
   }
  },
  {
   "cell_type": "code",
   "execution_count": 2,
   "outputs": [],
   "source": [
    "test_case = \"standard_vs_enforce_BB\"\n",
    "# TRC Paper (Tight execution cuts)\n",
    "# instance_settings_path = \"C:/Users/LocalAdmin/IdeaProjects/slevels/src/main/resources/week/enforce_service_levels.json\"\n",
    "# data_dict_path = \"../data/dictionary/request_track_data_dictionary.json\"\n",
    "# test_label = \"standard\"\n",
    "\n",
    "# TRC Paper (Flexible execution cuts)\n",
    "instance_settings_path = \"C:/Users/LocalAdmin/IdeaProjects/slevels/src/main/resources/day/enforce_sl_all_hierachical_scenarios_150_plus.json\"\n",
    "data_dict_path = \"../data/dictionary/request_track_data_dictionary_plus.json\"\n",
    "test_label = \"time_plus\"\n",
    "\n",
    "instance = Instance(test_case, instance_settings_path, data_dict_path)\n",
    "tripdata = ResultTripServiceLevel(instance)"
   ],
   "metadata": {
    "collapsed": false,
    "pycharm": {
     "name": "#%%\n"
    }
   }
  },
  {
   "cell_type": "code",
   "execution_count": 3,
   "outputs": [],
   "source": [
    "figure_name_violated_stack = f\"grid_stack_sl_violated_{test_label}.pdf\"\n",
    "figure_name_violated_stack_filepath = f'{instance.paper_folder}{test_case}_{figure_name_violated_stack}'"
   ],
   "metadata": {
    "collapsed": false,
    "pycharm": {
     "name": "#%%\n"
    }
   }
  },
  {
   "cell_type": "code",
   "execution_count": 4,
   "outputs": [
    {
     "data": {
      "text/plain": "       Pickup waiting (min)  SQ Class  Service Pickup deadline  \\\n1053                    412  Standard  Company        Violated   \n1287                    389  Standard  Company        Violated   \n1291                    372  Standard  Company        Violated   \n1301                    412  Standard  Company        Violated   \n1400                    398  Standard  Company        Violated   \n...                     ...       ...      ...             ...   \n14206                   359  Standard  Company        Violated   \n14212                   202  Business  Company        Violated   \n14219                   219  Business  Company        Violated   \n14227                   369  Standard  Company        Violated   \n14232                   252  Business  Company        Violated   \n\n                  Policy  deviation  \n1053   Enforce SL + Hire        112  \n1287   Enforce SL + Hire         89  \n1291   Enforce SL + Hire         72  \n1301   Enforce SL + Hire        112  \n1400   Enforce SL + Hire         98  \n...                  ...        ...  \n14206       Min. waiting         59  \n14212       Min. waiting         22  \n14219       Min. waiting         39  \n14227       Min. waiting         69  \n14232       Min. waiting         72  \n\n[8935 rows x 6 columns]",
      "text/html": "<div>\n<style scoped>\n    .dataframe tbody tr th:only-of-type {\n        vertical-align: middle;\n    }\n\n    .dataframe tbody tr th {\n        vertical-align: top;\n    }\n\n    .dataframe thead th {\n        text-align: right;\n    }\n</style>\n<table border=\"1\" class=\"dataframe\">\n  <thead>\n    <tr style=\"text-align: right;\">\n      <th></th>\n      <th>Pickup waiting (min)</th>\n      <th>SQ Class</th>\n      <th>Service</th>\n      <th>Pickup deadline</th>\n      <th>Policy</th>\n      <th>deviation</th>\n    </tr>\n  </thead>\n  <tbody>\n    <tr>\n      <th>1053</th>\n      <td>412</td>\n      <td>Standard</td>\n      <td>Company</td>\n      <td>Violated</td>\n      <td>Enforce SL + Hire</td>\n      <td>112</td>\n    </tr>\n    <tr>\n      <th>1287</th>\n      <td>389</td>\n      <td>Standard</td>\n      <td>Company</td>\n      <td>Violated</td>\n      <td>Enforce SL + Hire</td>\n      <td>89</td>\n    </tr>\n    <tr>\n      <th>1291</th>\n      <td>372</td>\n      <td>Standard</td>\n      <td>Company</td>\n      <td>Violated</td>\n      <td>Enforce SL + Hire</td>\n      <td>72</td>\n    </tr>\n    <tr>\n      <th>1301</th>\n      <td>412</td>\n      <td>Standard</td>\n      <td>Company</td>\n      <td>Violated</td>\n      <td>Enforce SL + Hire</td>\n      <td>112</td>\n    </tr>\n    <tr>\n      <th>1400</th>\n      <td>398</td>\n      <td>Standard</td>\n      <td>Company</td>\n      <td>Violated</td>\n      <td>Enforce SL + Hire</td>\n      <td>98</td>\n    </tr>\n    <tr>\n      <th>...</th>\n      <td>...</td>\n      <td>...</td>\n      <td>...</td>\n      <td>...</td>\n      <td>...</td>\n      <td>...</td>\n    </tr>\n    <tr>\n      <th>14206</th>\n      <td>359</td>\n      <td>Standard</td>\n      <td>Company</td>\n      <td>Violated</td>\n      <td>Min. waiting</td>\n      <td>59</td>\n    </tr>\n    <tr>\n      <th>14212</th>\n      <td>202</td>\n      <td>Business</td>\n      <td>Company</td>\n      <td>Violated</td>\n      <td>Min. waiting</td>\n      <td>22</td>\n    </tr>\n    <tr>\n      <th>14219</th>\n      <td>219</td>\n      <td>Business</td>\n      <td>Company</td>\n      <td>Violated</td>\n      <td>Min. waiting</td>\n      <td>39</td>\n    </tr>\n    <tr>\n      <th>14227</th>\n      <td>369</td>\n      <td>Standard</td>\n      <td>Company</td>\n      <td>Violated</td>\n      <td>Min. waiting</td>\n      <td>69</td>\n    </tr>\n    <tr>\n      <th>14232</th>\n      <td>252</td>\n      <td>Business</td>\n      <td>Company</td>\n      <td>Violated</td>\n      <td>Min. waiting</td>\n      <td>72</td>\n    </tr>\n  </tbody>\n</table>\n<p>8935 rows × 6 columns</p>\n</div>"
     },
     "execution_count": 4,
     "metadata": {},
     "output_type": "execute_result"
    }
   ],
   "source": [
    "tripdata.df_not_serviced"
   ],
   "metadata": {
    "collapsed": false,
    "pycharm": {
     "name": "#%%\n"
    }
   }
  },
  {
   "cell_type": "code",
   "execution_count": 5,
   "outputs": [
    {
     "data": {
      "text/plain": "    SQ Class             Policy  Service  count\n0   Business         Enforce SL  Company    222\n1   Business         Enforce SL   Denied     34\n2   Business  Enforce SL + Hire  Company     85\n3   Business       Min. waiting  Company   1687\n4   Low-cost         Enforce SL   Denied     52\n5   Low-cost       Min. waiting   Denied    317\n6   Standard         Enforce SL  Company   1547\n7   Standard         Enforce SL   Denied    176\n8   Standard  Enforce SL + Hire  Company    544\n9   Standard       Min. waiting  Company   4039\n10  Standard       Min. waiting   Denied    232",
      "text/html": "<div>\n<style scoped>\n    .dataframe tbody tr th:only-of-type {\n        vertical-align: middle;\n    }\n\n    .dataframe tbody tr th {\n        vertical-align: top;\n    }\n\n    .dataframe thead th {\n        text-align: right;\n    }\n</style>\n<table border=\"1\" class=\"dataframe\">\n  <thead>\n    <tr style=\"text-align: right;\">\n      <th></th>\n      <th>SQ Class</th>\n      <th>Policy</th>\n      <th>Service</th>\n      <th>count</th>\n    </tr>\n  </thead>\n  <tbody>\n    <tr>\n      <th>0</th>\n      <td>Business</td>\n      <td>Enforce SL</td>\n      <td>Company</td>\n      <td>222</td>\n    </tr>\n    <tr>\n      <th>1</th>\n      <td>Business</td>\n      <td>Enforce SL</td>\n      <td>Denied</td>\n      <td>34</td>\n    </tr>\n    <tr>\n      <th>2</th>\n      <td>Business</td>\n      <td>Enforce SL + Hire</td>\n      <td>Company</td>\n      <td>85</td>\n    </tr>\n    <tr>\n      <th>3</th>\n      <td>Business</td>\n      <td>Min. waiting</td>\n      <td>Company</td>\n      <td>1687</td>\n    </tr>\n    <tr>\n      <th>4</th>\n      <td>Low-cost</td>\n      <td>Enforce SL</td>\n      <td>Denied</td>\n      <td>52</td>\n    </tr>\n    <tr>\n      <th>5</th>\n      <td>Low-cost</td>\n      <td>Min. waiting</td>\n      <td>Denied</td>\n      <td>317</td>\n    </tr>\n    <tr>\n      <th>6</th>\n      <td>Standard</td>\n      <td>Enforce SL</td>\n      <td>Company</td>\n      <td>1547</td>\n    </tr>\n    <tr>\n      <th>7</th>\n      <td>Standard</td>\n      <td>Enforce SL</td>\n      <td>Denied</td>\n      <td>176</td>\n    </tr>\n    <tr>\n      <th>8</th>\n      <td>Standard</td>\n      <td>Enforce SL + Hire</td>\n      <td>Company</td>\n      <td>544</td>\n    </tr>\n    <tr>\n      <th>9</th>\n      <td>Standard</td>\n      <td>Min. waiting</td>\n      <td>Company</td>\n      <td>4039</td>\n    </tr>\n    <tr>\n      <th>10</th>\n      <td>Standard</td>\n      <td>Min. waiting</td>\n      <td>Denied</td>\n      <td>232</td>\n    </tr>\n  </tbody>\n</table>\n</div>"
     },
     "execution_count": 5,
     "metadata": {},
     "output_type": "execute_result"
    }
   ],
   "source": [
    "tripdata.not_serviced_count"
   ],
   "metadata": {
    "collapsed": false,
    "pycharm": {
     "name": "#%%\n"
    }
   }
  },
  {
   "cell_type": "code",
   "execution_count": 6,
   "outputs": [
    {
     "data": {
      "text/plain": "    SQ Class             Policy  Service  count\n0   Business         Enforce SL  Company    222\n1   Business         Enforce SL   Denied     34\n2   Business         Enforce SL    Total    256\n3   Business  Enforce SL + Hire  Company     85\n4   Business  Enforce SL + Hire    Total     85\n5   Business       Min. waiting  Company   1687\n6   Business       Min. waiting    Total   1687\n7   Low-cost         Enforce SL   Denied     52\n8   Low-cost         Enforce SL    Total     52\n9   Low-cost       Min. waiting   Denied    317\n10  Low-cost       Min. waiting    Total    317\n11  Standard         Enforce SL  Company   1547\n12  Standard         Enforce SL   Denied    176\n13  Standard         Enforce SL    Total   1723\n14  Standard  Enforce SL + Hire  Company    544\n15  Standard  Enforce SL + Hire    Total    544\n16  Standard       Min. waiting  Company   4039\n17  Standard       Min. waiting   Denied    232\n18  Standard       Min. waiting    Total   4271",
      "text/html": "<div>\n<style scoped>\n    .dataframe tbody tr th:only-of-type {\n        vertical-align: middle;\n    }\n\n    .dataframe tbody tr th {\n        vertical-align: top;\n    }\n\n    .dataframe thead th {\n        text-align: right;\n    }\n</style>\n<table border=\"1\" class=\"dataframe\">\n  <thead>\n    <tr style=\"text-align: right;\">\n      <th></th>\n      <th>SQ Class</th>\n      <th>Policy</th>\n      <th>Service</th>\n      <th>count</th>\n    </tr>\n  </thead>\n  <tbody>\n    <tr>\n      <th>0</th>\n      <td>Business</td>\n      <td>Enforce SL</td>\n      <td>Company</td>\n      <td>222</td>\n    </tr>\n    <tr>\n      <th>1</th>\n      <td>Business</td>\n      <td>Enforce SL</td>\n      <td>Denied</td>\n      <td>34</td>\n    </tr>\n    <tr>\n      <th>2</th>\n      <td>Business</td>\n      <td>Enforce SL</td>\n      <td>Total</td>\n      <td>256</td>\n    </tr>\n    <tr>\n      <th>3</th>\n      <td>Business</td>\n      <td>Enforce SL + Hire</td>\n      <td>Company</td>\n      <td>85</td>\n    </tr>\n    <tr>\n      <th>4</th>\n      <td>Business</td>\n      <td>Enforce SL + Hire</td>\n      <td>Total</td>\n      <td>85</td>\n    </tr>\n    <tr>\n      <th>5</th>\n      <td>Business</td>\n      <td>Min. waiting</td>\n      <td>Company</td>\n      <td>1687</td>\n    </tr>\n    <tr>\n      <th>6</th>\n      <td>Business</td>\n      <td>Min. waiting</td>\n      <td>Total</td>\n      <td>1687</td>\n    </tr>\n    <tr>\n      <th>7</th>\n      <td>Low-cost</td>\n      <td>Enforce SL</td>\n      <td>Denied</td>\n      <td>52</td>\n    </tr>\n    <tr>\n      <th>8</th>\n      <td>Low-cost</td>\n      <td>Enforce SL</td>\n      <td>Total</td>\n      <td>52</td>\n    </tr>\n    <tr>\n      <th>9</th>\n      <td>Low-cost</td>\n      <td>Min. waiting</td>\n      <td>Denied</td>\n      <td>317</td>\n    </tr>\n    <tr>\n      <th>10</th>\n      <td>Low-cost</td>\n      <td>Min. waiting</td>\n      <td>Total</td>\n      <td>317</td>\n    </tr>\n    <tr>\n      <th>11</th>\n      <td>Standard</td>\n      <td>Enforce SL</td>\n      <td>Company</td>\n      <td>1547</td>\n    </tr>\n    <tr>\n      <th>12</th>\n      <td>Standard</td>\n      <td>Enforce SL</td>\n      <td>Denied</td>\n      <td>176</td>\n    </tr>\n    <tr>\n      <th>13</th>\n      <td>Standard</td>\n      <td>Enforce SL</td>\n      <td>Total</td>\n      <td>1723</td>\n    </tr>\n    <tr>\n      <th>14</th>\n      <td>Standard</td>\n      <td>Enforce SL + Hire</td>\n      <td>Company</td>\n      <td>544</td>\n    </tr>\n    <tr>\n      <th>15</th>\n      <td>Standard</td>\n      <td>Enforce SL + Hire</td>\n      <td>Total</td>\n      <td>544</td>\n    </tr>\n    <tr>\n      <th>16</th>\n      <td>Standard</td>\n      <td>Min. waiting</td>\n      <td>Company</td>\n      <td>4039</td>\n    </tr>\n    <tr>\n      <th>17</th>\n      <td>Standard</td>\n      <td>Min. waiting</td>\n      <td>Denied</td>\n      <td>232</td>\n    </tr>\n    <tr>\n      <th>18</th>\n      <td>Standard</td>\n      <td>Min. waiting</td>\n      <td>Total</td>\n      <td>4271</td>\n    </tr>\n  </tbody>\n</table>\n</div>"
     },
     "execution_count": 6,
     "metadata": {},
     "output_type": "execute_result"
    }
   ],
   "source": [
    "df_denied_total_violation = tripdata.not_serviced_with_subtotal.copy()\n",
    "df_denied_total_violation"
   ],
   "metadata": {
    "collapsed": false,
    "pycharm": {
     "name": "#%%\n"
    }
   }
  },
  {
   "cell_type": "code",
   "execution_count": 7,
   "outputs": [
    {
     "data": {
      "text/plain": "    SQ Class             Policy Service  count\n1   Business         Enforce SL  Denied     34\n2   Business         Enforce SL   Total    256\n4   Business  Enforce SL + Hire   Total     85\n6   Business       Min. waiting   Total   1687\n7   Low-cost         Enforce SL  Denied     52\n8   Low-cost         Enforce SL   Total     52\n9   Low-cost       Min. waiting  Denied    317\n10  Low-cost       Min. waiting   Total    317\n12  Standard         Enforce SL  Denied    176\n13  Standard         Enforce SL   Total   1723\n15  Standard  Enforce SL + Hire   Total    544\n17  Standard       Min. waiting  Denied    232\n18  Standard       Min. waiting   Total   4271",
      "text/html": "<div>\n<style scoped>\n    .dataframe tbody tr th:only-of-type {\n        vertical-align: middle;\n    }\n\n    .dataframe tbody tr th {\n        vertical-align: top;\n    }\n\n    .dataframe thead th {\n        text-align: right;\n    }\n</style>\n<table border=\"1\" class=\"dataframe\">\n  <thead>\n    <tr style=\"text-align: right;\">\n      <th></th>\n      <th>SQ Class</th>\n      <th>Policy</th>\n      <th>Service</th>\n      <th>count</th>\n    </tr>\n  </thead>\n  <tbody>\n    <tr>\n      <th>1</th>\n      <td>Business</td>\n      <td>Enforce SL</td>\n      <td>Denied</td>\n      <td>34</td>\n    </tr>\n    <tr>\n      <th>2</th>\n      <td>Business</td>\n      <td>Enforce SL</td>\n      <td>Total</td>\n      <td>256</td>\n    </tr>\n    <tr>\n      <th>4</th>\n      <td>Business</td>\n      <td>Enforce SL + Hire</td>\n      <td>Total</td>\n      <td>85</td>\n    </tr>\n    <tr>\n      <th>6</th>\n      <td>Business</td>\n      <td>Min. waiting</td>\n      <td>Total</td>\n      <td>1687</td>\n    </tr>\n    <tr>\n      <th>7</th>\n      <td>Low-cost</td>\n      <td>Enforce SL</td>\n      <td>Denied</td>\n      <td>52</td>\n    </tr>\n    <tr>\n      <th>8</th>\n      <td>Low-cost</td>\n      <td>Enforce SL</td>\n      <td>Total</td>\n      <td>52</td>\n    </tr>\n    <tr>\n      <th>9</th>\n      <td>Low-cost</td>\n      <td>Min. waiting</td>\n      <td>Denied</td>\n      <td>317</td>\n    </tr>\n    <tr>\n      <th>10</th>\n      <td>Low-cost</td>\n      <td>Min. waiting</td>\n      <td>Total</td>\n      <td>317</td>\n    </tr>\n    <tr>\n      <th>12</th>\n      <td>Standard</td>\n      <td>Enforce SL</td>\n      <td>Denied</td>\n      <td>176</td>\n    </tr>\n    <tr>\n      <th>13</th>\n      <td>Standard</td>\n      <td>Enforce SL</td>\n      <td>Total</td>\n      <td>1723</td>\n    </tr>\n    <tr>\n      <th>15</th>\n      <td>Standard</td>\n      <td>Enforce SL + Hire</td>\n      <td>Total</td>\n      <td>544</td>\n    </tr>\n    <tr>\n      <th>17</th>\n      <td>Standard</td>\n      <td>Min. waiting</td>\n      <td>Denied</td>\n      <td>232</td>\n    </tr>\n    <tr>\n      <th>18</th>\n      <td>Standard</td>\n      <td>Min. waiting</td>\n      <td>Total</td>\n      <td>4271</td>\n    </tr>\n  </tbody>\n</table>\n</div>"
     },
     "execution_count": 7,
     "metadata": {},
     "output_type": "execute_result"
    }
   ],
   "source": [
    "# Removing violated (but serviced) to simulate stacked bars\n",
    "filter_violated = Filter(df_denied_total_violation, instance)\n",
    "df_rejected_and_total_violated = df_denied_total_violation[~filter_violated.serviced].copy()\n",
    "\n",
    "# Sorting data to put total violation bar in the background\n",
    "category_segmentation = pd.api.types.CategoricalDtype(\n",
    "    categories=[\"Total\", \"Denied\"],\n",
    "    ordered=True\n",
    ")\n",
    "df_rejected_and_total_violated[instance.headers[\"service\"]] = df_rejected_and_total_violated[instance.headers[\"service\"]].astype(category_segmentation)\n",
    "legend_data={\"Total\":\"Delayed\", \"Denied\":\"Rejected\"}\n",
    "\n",
    "df_rejected_and_total_violated"
   ],
   "metadata": {
    "collapsed": false,
    "pycharm": {
     "name": "#%%\n"
    }
   }
  },
  {
   "cell_type": "markdown",
   "source": [
    "Example of creating dictionary indexed by tuple (class, method)"
   ],
   "metadata": {
    "collapsed": false,
    "pycharm": {
     "name": "#%% md\n"
    }
   }
  },
  {
   "cell_type": "code",
   "execution_count": 8,
   "outputs": [
    {
     "data": {
      "text/plain": "{('Business', 'Enforce SL'): 2277,\n ('Business', 'Enforce SL + Hire'): 2277,\n ('Business', 'Min. waiting'): 2277,\n ('Low-cost', 'Enforce SL'): 2240,\n ('Low-cost', 'Enforce SL + Hire'): 2240,\n ('Low-cost', 'Min. waiting'): 2240,\n ('Standard', 'Enforce SL'): 9717,\n ('Standard', 'Enforce SL + Hire'): 9717,\n ('Standard', 'Min. waiting'): 9717}"
     },
     "execution_count": 8,
     "metadata": {},
     "output_type": "execute_result"
    }
   ],
   "source": [
    "dict_class_method_count = tripdata.get_value_counts_dict([\"class\"], \"method\")\n",
    "dict_class_method_count"
   ],
   "metadata": {
    "collapsed": false,
    "pycharm": {
     "name": "#%%\n"
    }
   }
  },
  {
   "cell_type": "markdown",
   "source": [
    "Example of creating dictionary indexed by tuple (class, method)"
   ],
   "metadata": {
    "collapsed": false
   }
  },
  {
   "cell_type": "code",
   "execution_count": 9,
   "outputs": [
    {
     "data": {
      "text/plain": "{('Business', 'Enforce SL', 'Achieved'): 2021,\n ('Business', 'Enforce SL', 'Violated'): 256,\n ('Business', 'Enforce SL + Hire', 'Achieved'): 2192,\n ('Business', 'Enforce SL + Hire', 'Violated'): 85,\n ('Business', 'Min. waiting', 'Violated'): 1687,\n ('Business', 'Min. waiting', 'Achieved'): 590,\n ('Low-cost', 'Enforce SL', 'Achieved'): 2188,\n ('Low-cost', 'Enforce SL', 'Violated'): 52,\n ('Low-cost', 'Enforce SL + Hire', 'Achieved'): 2240,\n ('Low-cost', 'Min. waiting', 'Achieved'): 1923,\n ('Low-cost', 'Min. waiting', 'Violated'): 317,\n ('Standard', 'Enforce SL', 'Achieved'): 7994,\n ('Standard', 'Enforce SL', 'Violated'): 1723,\n ('Standard', 'Enforce SL + Hire', 'Achieved'): 9173,\n ('Standard', 'Enforce SL + Hire', 'Violated'): 544,\n ('Standard', 'Min. waiting', 'Achieved'): 5446,\n ('Standard', 'Min. waiting', 'Violated'): 4271}"
     },
     "execution_count": 9,
     "metadata": {},
     "output_type": "execute_result"
    }
   ],
   "source": [
    "dict_class_method_service_count = tripdata.get_value_counts_dict([\"class\", \"method\"], \"service_level\")\n",
    "dict_class_method_service_count"
   ],
   "metadata": {
    "collapsed": false,
    "pycharm": {
     "name": "#%%\n"
    }
   }
  },
  {
   "cell_type": "code",
   "execution_count": 10,
   "outputs": [
    {
     "data": {
      "text/plain": "    SQ Class             Policy Service  count\n1   Business         Enforce SL  Denied     34\n2   Business         Enforce SL   Total    256\n4   Business  Enforce SL + Hire   Total     85\n6   Business       Min. waiting   Total   1687\n7   Low-cost         Enforce SL  Denied     52\n8   Low-cost         Enforce SL   Total     52\n9   Low-cost       Min. waiting  Denied    317\n10  Low-cost       Min. waiting   Total    317\n12  Standard         Enforce SL  Denied    176\n13  Standard         Enforce SL   Total   1723\n15  Standard  Enforce SL + Hire   Total    544\n17  Standard       Min. waiting  Denied    232\n18  Standard       Min. waiting   Total   4271",
      "text/html": "<div>\n<style scoped>\n    .dataframe tbody tr th:only-of-type {\n        vertical-align: middle;\n    }\n\n    .dataframe tbody tr th {\n        vertical-align: top;\n    }\n\n    .dataframe thead th {\n        text-align: right;\n    }\n</style>\n<table border=\"1\" class=\"dataframe\">\n  <thead>\n    <tr style=\"text-align: right;\">\n      <th></th>\n      <th>SQ Class</th>\n      <th>Policy</th>\n      <th>Service</th>\n      <th>count</th>\n    </tr>\n  </thead>\n  <tbody>\n    <tr>\n      <th>1</th>\n      <td>Business</td>\n      <td>Enforce SL</td>\n      <td>Denied</td>\n      <td>34</td>\n    </tr>\n    <tr>\n      <th>2</th>\n      <td>Business</td>\n      <td>Enforce SL</td>\n      <td>Total</td>\n      <td>256</td>\n    </tr>\n    <tr>\n      <th>4</th>\n      <td>Business</td>\n      <td>Enforce SL + Hire</td>\n      <td>Total</td>\n      <td>85</td>\n    </tr>\n    <tr>\n      <th>6</th>\n      <td>Business</td>\n      <td>Min. waiting</td>\n      <td>Total</td>\n      <td>1687</td>\n    </tr>\n    <tr>\n      <th>7</th>\n      <td>Low-cost</td>\n      <td>Enforce SL</td>\n      <td>Denied</td>\n      <td>52</td>\n    </tr>\n    <tr>\n      <th>8</th>\n      <td>Low-cost</td>\n      <td>Enforce SL</td>\n      <td>Total</td>\n      <td>52</td>\n    </tr>\n    <tr>\n      <th>9</th>\n      <td>Low-cost</td>\n      <td>Min. waiting</td>\n      <td>Denied</td>\n      <td>317</td>\n    </tr>\n    <tr>\n      <th>10</th>\n      <td>Low-cost</td>\n      <td>Min. waiting</td>\n      <td>Total</td>\n      <td>317</td>\n    </tr>\n    <tr>\n      <th>12</th>\n      <td>Standard</td>\n      <td>Enforce SL</td>\n      <td>Denied</td>\n      <td>176</td>\n    </tr>\n    <tr>\n      <th>13</th>\n      <td>Standard</td>\n      <td>Enforce SL</td>\n      <td>Total</td>\n      <td>1723</td>\n    </tr>\n    <tr>\n      <th>15</th>\n      <td>Standard</td>\n      <td>Enforce SL + Hire</td>\n      <td>Total</td>\n      <td>544</td>\n    </tr>\n    <tr>\n      <th>17</th>\n      <td>Standard</td>\n      <td>Min. waiting</td>\n      <td>Denied</td>\n      <td>232</td>\n    </tr>\n    <tr>\n      <th>18</th>\n      <td>Standard</td>\n      <td>Min. waiting</td>\n      <td>Total</td>\n      <td>4271</td>\n    </tr>\n  </tbody>\n</table>\n</div>"
     },
     "execution_count": 10,
     "metadata": {},
     "output_type": "execute_result"
    }
   ],
   "source": [
    "df_rejected_and_total_violated"
   ],
   "metadata": {
    "collapsed": false,
    "pycharm": {
     "name": "#%%\n"
    }
   }
  },
  {
   "cell_type": "code",
   "execution_count": 11,
   "outputs": [
    {
     "name": "stdout",
     "output_type": "stream",
     "text": [
      "Business Enforce SL Total 256 2277 0.11242863416776461\n",
      "Business Enforce SL + Hire Total 85 2277 0.03732981993851559\n",
      "Business Min. waiting Total 1687 2277 0.7408871321914801\n",
      "Standard Enforce SL Total 1723 9717 0.177318102294947\n",
      "Standard Enforce SL + Hire Total 544 9717 0.05598435731192755\n",
      "Standard Min. waiting Total 4271 9717 0.43953895235154883\n",
      "Low-cost Enforce SL Total 52 2240 0.023214285714285715\n",
      "Low-cost Min. waiting Total 317 2240 0.14151785714285714\n",
      "saving at C:/Users/LocalAdmin/OneDrive/leap_forward/phd_project/sqc/business_class_amod/trc/standard_vs_enforce_BB_grid_stack_sl_violated.pdf\n"
     ]
    },
    {
     "data": {
      "text/plain": "<Figure size 432x288 with 0 Axes>"
     },
     "metadata": {},
     "output_type": "display_data"
    },
    {
     "data": {
      "text/plain": "<Figure size 664.355x288 with 3 Axes>",
      "image/png": "[encoded data removed]"
     },
     "metadata": {},
     "output_type": "display_data"
    }
   ],
   "source": [
    "import seaborn as sns\n",
    "sns.set_style(\n",
    "    \"whitegrid\", {\n",
    "        'xtick.bottom': True,\n",
    "        'xtick.top': False,\n",
    "        'ytick.left': False,\n",
    "        'ytick.right': False\n",
    "    }\n",
    ")\n",
    "sns.set_context(\"paper\")\n",
    "sns.despine(left=True)\n",
    "\n",
    "\n",
    "import matplotlib.pyplot as plt\n",
    "# flatui = [\"#e74c3c\", \"#34495e\"]\n",
    "YlGnBu_r = ['#081d58', '#e31a1c', '#225ea8', '#1d91c0', '#7fcdbb', '#c7e9b4', '#ffffd9']\n",
    "palette = sns.color_palette(YlGnBu_r)\n",
    "\n",
    "g = sns.catplot(\n",
    "    kind=\"bar\",\n",
    "    y=\"count\",\n",
    "    x=instance.headers[\"method\"],\n",
    "    hue=instance.headers[\"service\"],\n",
    "    col=instance.headers[\"class\"],\n",
    "    data=df_rejected_and_total_violated,\n",
    "    col_order=instance.order_classes,\n",
    "    order = instance.order_methods_dict.keys(),\n",
    "    height=4,\n",
    "    dodge=False,\n",
    "    aspect=0.7,\n",
    "    palette=palette\n",
    ")\n",
    "\n",
    "\n",
    "def plot_violated_tags(facet_axes, tag_kws):\n",
    "    def violated_tags(*args, **kwargs):\n",
    "        tuples  = list(zip(*[list(a) for a in args]))\n",
    "        for sq_class, method, status, count in tuples:\n",
    "            if status == \"Total\":\n",
    "                x_index_method = instance.order_methods_dict[method]\n",
    "                total = dict_class_method_count.get((sq_class, method), 0)\n",
    "                value = count/total\n",
    "                print(sq_class, method, status, count, total, value)\n",
    "                label = f\"{value:.2%}\"\n",
    "                x_pos = x_index_method-len(label)/30\n",
    "                plt.text(x_pos, count+200, label)\n",
    "\n",
    "    facet_axes = (facet_axes.map(\n",
    "        violated_tags,\n",
    "        instance.headers[\"class\"],\n",
    "        instance.headers[\"method\"],\n",
    "        instance.headers[\"service\"],\n",
    "        \"count\",\n",
    "        **tag_kws)\n",
    "    )\n",
    "\n",
    "    return facet_axes\n",
    "\n",
    "\n",
    "for i, (old_label, new_label) in enumerate(legend_data.items()):\n",
    "    g._legend.texts[i].set_text(new_label)\n",
    "g._legend.set_title(\"Request status\")\n",
    "\n",
    "g = plot_violated_tags(g, dict(label=\"V\"))\n",
    "\n",
    "g = rtrack.add_ticks(g, 0, 6500, 1000, tick_format=\"{:,}\")\n",
    "g = g.set_axis_labels(instance.headers[\"method\"], \"#Requests\")\n",
    "g = g.set_titles(\"{col_name}\")\n",
    "\n",
    "sns.despine(left=True)\n",
    "print(\"saving at\", figure_name_violated_stack_filepath)\n",
    "plt.savefig(figure_name_violated_stack_filepath, bbox_inches=\"tight\")"
   ],
   "metadata": {
    "collapsed": false,
    "pycharm": {
     "name": "#%%\n"
    }
   }
  }
 ],
 "metadata": {
  "kernelspec": {
   "name": "python37664bitenvslevelsconda0fcbcdd2fdaa4d328ecf1cbcb199e13d",
   "language": "python",
   "display_name": "Python 3.7.6 64-bit ('env_slevels': conda)"
  },
  "language_info": {
   "codemirror_mode": {
    "name": "ipython",
    "version": 2
   },
   "file_extension": ".py",
   "mimetype": "text/x-python",
   "name": "python",
   "nbconvert_exporter": "python",
   "pygments_lexer": "ipython2",
   "version": "2.7.6"
  }
 },
 "nbformat": 4,
 "nbformat_minor": 0
}