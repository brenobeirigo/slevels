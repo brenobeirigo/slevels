{
 "cells": [
  {
   "cell_type": "markdown",
   "source": [
    "# Show service level result_summary"
   ],
   "metadata": {
    "collapsed": false
   }
  },
  {
   "cell_type": "code",
   "execution_count": 165,
   "outputs": [],
   "source": [
    "import sys\n",
    "sys.path.append( '../slevelsutil/' )\n",
    "\n",
    "import file_util as util\n",
    "import df_util\n",
    "from Instance import Instance\n",
    "from ResultTripServiceLevel import ResultTripServiceLevel\n",
    "\n",
    "\n",
    "# Case study\n",
    "test_case = \"standard_vs_enforce_BB\"\n",
    "#instance_settings_path = \"C:/Users/LocalAdmin/IdeaProjects/slevels/src/main/resources/week/enforce_service_levels.json\"\n",
    "#data_dict_path = \"../data/dictionary/request_track_data_dictionary.json\"\n",
    "\n",
    "# Case study plus\n",
    "instance_settings_path = \"C:/Users/LocalAdmin/IdeaProjects/slevels/src/main/resources/day/enforce_sl_all_hierachical_scenarios_150_plus.json\"\n",
    "data_dict_path = \"../data/dictionary/request_track_data_dictionary_plus.json\"\n",
    "\n",
    "# Loading instance data\n",
    "instance = Instance(test_case, instance_settings_path, data_dict_path)\n",
    "\n",
    "# Create trip data\n",
    "tripdata = ResultTripServiceLevel(instance)"
   ],
   "metadata": {
    "collapsed": false,
    "pycharm": {
     "name": "#%%\n"
    }
   }
  },
  {
   "cell_type": "markdown",
   "source": [
    "### Summary data"
   ],
   "metadata": {
    "collapsed": false
   }
  },
  {
   "cell_type": "code",
   "execution_count": 166,
   "outputs": [
    {
     "name": "stdout",
     "output_type": "stream",
     "text": [
      "{'Enforce SL + Hire': 14234, 'Enforce SL': 13972, 'Min. waiting': 13685}\n"
     ]
    },
    {
     "data": {
      "text/plain": "                   First-tier  Second-tier  Serviced  Rejected  Total\nEnforce SL + Hire       13605          629     14234         0  14234\nEnforce SL              12203         1769     13972       262  14234\nMin. waiting             7959         5726     13685       549  14234",
      "text/html": "<div>\n<style scoped>\n    .dataframe tbody tr th:only-of-type {\n        vertical-align: middle;\n    }\n\n    .dataframe tbody tr th {\n        vertical-align: top;\n    }\n\n    .dataframe thead th {\n        text-align: right;\n    }\n</style>\n<table border=\"1\" class=\"dataframe\">\n  <thead>\n    <tr style=\"text-align: right;\">\n      <th></th>\n      <th>First-tier</th>\n      <th>Second-tier</th>\n      <th>Serviced</th>\n      <th>Rejected</th>\n      <th>Total</th>\n    </tr>\n  </thead>\n  <tbody>\n    <tr>\n      <th>Enforce SL + Hire</th>\n      <td>13605</td>\n      <td>629</td>\n      <td>14234</td>\n      <td>0</td>\n      <td>14234</td>\n    </tr>\n    <tr>\n      <th>Enforce SL</th>\n      <td>12203</td>\n      <td>1769</td>\n      <td>13972</td>\n      <td>262</td>\n      <td>14234</td>\n    </tr>\n    <tr>\n      <th>Min. waiting</th>\n      <td>7959</td>\n      <td>5726</td>\n      <td>13685</td>\n      <td>549</td>\n      <td>14234</td>\n    </tr>\n  </tbody>\n</table>\n</div>"
     },
     "execution_count": 166,
     "metadata": {},
     "output_type": "execute_result"
    }
   ],
   "source": [
    "tripdata.df_summary"
   ],
   "metadata": {
    "collapsed": false,
    "pycharm": {
     "name": "#%%\n"
    }
   }
  },
  {
   "cell_type": "markdown",
   "source": [
    "### Summary data (percentages)"
   ],
   "metadata": {
    "collapsed": false
   }
  },
  {
   "cell_type": "code",
   "execution_count": 167,
   "outputs": [
    {
     "name": "stdout",
     "output_type": "stream",
     "text": [
      "{'Enforce SL + Hire': 14234, 'Enforce SL': 13972, 'Min. waiting': 13685}\n"
     ]
    },
    {
     "data": {
      "text/plain": "<pandas.io.formats.style.Styler at 0x21f98ae0408>",
      "text/html": "<style  type=\"text/css\" >\n</style><table id=\"T_e5309b1c_06dc_11eb_8f26_9cda3e9fad9d\" ><thead>    <tr>        <th class=\"blank level0\" ></th>        <th class=\"col_heading level0 col0\" >First-tier</th>        <th class=\"col_heading level0 col1\" >Second-tier</th>        <th class=\"col_heading level0 col2\" >Serviced</th>        <th class=\"col_heading level0 col3\" >Rejected</th>        <th class=\"col_heading level0 col4\" >Total</th>    </tr></thead><tbody>\n                <tr>\n                        <th id=\"T_e5309b1c_06dc_11eb_8f26_9cda3e9fad9dlevel0_row0\" class=\"row_heading level0 row0\" >Enforce SL + Hire</th>\n                        <td id=\"T_e5309b1c_06dc_11eb_8f26_9cda3e9fad9drow0_col0\" class=\"data row0 col0\" >95.58%</td>\n                        <td id=\"T_e5309b1c_06dc_11eb_8f26_9cda3e9fad9drow0_col1\" class=\"data row0 col1\" >4.42%</td>\n                        <td id=\"T_e5309b1c_06dc_11eb_8f26_9cda3e9fad9drow0_col2\" class=\"data row0 col2\" >100.00%</td>\n                        <td id=\"T_e5309b1c_06dc_11eb_8f26_9cda3e9fad9drow0_col3\" class=\"data row0 col3\" >0.00%</td>\n                        <td id=\"T_e5309b1c_06dc_11eb_8f26_9cda3e9fad9drow0_col4\" class=\"data row0 col4\" >100.00%</td>\n            </tr>\n            <tr>\n                        <th id=\"T_e5309b1c_06dc_11eb_8f26_9cda3e9fad9dlevel0_row1\" class=\"row_heading level0 row1\" >Enforce SL</th>\n                        <td id=\"T_e5309b1c_06dc_11eb_8f26_9cda3e9fad9drow1_col0\" class=\"data row1 col0\" >85.73%</td>\n                        <td id=\"T_e5309b1c_06dc_11eb_8f26_9cda3e9fad9drow1_col1\" class=\"data row1 col1\" >12.43%</td>\n                        <td id=\"T_e5309b1c_06dc_11eb_8f26_9cda3e9fad9drow1_col2\" class=\"data row1 col2\" >98.16%</td>\n                        <td id=\"T_e5309b1c_06dc_11eb_8f26_9cda3e9fad9drow1_col3\" class=\"data row1 col3\" >1.84%</td>\n                        <td id=\"T_e5309b1c_06dc_11eb_8f26_9cda3e9fad9drow1_col4\" class=\"data row1 col4\" >100.00%</td>\n            </tr>\n            <tr>\n                        <th id=\"T_e5309b1c_06dc_11eb_8f26_9cda3e9fad9dlevel0_row2\" class=\"row_heading level0 row2\" >Min. waiting</th>\n                        <td id=\"T_e5309b1c_06dc_11eb_8f26_9cda3e9fad9drow2_col0\" class=\"data row2 col0\" >55.92%</td>\n                        <td id=\"T_e5309b1c_06dc_11eb_8f26_9cda3e9fad9drow2_col1\" class=\"data row2 col1\" >40.23%</td>\n                        <td id=\"T_e5309b1c_06dc_11eb_8f26_9cda3e9fad9drow2_col2\" class=\"data row2 col2\" >96.14%</td>\n                        <td id=\"T_e5309b1c_06dc_11eb_8f26_9cda3e9fad9drow2_col3\" class=\"data row2 col3\" >3.86%</td>\n                        <td id=\"T_e5309b1c_06dc_11eb_8f26_9cda3e9fad9drow2_col4\" class=\"data row2 col4\" >100.00%</td>\n            </tr>\n    </tbody></table>"
     },
     "execution_count": 167,
     "metadata": {},
     "output_type": "execute_result"
    }
   ],
   "source": [
    "tripdata.df_summary_percentages\n"
   ],
   "metadata": {
    "collapsed": false,
    "pycharm": {
     "name": "#%%\n"
    }
   }
  },
  {
   "cell_type": "markdown",
   "source": [
    "### Latex"
   ],
   "metadata": {
    "collapsed": false
   }
  },
  {
   "cell_type": "code",
   "execution_count": 168,
   "outputs": [
    {
     "name": "stdout",
     "output_type": "stream",
     "text": [
      "{'Enforce SL + Hire': 14234, 'Enforce SL': 13972, 'Min. waiting': 13685}\n",
      "\\begin{tabular}{lrrrrr}\n",
      "\\toprule\n",
      "{} &  First-tier &  Second-tier &  Serviced &  Rejected &  Total \\\\\n",
      "\\midrule\n",
      "Enforce SL + Hire &       13605 &          629 &     14234 &         0 &  14234 \\\\\n",
      "Enforce SL        &       12203 &         1769 &     13972 &       262 &  14234 \\\\\n",
      "Min. waiting      &        7959 &         5726 &     13685 &       549 &  14234 \\\\\n",
      "\\bottomrule\n",
      "\\end{tabular}\n",
      "\n"
     ]
    }
   ],
   "source": [
    "print(util.df_to_latex(tripdata.df_summary))"
   ],
   "metadata": {
    "collapsed": false,
    "pycharm": {
     "name": "#%%\n"
    }
   }
  },
  {
   "cell_type": "code",
   "execution_count": 169,
   "outputs": [
    {
     "name": "stdout",
     "output_type": "stream",
     "text": [
      "         Status             Policy  SQ Class  Count\n",
      "0      Serviced  Enforce SL + Hire  Business   2277\n",
      "1      Serviced  Enforce SL + Hire  Standard   9717\n",
      "2      Serviced  Enforce SL + Hire  Low-cost   2240\n",
      "3      Serviced         Enforce SL  Business   2243\n",
      "4      Serviced         Enforce SL  Standard   9541\n",
      "5      Serviced         Enforce SL  Low-cost   2188\n",
      "6      Serviced       Min. waiting  Business   2277\n",
      "7      Serviced       Min. waiting  Standard   9485\n",
      "8      Serviced       Min. waiting  Low-cost   1923\n",
      "9      Rejected  Enforce SL + Hire  Business      0\n",
      "10     Rejected  Enforce SL + Hire  Standard      0\n",
      "11     Rejected  Enforce SL + Hire  Low-cost      0\n",
      "12     Rejected         Enforce SL  Business     34\n",
      "13     Rejected         Enforce SL  Standard    176\n",
      "14     Rejected         Enforce SL  Low-cost     52\n",
      "15     Rejected       Min. waiting  Business      0\n",
      "16     Rejected       Min. waiting  Standard    232\n",
      "17     Rejected       Min. waiting  Low-cost    317\n",
      "18   First-tier  Enforce SL + Hire  Business   2192\n",
      "19   First-tier  Enforce SL + Hire  Standard   9173\n",
      "20   First-tier  Enforce SL + Hire  Low-cost   2240\n",
      "21   First-tier         Enforce SL  Business   2021\n",
      "22   First-tier         Enforce SL  Standard   7994\n",
      "23   First-tier         Enforce SL  Low-cost   2188\n",
      "24   First-tier       Min. waiting  Business    590\n",
      "25   First-tier       Min. waiting  Standard   5446\n",
      "26   First-tier       Min. waiting  Low-cost   1923\n",
      "27  Second-tier  Enforce SL + Hire  Business     85\n",
      "28  Second-tier  Enforce SL + Hire  Standard    544\n",
      "29  Second-tier  Enforce SL + Hire  Low-cost      0\n",
      "30  Second-tier         Enforce SL  Business    222\n",
      "31  Second-tier         Enforce SL  Standard   1547\n",
      "32  Second-tier         Enforce SL  Low-cost      0\n",
      "33  Second-tier       Min. waiting  Business   1687\n",
      "34  Second-tier       Min. waiting  Standard   4039\n",
      "35  Second-tier       Min. waiting  Low-cost      0\n"
     ]
    },
    {
     "data": {
      "text/plain": "                                        Count\nSQ Class Status      Policy                  \nBusiness First-tier  Enforce SL          2021\n                     Enforce SL + Hire   2192\n                     Min. waiting         590\n         Rejected    Enforce SL            34\n                     Enforce SL + Hire      0\n                     Min. waiting           0\n         Second-tier Enforce SL           222\n                     Enforce SL + Hire     85\n                     Min. waiting        1687\n         Serviced    Enforce SL          2243\n                     Enforce SL + Hire   2277\n                     Min. waiting        2277\nLow-cost First-tier  Enforce SL          2188\n                     Enforce SL + Hire   2240\n                     Min. waiting        1923\n         Rejected    Enforce SL            52\n                     Enforce SL + Hire      0\n                     Min. waiting         317\n         Second-tier Enforce SL             0\n                     Enforce SL + Hire      0\n                     Min. waiting           0\n         Serviced    Enforce SL          2188\n                     Enforce SL + Hire   2240\n                     Min. waiting        1923\nStandard First-tier  Enforce SL          7994\n                     Enforce SL + Hire   9173\n                     Min. waiting        5446\n         Rejected    Enforce SL           176\n                     Enforce SL + Hire      0\n                     Min. waiting         232\n         Second-tier Enforce SL          1547\n                     Enforce SL + Hire    544\n                     Min. waiting        4039\n         Serviced    Enforce SL          9541\n                     Enforce SL + Hire   9717\n                     Min. waiting        9485",
      "text/html": "<div>\n<style scoped>\n    .dataframe tbody tr th:only-of-type {\n        vertical-align: middle;\n    }\n\n    .dataframe tbody tr th {\n        vertical-align: top;\n    }\n\n    .dataframe thead th {\n        text-align: right;\n    }\n</style>\n<table border=\"1\" class=\"dataframe\">\n  <thead>\n    <tr style=\"text-align: right;\">\n      <th></th>\n      <th></th>\n      <th></th>\n      <th>Count</th>\n    </tr>\n    <tr>\n      <th>SQ Class</th>\n      <th>Status</th>\n      <th>Policy</th>\n      <th></th>\n    </tr>\n  </thead>\n  <tbody>\n    <tr>\n      <th rowspan=\"12\" valign=\"top\">Business</th>\n      <th rowspan=\"3\" valign=\"top\">First-tier</th>\n      <th>Enforce SL</th>\n      <td>2021</td>\n    </tr>\n    <tr>\n      <th>Enforce SL + Hire</th>\n      <td>2192</td>\n    </tr>\n    <tr>\n      <th>Min. waiting</th>\n      <td>590</td>\n    </tr>\n    <tr>\n      <th rowspan=\"3\" valign=\"top\">Rejected</th>\n      <th>Enforce SL</th>\n      <td>34</td>\n    </tr>\n    <tr>\n      <th>Enforce SL + Hire</th>\n      <td>0</td>\n    </tr>\n    <tr>\n      <th>Min. waiting</th>\n      <td>0</td>\n    </tr>\n    <tr>\n      <th rowspan=\"3\" valign=\"top\">Second-tier</th>\n      <th>Enforce SL</th>\n      <td>222</td>\n    </tr>\n    <tr>\n      <th>Enforce SL + Hire</th>\n      <td>85</td>\n    </tr>\n    <tr>\n      <th>Min. waiting</th>\n      <td>1687</td>\n    </tr>\n    <tr>\n      <th rowspan=\"3\" valign=\"top\">Serviced</th>\n      <th>Enforce SL</th>\n      <td>2243</td>\n    </tr>\n    <tr>\n      <th>Enforce SL + Hire</th>\n      <td>2277</td>\n    </tr>\n    <tr>\n      <th>Min. waiting</th>\n      <td>2277</td>\n    </tr>\n    <tr>\n      <th rowspan=\"12\" valign=\"top\">Low-cost</th>\n      <th rowspan=\"3\" valign=\"top\">First-tier</th>\n      <th>Enforce SL</th>\n      <td>2188</td>\n    </tr>\n    <tr>\n      <th>Enforce SL + Hire</th>\n      <td>2240</td>\n    </tr>\n    <tr>\n      <th>Min. waiting</th>\n      <td>1923</td>\n    </tr>\n    <tr>\n      <th rowspan=\"3\" valign=\"top\">Rejected</th>\n      <th>Enforce SL</th>\n      <td>52</td>\n    </tr>\n    <tr>\n      <th>Enforce SL + Hire</th>\n      <td>0</td>\n    </tr>\n    <tr>\n      <th>Min. waiting</th>\n      <td>317</td>\n    </tr>\n    <tr>\n      <th rowspan=\"3\" valign=\"top\">Second-tier</th>\n      <th>Enforce SL</th>\n      <td>0</td>\n    </tr>\n    <tr>\n      <th>Enforce SL + Hire</th>\n      <td>0</td>\n    </tr>\n    <tr>\n      <th>Min. waiting</th>\n      <td>0</td>\n    </tr>\n    <tr>\n      <th rowspan=\"3\" valign=\"top\">Serviced</th>\n      <th>Enforce SL</th>\n      <td>2188</td>\n    </tr>\n    <tr>\n      <th>Enforce SL + Hire</th>\n      <td>2240</td>\n    </tr>\n    <tr>\n      <th>Min. waiting</th>\n      <td>1923</td>\n    </tr>\n    <tr>\n      <th rowspan=\"12\" valign=\"top\">Standard</th>\n      <th rowspan=\"3\" valign=\"top\">First-tier</th>\n      <th>Enforce SL</th>\n      <td>7994</td>\n    </tr>\n    <tr>\n      <th>Enforce SL + Hire</th>\n      <td>9173</td>\n    </tr>\n    <tr>\n      <th>Min. waiting</th>\n      <td>5446</td>\n    </tr>\n    <tr>\n      <th rowspan=\"3\" valign=\"top\">Rejected</th>\n      <th>Enforce SL</th>\n      <td>176</td>\n    </tr>\n    <tr>\n      <th>Enforce SL + Hire</th>\n      <td>0</td>\n    </tr>\n    <tr>\n      <th>Min. waiting</th>\n      <td>232</td>\n    </tr>\n    <tr>\n      <th rowspan=\"3\" valign=\"top\">Second-tier</th>\n      <th>Enforce SL</th>\n      <td>1547</td>\n    </tr>\n    <tr>\n      <th>Enforce SL + Hire</th>\n      <td>544</td>\n    </tr>\n    <tr>\n      <th>Min. waiting</th>\n      <td>4039</td>\n    </tr>\n    <tr>\n      <th rowspan=\"3\" valign=\"top\">Serviced</th>\n      <th>Enforce SL</th>\n      <td>9541</td>\n    </tr>\n    <tr>\n      <th>Enforce SL + Hire</th>\n      <td>9717</td>\n    </tr>\n    <tr>\n      <th>Min. waiting</th>\n      <td>9485</td>\n    </tr>\n  </tbody>\n</table>\n</div>"
     },
     "execution_count": 169,
     "metadata": {},
     "output_type": "execute_result"
    }
   ],
   "source": [
    "df_summary_class_status_method = tripdata.df_summary_class_status_method\n",
    "df_summary_class_status_method"
   ],
   "metadata": {
    "collapsed": false,
    "pycharm": {
     "name": "#%%\n"
    }
   }
  },
  {
   "cell_type": "markdown",
   "source": [
    "## All totals"
   ],
   "metadata": {
    "collapsed": false,
    "pycharm": {
     "name": "#%% md\n"
    }
   }
  },
  {
   "cell_type": "code",
   "execution_count": 170,
   "outputs": [
    {
     "name": "stdout",
     "output_type": "stream",
     "text": [
      "{'Enforce SL + Hire': 14234, 'Enforce SL': 13972}\n",
      "{'Enforce SL + Hire': 14234, 'Enforce SL': 14002}\n",
      "{'Enforce SL + Hire': 14234, 'Enforce SL': 13976}\n",
      "{'Min. waiting': 13685}\n",
      "{'Enforce SL + Hire': 14182, 'Enforce SL': 13920}\n",
      "{'Enforce SL + Hire': 14234, 'Enforce SL': 13915}\n",
      "{'Enforce SL + Hire': 14140, 'Enforce SL': 13950}\n",
      "{'Min. waiting': 13740}\n",
      "{'Enforce SL + Hire': 14234, 'Enforce SL': 12124}\n",
      "{'Enforce SL + Hire': 14234, 'Enforce SL': 12088}\n",
      "{'Enforce SL + Hire': 14234, 'Enforce SL': 12112}\n",
      "{'Min. waiting': 12098}\n"
     ]
    }
   ],
   "source": [
    "# Case study plus\n",
    "instance_settings_path = \"C:/Users/LocalAdmin/IdeaProjects/slevels/src/main/resources/day/enforce_sl_all_hierachical_scenarios_150_plus.json\"\n",
    "data_dict_path = \"../data/dictionary/request_track_data_dictionary_plus_all.json\"\n",
    "\n",
    "cases = {\n",
    "    (\"90%\",\"S+\"):\"standard_vs_enforce_BB\",\n",
    "    (\"100%\",\"S+\"):\"standard_vs_enforce_BB_S10\",\n",
    "    (\"80%\",\"S+\"):\"standard_vs_enforce_BB_S8\",\n",
    "    (\"-\",\"S+\"):\"standard_vs_enforce_BB_S0\",\n",
    "    (\"90%\",\"L+\"):\"standard_vs_enforce_CC\",\n",
    "    (\"100%\",\"L+\"):\"standard_vs_enforce_CC_S10\",\n",
    "    (\"80%\",\"L+\"):\"standard_vs_enforce_CC_S8\",\n",
    "    (\"-\",\"L+\"):\"standard_vs_enforce_CC_S0\",\n",
    "    (\"90%\",\"B+\"):\"standard_vs_enforce_AA\",\n",
    "    (\"100%\",\"B+\"):\"standard_vs_enforce_AA_S10\",\n",
    "    (\"80%\",\"B+\"):\"standard_vs_enforce_AA_S8\",\n",
    "    (\"-\",\"B+\"):\"standard_vs_enforce_AA_S0\"\n",
    "}\n",
    "\n",
    "df_counts = []\n",
    "for (rate, ub), test_case in cases.items():\n",
    "    instance = Instance(test_case, instance_settings_path, data_dict_path)\n",
    "    tripdata = ResultTripServiceLevel(instance)\n",
    "    summary_counts = tripdata.df_summary\n",
    "    summary_counts[instance.headers[\"service_rate\"]] = rate\n",
    "    summary_counts[instance.headers[\"customer_segmentation\"]] = ub\n",
    "    df_counts.append(summary_counts)\n"
   ],
   "metadata": {
    "collapsed": false,
    "pycharm": {
     "name": "#%%\n"
    }
   }
  },
  {
   "cell_type": "code",
   "execution_count": 171,
   "outputs": [],
   "source": [
    "import pandas as pd\n",
    "df_total_counts = pd.concat(df_counts)"
   ],
   "metadata": {
    "collapsed": false,
    "pycharm": {
     "name": "#%%\n"
    }
   }
  },
  {
   "cell_type": "code",
   "execution_count": 172,
   "outputs": [
    {
     "data": {
      "text/plain": "               Policy  First-tier  Second-tier  Serviced  Rejected  Total  \\\n0   Enforce SL + Hire       13605          629     14234         0  14234   \n1          Enforce SL       12203         1769     13972       262  14234   \n2   Enforce SL + Hire       14234            0     14234         0  14234   \n3          Enforce SL       12340         1662     14002       232  14234   \n4   Enforce SL + Hire       12960         1274     14234         0  14234   \n5          Enforce SL       12182         1794     13976       258  14234   \n6        Min. waiting        7959         5726     13685       549  14234   \n7   Enforce SL + Hire       13956          226     14182        52  14234   \n8          Enforce SL       13390          530     13920       314  14234   \n9   Enforce SL + Hire       14234            0     14234         0  14234   \n10         Enforce SL       13439          476     13915       319  14234   \n11  Enforce SL + Hire       13685          455     14140        94  14234   \n12         Enforce SL       13311          639     13950       284  14234   \n13       Min. waiting       11178         2562     13740       494  14234   \n14  Enforce SL + Hire       13652          582     14234         0  14234   \n15         Enforce SL        7972         4152     12124      2110  14234   \n16  Enforce SL + Hire       14234            0     14234         0  14234   \n17         Enforce SL        8091         3997     12088      2146  14234   \n18  Enforce SL + Hire       13093         1141     14234         0  14234   \n19         Enforce SL        7874         4238     12112      2122  14234   \n20       Min. waiting        5316         6782     12098      2136  14234   \n\n   Service rate User base  \n0           90%        S+  \n1           90%        S+  \n2          100%        S+  \n3          100%        S+  \n4           80%        S+  \n5           80%        S+  \n6             -        S+  \n7           90%        L+  \n8           90%        L+  \n9          100%        L+  \n10         100%        L+  \n11          80%        L+  \n12          80%        L+  \n13            -        L+  \n14          90%        B+  \n15          90%        B+  \n16         100%        B+  \n17         100%        B+  \n18          80%        B+  \n19          80%        B+  \n20            -        B+  ",
      "text/html": "<div>\n<style scoped>\n    .dataframe tbody tr th:only-of-type {\n        vertical-align: middle;\n    }\n\n    .dataframe tbody tr th {\n        vertical-align: top;\n    }\n\n    .dataframe thead th {\n        text-align: right;\n    }\n</style>\n<table border=\"1\" class=\"dataframe\">\n  <thead>\n    <tr style=\"text-align: right;\">\n      <th></th>\n      <th>Policy</th>\n      <th>First-tier</th>\n      <th>Second-tier</th>\n      <th>Serviced</th>\n      <th>Rejected</th>\n      <th>Total</th>\n      <th>Service rate</th>\n      <th>User base</th>\n    </tr>\n  </thead>\n  <tbody>\n    <tr>\n      <th>0</th>\n      <td>Enforce SL + Hire</td>\n      <td>13605</td>\n      <td>629</td>\n      <td>14234</td>\n      <td>0</td>\n      <td>14234</td>\n      <td>90%</td>\n      <td>S+</td>\n    </tr>\n    <tr>\n      <th>1</th>\n      <td>Enforce SL</td>\n      <td>12203</td>\n      <td>1769</td>\n      <td>13972</td>\n      <td>262</td>\n      <td>14234</td>\n      <td>90%</td>\n      <td>S+</td>\n    </tr>\n    <tr>\n      <th>2</th>\n      <td>Enforce SL + Hire</td>\n      <td>14234</td>\n      <td>0</td>\n      <td>14234</td>\n      <td>0</td>\n      <td>14234</td>\n      <td>100%</td>\n      <td>S+</td>\n    </tr>\n    <tr>\n      <th>3</th>\n      <td>Enforce SL</td>\n      <td>12340</td>\n      <td>1662</td>\n      <td>14002</td>\n      <td>232</td>\n      <td>14234</td>\n      <td>100%</td>\n      <td>S+</td>\n    </tr>\n    <tr>\n      <th>4</th>\n      <td>Enforce SL + Hire</td>\n      <td>12960</td>\n      <td>1274</td>\n      <td>14234</td>\n      <td>0</td>\n      <td>14234</td>\n      <td>80%</td>\n      <td>S+</td>\n    </tr>\n    <tr>\n      <th>5</th>\n      <td>Enforce SL</td>\n      <td>12182</td>\n      <td>1794</td>\n      <td>13976</td>\n      <td>258</td>\n      <td>14234</td>\n      <td>80%</td>\n      <td>S+</td>\n    </tr>\n    <tr>\n      <th>6</th>\n      <td>Min. waiting</td>\n      <td>7959</td>\n      <td>5726</td>\n      <td>13685</td>\n      <td>549</td>\n      <td>14234</td>\n      <td>-</td>\n      <td>S+</td>\n    </tr>\n    <tr>\n      <th>7</th>\n      <td>Enforce SL + Hire</td>\n      <td>13956</td>\n      <td>226</td>\n      <td>14182</td>\n      <td>52</td>\n      <td>14234</td>\n      <td>90%</td>\n      <td>L+</td>\n    </tr>\n    <tr>\n      <th>8</th>\n      <td>Enforce SL</td>\n      <td>13390</td>\n      <td>530</td>\n      <td>13920</td>\n      <td>314</td>\n      <td>14234</td>\n      <td>90%</td>\n      <td>L+</td>\n    </tr>\n    <tr>\n      <th>9</th>\n      <td>Enforce SL + Hire</td>\n      <td>14234</td>\n      <td>0</td>\n      <td>14234</td>\n      <td>0</td>\n      <td>14234</td>\n      <td>100%</td>\n      <td>L+</td>\n    </tr>\n    <tr>\n      <th>10</th>\n      <td>Enforce SL</td>\n      <td>13439</td>\n      <td>476</td>\n      <td>13915</td>\n      <td>319</td>\n      <td>14234</td>\n      <td>100%</td>\n      <td>L+</td>\n    </tr>\n    <tr>\n      <th>11</th>\n      <td>Enforce SL + Hire</td>\n      <td>13685</td>\n      <td>455</td>\n      <td>14140</td>\n      <td>94</td>\n      <td>14234</td>\n      <td>80%</td>\n      <td>L+</td>\n    </tr>\n    <tr>\n      <th>12</th>\n      <td>Enforce SL</td>\n      <td>13311</td>\n      <td>639</td>\n      <td>13950</td>\n      <td>284</td>\n      <td>14234</td>\n      <td>80%</td>\n      <td>L+</td>\n    </tr>\n    <tr>\n      <th>13</th>\n      <td>Min. waiting</td>\n      <td>11178</td>\n      <td>2562</td>\n      <td>13740</td>\n      <td>494</td>\n      <td>14234</td>\n      <td>-</td>\n      <td>L+</td>\n    </tr>\n    <tr>\n      <th>14</th>\n      <td>Enforce SL + Hire</td>\n      <td>13652</td>\n      <td>582</td>\n      <td>14234</td>\n      <td>0</td>\n      <td>14234</td>\n      <td>90%</td>\n      <td>B+</td>\n    </tr>\n    <tr>\n      <th>15</th>\n      <td>Enforce SL</td>\n      <td>7972</td>\n      <td>4152</td>\n      <td>12124</td>\n      <td>2110</td>\n      <td>14234</td>\n      <td>90%</td>\n      <td>B+</td>\n    </tr>\n    <tr>\n      <th>16</th>\n      <td>Enforce SL + Hire</td>\n      <td>14234</td>\n      <td>0</td>\n      <td>14234</td>\n      <td>0</td>\n      <td>14234</td>\n      <td>100%</td>\n      <td>B+</td>\n    </tr>\n    <tr>\n      <th>17</th>\n      <td>Enforce SL</td>\n      <td>8091</td>\n      <td>3997</td>\n      <td>12088</td>\n      <td>2146</td>\n      <td>14234</td>\n      <td>100%</td>\n      <td>B+</td>\n    </tr>\n    <tr>\n      <th>18</th>\n      <td>Enforce SL + Hire</td>\n      <td>13093</td>\n      <td>1141</td>\n      <td>14234</td>\n      <td>0</td>\n      <td>14234</td>\n      <td>80%</td>\n      <td>B+</td>\n    </tr>\n    <tr>\n      <th>19</th>\n      <td>Enforce SL</td>\n      <td>7874</td>\n      <td>4238</td>\n      <td>12112</td>\n      <td>2122</td>\n      <td>14234</td>\n      <td>80%</td>\n      <td>B+</td>\n    </tr>\n    <tr>\n      <th>20</th>\n      <td>Min. waiting</td>\n      <td>5316</td>\n      <td>6782</td>\n      <td>12098</td>\n      <td>2136</td>\n      <td>14234</td>\n      <td>-</td>\n      <td>B+</td>\n    </tr>\n  </tbody>\n</table>\n</div>"
     },
     "execution_count": 172,
     "metadata": {},
     "output_type": "execute_result"
    }
   ],
   "source": [
    "df_total_percentages = df_total_counts.copy().reset_index()\n",
    "df_total_percentages = df_total_percentages.rename(columns={\"index\":instance.headers[\"method\"]})\n",
    "df_total_percentages"
   ],
   "metadata": {
    "collapsed": false,
    "pycharm": {
     "name": "#%%\n"
    }
   }
  },
  {
   "cell_type": "code",
   "execution_count": 173,
   "outputs": [
    {
     "data": {
      "text/plain": "               Policy  First-tier  Second-tier  Serviced  Rejected  Total  \\\n0   Enforce SL + Hire       13605          629     14234         0  14234   \n1          Enforce SL       12203         1769     13972       262  14234   \n2   Enforce SL + Hire       14234            0     14234         0  14234   \n3          Enforce SL       12340         1662     14002       232  14234   \n4   Enforce SL + Hire       12960         1274     14234         0  14234   \n5          Enforce SL       12182         1794     13976       258  14234   \n6        Min. waiting        7959         5726     13685       549  14234   \n7   Enforce SL + Hire       13956          226     14182        52  14234   \n8          Enforce SL       13390          530     13920       314  14234   \n9   Enforce SL + Hire       14234            0     14234         0  14234   \n10         Enforce SL       13439          476     13915       319  14234   \n11  Enforce SL + Hire       13685          455     14140        94  14234   \n12         Enforce SL       13311          639     13950       284  14234   \n13       Min. waiting       11178         2562     13740       494  14234   \n14  Enforce SL + Hire       13652          582     14234         0  14234   \n15         Enforce SL        7972         4152     12124      2110  14234   \n16  Enforce SL + Hire       14234            0     14234         0  14234   \n17         Enforce SL        8091         3997     12088      2146  14234   \n18  Enforce SL + Hire       13093         1141     14234         0  14234   \n19         Enforce SL        7874         4238     12112      2122  14234   \n20       Min. waiting        5316         6782     12098      2136  14234   \n\n   Service rate User base  \n0           90%        S+  \n1           90%        S+  \n2          100%        S+  \n3          100%        S+  \n4           80%        S+  \n5           80%        S+  \n6             -        S+  \n7           90%        L+  \n8           90%        L+  \n9          100%        L+  \n10         100%        L+  \n11          80%        L+  \n12          80%        L+  \n13            -        L+  \n14          90%        B+  \n15          90%        B+  \n16         100%        B+  \n17         100%        B+  \n18          80%        B+  \n19          80%        B+  \n20            -        B+  ",
      "text/html": "<div>\n<style scoped>\n    .dataframe tbody tr th:only-of-type {\n        vertical-align: middle;\n    }\n\n    .dataframe tbody tr th {\n        vertical-align: top;\n    }\n\n    .dataframe thead th {\n        text-align: right;\n    }\n</style>\n<table border=\"1\" class=\"dataframe\">\n  <thead>\n    <tr style=\"text-align: right;\">\n      <th></th>\n      <th>Policy</th>\n      <th>First-tier</th>\n      <th>Second-tier</th>\n      <th>Serviced</th>\n      <th>Rejected</th>\n      <th>Total</th>\n      <th>Service rate</th>\n      <th>User base</th>\n    </tr>\n  </thead>\n  <tbody>\n    <tr>\n      <th>0</th>\n      <td>Enforce SL + Hire</td>\n      <td>13605</td>\n      <td>629</td>\n      <td>14234</td>\n      <td>0</td>\n      <td>14234</td>\n      <td>90%</td>\n      <td>S+</td>\n    </tr>\n    <tr>\n      <th>1</th>\n      <td>Enforce SL</td>\n      <td>12203</td>\n      <td>1769</td>\n      <td>13972</td>\n      <td>262</td>\n      <td>14234</td>\n      <td>90%</td>\n      <td>S+</td>\n    </tr>\n    <tr>\n      <th>2</th>\n      <td>Enforce SL + Hire</td>\n      <td>14234</td>\n      <td>0</td>\n      <td>14234</td>\n      <td>0</td>\n      <td>14234</td>\n      <td>100%</td>\n      <td>S+</td>\n    </tr>\n    <tr>\n      <th>3</th>\n      <td>Enforce SL</td>\n      <td>12340</td>\n      <td>1662</td>\n      <td>14002</td>\n      <td>232</td>\n      <td>14234</td>\n      <td>100%</td>\n      <td>S+</td>\n    </tr>\n    <tr>\n      <th>4</th>\n      <td>Enforce SL + Hire</td>\n      <td>12960</td>\n      <td>1274</td>\n      <td>14234</td>\n      <td>0</td>\n      <td>14234</td>\n      <td>80%</td>\n      <td>S+</td>\n    </tr>\n    <tr>\n      <th>5</th>\n      <td>Enforce SL</td>\n      <td>12182</td>\n      <td>1794</td>\n      <td>13976</td>\n      <td>258</td>\n      <td>14234</td>\n      <td>80%</td>\n      <td>S+</td>\n    </tr>\n    <tr>\n      <th>6</th>\n      <td>Min. waiting</td>\n      <td>7959</td>\n      <td>5726</td>\n      <td>13685</td>\n      <td>549</td>\n      <td>14234</td>\n      <td>-</td>\n      <td>S+</td>\n    </tr>\n    <tr>\n      <th>7</th>\n      <td>Enforce SL + Hire</td>\n      <td>13956</td>\n      <td>226</td>\n      <td>14182</td>\n      <td>52</td>\n      <td>14234</td>\n      <td>90%</td>\n      <td>L+</td>\n    </tr>\n    <tr>\n      <th>8</th>\n      <td>Enforce SL</td>\n      <td>13390</td>\n      <td>530</td>\n      <td>13920</td>\n      <td>314</td>\n      <td>14234</td>\n      <td>90%</td>\n      <td>L+</td>\n    </tr>\n    <tr>\n      <th>9</th>\n      <td>Enforce SL + Hire</td>\n      <td>14234</td>\n      <td>0</td>\n      <td>14234</td>\n      <td>0</td>\n      <td>14234</td>\n      <td>100%</td>\n      <td>L+</td>\n    </tr>\n    <tr>\n      <th>10</th>\n      <td>Enforce SL</td>\n      <td>13439</td>\n      <td>476</td>\n      <td>13915</td>\n      <td>319</td>\n      <td>14234</td>\n      <td>100%</td>\n      <td>L+</td>\n    </tr>\n    <tr>\n      <th>11</th>\n      <td>Enforce SL + Hire</td>\n      <td>13685</td>\n      <td>455</td>\n      <td>14140</td>\n      <td>94</td>\n      <td>14234</td>\n      <td>80%</td>\n      <td>L+</td>\n    </tr>\n    <tr>\n      <th>12</th>\n      <td>Enforce SL</td>\n      <td>13311</td>\n      <td>639</td>\n      <td>13950</td>\n      <td>284</td>\n      <td>14234</td>\n      <td>80%</td>\n      <td>L+</td>\n    </tr>\n    <tr>\n      <th>13</th>\n      <td>Min. waiting</td>\n      <td>11178</td>\n      <td>2562</td>\n      <td>13740</td>\n      <td>494</td>\n      <td>14234</td>\n      <td>-</td>\n      <td>L+</td>\n    </tr>\n    <tr>\n      <th>14</th>\n      <td>Enforce SL + Hire</td>\n      <td>13652</td>\n      <td>582</td>\n      <td>14234</td>\n      <td>0</td>\n      <td>14234</td>\n      <td>90%</td>\n      <td>B+</td>\n    </tr>\n    <tr>\n      <th>15</th>\n      <td>Enforce SL</td>\n      <td>7972</td>\n      <td>4152</td>\n      <td>12124</td>\n      <td>2110</td>\n      <td>14234</td>\n      <td>90%</td>\n      <td>B+</td>\n    </tr>\n    <tr>\n      <th>16</th>\n      <td>Enforce SL + Hire</td>\n      <td>14234</td>\n      <td>0</td>\n      <td>14234</td>\n      <td>0</td>\n      <td>14234</td>\n      <td>100%</td>\n      <td>B+</td>\n    </tr>\n    <tr>\n      <th>17</th>\n      <td>Enforce SL</td>\n      <td>8091</td>\n      <td>3997</td>\n      <td>12088</td>\n      <td>2146</td>\n      <td>14234</td>\n      <td>100%</td>\n      <td>B+</td>\n    </tr>\n    <tr>\n      <th>18</th>\n      <td>Enforce SL + Hire</td>\n      <td>13093</td>\n      <td>1141</td>\n      <td>14234</td>\n      <td>0</td>\n      <td>14234</td>\n      <td>80%</td>\n      <td>B+</td>\n    </tr>\n    <tr>\n      <th>19</th>\n      <td>Enforce SL</td>\n      <td>7874</td>\n      <td>4238</td>\n      <td>12112</td>\n      <td>2122</td>\n      <td>14234</td>\n      <td>80%</td>\n      <td>B+</td>\n    </tr>\n    <tr>\n      <th>20</th>\n      <td>Min. waiting</td>\n      <td>5316</td>\n      <td>6782</td>\n      <td>12098</td>\n      <td>2136</td>\n      <td>14234</td>\n      <td>-</td>\n      <td>B+</td>\n    </tr>\n  </tbody>\n</table>\n</div>"
     },
     "execution_count": 173,
     "metadata": {},
     "output_type": "execute_result"
    }
   ],
   "source": [
    "df_total_percentages = instance.apply_categories_columns(df_total_percentages, [\"customer_segmentation\", \"service_rate\", \"method\"])\n",
    "df_total_percentages"
   ],
   "metadata": {
    "collapsed": false,
    "pycharm": {
     "name": "#%%\n"
    }
   }
  },
  {
   "cell_type": "code",
   "execution_count": 174,
   "outputs": [
    {
     "name": "stderr",
     "output_type": "stream",
     "text": [
      "C:\\Users\\LocalAdmin\\anaconda3\\envs\\env_slevels\\lib\\site-packages\\ipykernel_launcher.py:3: SettingWithCopyWarning: \n",
      "A value is trying to be set on a copy of a slice from a DataFrame.\n",
      "Try using .loc[row_indexer,col_indexer] = value instead\n",
      "\n",
      "See the caveats in the documentation: https://pandas.pydata.org/pandas-docs/stable/user_guide/indexing.html#returning-a-view-versus-a-copy\n",
      "  This is separate from the ipykernel package so we can avoid doing imports until\n"
     ]
    }
   ],
   "source": [
    "index = [instance.headers[\"customer_segmentation\"], instance.headers[\"service_rate\"], instance.headers[\"method\"]]\n",
    "df_total_percentages = df_total_percentages[index + [\"First-tier\", \"Second-tier\", \"Rejected\", \"Serviced\", \"Total\"]]\n",
    "df_total_percentages[\"Unmet SL\"] = df_total_percentages[\"Second-tier\"] - df_total_percentages[\"Rejected\"]\n",
    "#df_total_percentages[\"space1\"] = \"\"\n",
    "df_total_percentages.set_index(index, inplace=True)\n",
    "df_total_percentages = df_total_percentages.apply(lambda row: row / row[\"Total\"], axis=1)\n",
    "df_total_percentages = df_total_percentages.reset_index()\n",
    "df_total_percentages = df_total_percentages[index + [\"First-tier\", \"Unmet SL\", \"Rejected\", \"Serviced\"]]\n",
    "df_total_percentages.set_index(index, inplace=True)"
   ],
   "metadata": {
    "collapsed": false,
    "pycharm": {
     "name": "#%%\n"
    }
   }
  },
  {
   "cell_type": "code",
   "execution_count": 175,
   "outputs": [
    {
     "data": {
      "text/plain": "                                         Serviced First-tier space1 Unmet SL  \\\nUser base Service rate Policy                                                  \nB+        -            Min. waiting        84.99%     37.35%          32.64%   \n          80%          Enforce SL          85.09%     55.32%          14.87%   \n                       Enforce SL + Hire  100.00%     91.98%           8.02%   \n          90%          Enforce SL          85.18%     56.01%          14.35%   \n                       Enforce SL + Hire  100.00%     95.91%           4.09%   \n          100%         Enforce SL          84.92%     56.84%          13.00%   \n                       Enforce SL + Hire  100.00%    100.00%               -   \nS+        -            Min. waiting        96.14%     55.92%          36.37%   \n          80%          Enforce SL          98.19%     85.58%          10.79%   \n                       Enforce SL + Hire  100.00%     91.05%           8.95%   \n          90%          Enforce SL          98.16%     85.73%          10.59%   \n                       Enforce SL + Hire  100.00%     95.58%           4.42%   \n          100%         Enforce SL          98.37%     86.69%          10.05%   \n                       Enforce SL + Hire  100.00%    100.00%               -   \nL+        -            Min. waiting        96.53%     78.53%          14.53%   \n          80%          Enforce SL          98.00%     93.52%           2.49%   \n                       Enforce SL + Hire   99.34%     96.14%           2.54%   \n          90%          Enforce SL          97.79%     94.07%           1.52%   \n                       Enforce SL + Hire   99.63%     98.05%           1.22%   \n          100%         Enforce SL          97.76%     94.41%           1.10%   \n                       Enforce SL + Hire  100.00%    100.00%               -   \n\n                                         Rejected space1  \nUser base Service rate Policy                             \nB+        -            Min. waiting        15.01%         \n          80%          Enforce SL          14.91%         \n                       Enforce SL + Hire        -         \n          90%          Enforce SL          14.82%         \n                       Enforce SL + Hire        -         \n          100%         Enforce SL          15.08%         \n                       Enforce SL + Hire        -         \nS+        -            Min. waiting         3.86%         \n          80%          Enforce SL           1.81%         \n                       Enforce SL + Hire        -         \n          90%          Enforce SL           1.84%         \n                       Enforce SL + Hire        -         \n          100%         Enforce SL           1.63%         \n                       Enforce SL + Hire        -         \nL+        -            Min. waiting         3.47%         \n          80%          Enforce SL           2.00%         \n                       Enforce SL + Hire    0.66%         \n          90%          Enforce SL           2.21%         \n                       Enforce SL + Hire    0.37%         \n          100%         Enforce SL           2.24%         \n                       Enforce SL + Hire        -         ",
      "text/html": "<div>\n<style scoped>\n    .dataframe tbody tr th:only-of-type {\n        vertical-align: middle;\n    }\n\n    .dataframe tbody tr th {\n        vertical-align: top;\n    }\n\n    .dataframe thead th {\n        text-align: right;\n    }\n</style>\n<table border=\"1\" class=\"dataframe\">\n  <thead>\n    <tr style=\"text-align: right;\">\n      <th></th>\n      <th></th>\n      <th></th>\n      <th>Serviced</th>\n      <th>First-tier</th>\n      <th>space1</th>\n      <th>Unmet SL</th>\n      <th>Rejected</th>\n      <th>space1</th>\n    </tr>\n    <tr>\n      <th>User base</th>\n      <th>Service rate</th>\n      <th>Policy</th>\n      <th></th>\n      <th></th>\n      <th></th>\n      <th></th>\n      <th></th>\n      <th></th>\n    </tr>\n  </thead>\n  <tbody>\n    <tr>\n      <th rowspan=\"7\" valign=\"top\">B+</th>\n      <th>-</th>\n      <th>Min. waiting</th>\n      <td>84.99%</td>\n      <td>37.35%</td>\n      <td></td>\n      <td>32.64%</td>\n      <td>15.01%</td>\n      <td></td>\n    </tr>\n    <tr>\n      <th rowspan=\"2\" valign=\"top\">80%</th>\n      <th>Enforce SL</th>\n      <td>85.09%</td>\n      <td>55.32%</td>\n      <td></td>\n      <td>14.87%</td>\n      <td>14.91%</td>\n      <td></td>\n    </tr>\n    <tr>\n      <th>Enforce SL + Hire</th>\n      <td>100.00%</td>\n      <td>91.98%</td>\n      <td></td>\n      <td>8.02%</td>\n      <td>-</td>\n      <td></td>\n    </tr>\n    <tr>\n      <th rowspan=\"2\" valign=\"top\">90%</th>\n      <th>Enforce SL</th>\n      <td>85.18%</td>\n      <td>56.01%</td>\n      <td></td>\n      <td>14.35%</td>\n      <td>14.82%</td>\n      <td></td>\n    </tr>\n    <tr>\n      <th>Enforce SL + Hire</th>\n      <td>100.00%</td>\n      <td>95.91%</td>\n      <td></td>\n      <td>4.09%</td>\n      <td>-</td>\n      <td></td>\n    </tr>\n    <tr>\n      <th rowspan=\"2\" valign=\"top\">100%</th>\n      <th>Enforce SL</th>\n      <td>84.92%</td>\n      <td>56.84%</td>\n      <td></td>\n      <td>13.00%</td>\n      <td>15.08%</td>\n      <td></td>\n    </tr>\n    <tr>\n      <th>Enforce SL + Hire</th>\n      <td>100.00%</td>\n      <td>100.00%</td>\n      <td></td>\n      <td>-</td>\n      <td>-</td>\n      <td></td>\n    </tr>\n    <tr>\n      <th rowspan=\"7\" valign=\"top\">S+</th>\n      <th>-</th>\n      <th>Min. waiting</th>\n      <td>96.14%</td>\n      <td>55.92%</td>\n      <td></td>\n      <td>36.37%</td>\n      <td>3.86%</td>\n      <td></td>\n    </tr>\n    <tr>\n      <th rowspan=\"2\" valign=\"top\">80%</th>\n      <th>Enforce SL</th>\n      <td>98.19%</td>\n      <td>85.58%</td>\n      <td></td>\n      <td>10.79%</td>\n      <td>1.81%</td>\n      <td></td>\n    </tr>\n    <tr>\n      <th>Enforce SL + Hire</th>\n      <td>100.00%</td>\n      <td>91.05%</td>\n      <td></td>\n      <td>8.95%</td>\n      <td>-</td>\n      <td></td>\n    </tr>\n    <tr>\n      <th rowspan=\"2\" valign=\"top\">90%</th>\n      <th>Enforce SL</th>\n      <td>98.16%</td>\n      <td>85.73%</td>\n      <td></td>\n      <td>10.59%</td>\n      <td>1.84%</td>\n      <td></td>\n    </tr>\n    <tr>\n      <th>Enforce SL + Hire</th>\n      <td>100.00%</td>\n      <td>95.58%</td>\n      <td></td>\n      <td>4.42%</td>\n      <td>-</td>\n      <td></td>\n    </tr>\n    <tr>\n      <th rowspan=\"2\" valign=\"top\">100%</th>\n      <th>Enforce SL</th>\n      <td>98.37%</td>\n      <td>86.69%</td>\n      <td></td>\n      <td>10.05%</td>\n      <td>1.63%</td>\n      <td></td>\n    </tr>\n    <tr>\n      <th>Enforce SL + Hire</th>\n      <td>100.00%</td>\n      <td>100.00%</td>\n      <td></td>\n      <td>-</td>\n      <td>-</td>\n      <td></td>\n    </tr>\n    <tr>\n      <th rowspan=\"7\" valign=\"top\">L+</th>\n      <th>-</th>\n      <th>Min. waiting</th>\n      <td>96.53%</td>\n      <td>78.53%</td>\n      <td></td>\n      <td>14.53%</td>\n      <td>3.47%</td>\n      <td></td>\n    </tr>\n    <tr>\n      <th rowspan=\"2\" valign=\"top\">80%</th>\n      <th>Enforce SL</th>\n      <td>98.00%</td>\n      <td>93.52%</td>\n      <td></td>\n      <td>2.49%</td>\n      <td>2.00%</td>\n      <td></td>\n    </tr>\n    <tr>\n      <th>Enforce SL + Hire</th>\n      <td>99.34%</td>\n      <td>96.14%</td>\n      <td></td>\n      <td>2.54%</td>\n      <td>0.66%</td>\n      <td></td>\n    </tr>\n    <tr>\n      <th rowspan=\"2\" valign=\"top\">90%</th>\n      <th>Enforce SL</th>\n      <td>97.79%</td>\n      <td>94.07%</td>\n      <td></td>\n      <td>1.52%</td>\n      <td>2.21%</td>\n      <td></td>\n    </tr>\n    <tr>\n      <th>Enforce SL + Hire</th>\n      <td>99.63%</td>\n      <td>98.05%</td>\n      <td></td>\n      <td>1.22%</td>\n      <td>0.37%</td>\n      <td></td>\n    </tr>\n    <tr>\n      <th rowspan=\"2\" valign=\"top\">100%</th>\n      <th>Enforce SL</th>\n      <td>97.76%</td>\n      <td>94.41%</td>\n      <td></td>\n      <td>1.10%</td>\n      <td>2.24%</td>\n      <td></td>\n    </tr>\n    <tr>\n      <th>Enforce SL + Hire</th>\n      <td>100.00%</td>\n      <td>100.00%</td>\n      <td></td>\n      <td>-</td>\n      <td>-</td>\n      <td></td>\n    </tr>\n  </tbody>\n</table>\n</div>"
     },
     "execution_count": 175,
     "metadata": {},
     "output_type": "execute_result"
    }
   ],
   "source": [
    "df_total_percentages = df_util.format_as_percentage(df_total_percentages , cases=2, small=None).reset_index()\n",
    "df_total_percentages[\"space1\"]=\"\"\n",
    "df_total_percentages[\"space2\"]=\"\"\n",
    "df_total_percentages = df_total_percentages[index+[\"Serviced\", \"First-tier\", \"space1\", \"Unmet SL\", \"Rejected\", \"space1\"]]\n",
    "df_total_percentages = df_total_percentages.sort_values(by=index)\n",
    "df_total_percentages.set_index(index, inplace=True)\n",
    "df_total_percentages"
   ],
   "metadata": {
    "collapsed": false,
    "pycharm": {
     "name": "#%%\n"
    }
   }
  },
  {
   "cell_type": "code",
   "execution_count": 176,
   "outputs": [
    {
     "name": "stdout",
     "output_type": "stream",
     "text": [
      "\\begin{tabular}{lllllllll}\n",
      "\\toprule\n",
      "   &      &                   & Serviced & First-tier & space1 & Unmet SL & Rejected & space1 \\\\\n",
      "User base & Service rate & Policy &          &            &        &          &          &        \\\\\n",
      "\\midrule\n",
      "\\multirow{7}{*}{B+} & - & Min. waiting &   84.99\\% &     37.35\\% &        &   32.64\\% &   15.01\\% &        \\\\\n",
      "   & \\multirow{2}{*}{80\\%} & Enforce SL &   85.09\\% &     55.32\\% &        &   14.87\\% &   14.91\\% &        \\\\\n",
      "   &      & Enforce SL + Hire &  100.00\\% &     91.98\\% &        &    8.02\\% &        - &        \\\\\n",
      "\\cline{2-9}\n",
      "   & \\multirow{2}{*}{90\\%} & Enforce SL &   85.18\\% &     56.01\\% &        &   14.35\\% &   14.82\\% &        \\\\\n",
      "   &      & Enforce SL + Hire &  100.00\\% &     95.91\\% &        &    4.09\\% &        - &        \\\\\n",
      "\\cline{2-9}\n",
      "   & \\multirow{2}{*}{100\\%} & Enforce SL &   84.92\\% &     56.84\\% &        &   13.00\\% &   15.08\\% &        \\\\\n",
      "   &      & Enforce SL + Hire &  100.00\\% &    100.00\\% &        &        - &        - &        \\\\\n",
      "\\cline{1-9}\n",
      "\\cline{2-9}\n",
      "\\multirow{7}{*}{S+} & - & Min. waiting &   96.14\\% &     55.92\\% &        &   36.37\\% &    3.86\\% &        \\\\\n",
      "   & \\multirow{2}{*}{80\\%} & Enforce SL &   98.19\\% &     85.58\\% &        &   10.79\\% &    1.81\\% &        \\\\\n",
      "   &      & Enforce SL + Hire &  100.00\\% &     91.05\\% &        &    8.95\\% &        - &        \\\\\n",
      "\\cline{2-9}\n",
      "   & \\multirow{2}{*}{90\\%} & Enforce SL &   98.16\\% &     85.73\\% &        &   10.59\\% &    1.84\\% &        \\\\\n",
      "   &      & Enforce SL + Hire &  100.00\\% &     95.58\\% &        &    4.42\\% &        - &        \\\\\n",
      "\\cline{2-9}\n",
      "   & \\multirow{2}{*}{100\\%} & Enforce SL &   98.37\\% &     86.69\\% &        &   10.05\\% &    1.63\\% &        \\\\\n",
      "   &      & Enforce SL + Hire &  100.00\\% &    100.00\\% &        &        - &        - &        \\\\\n",
      "\\cline{1-9}\n",
      "\\cline{2-9}\n",
      "\\multirow{7}{*}{L+} & - & Min. waiting &   96.53\\% &     78.53\\% &        &   14.53\\% &    3.47\\% &        \\\\\n",
      "   & \\multirow{2}{*}{80\\%} & Enforce SL &   98.00\\% &     93.52\\% &        &    2.49\\% &    2.00\\% &        \\\\\n",
      "   &      & Enforce SL + Hire &   99.34\\% &     96.14\\% &        &    2.54\\% &    0.66\\% &        \\\\\n",
      "\\cline{2-9}\n",
      "   & \\multirow{2}{*}{90\\%} & Enforce SL &   97.79\\% &     94.07\\% &        &    1.52\\% &    2.21\\% &        \\\\\n",
      "   &      & Enforce SL + Hire &   99.63\\% &     98.05\\% &        &    1.22\\% &    0.37\\% &        \\\\\n",
      "\\cline{2-9}\n",
      "   & \\multirow{2}{*}{100\\%} & Enforce SL &   97.76\\% &     94.41\\% &        &    1.10\\% &    2.24\\% &        \\\\\n",
      "   &      & Enforce SL + Hire &  100.00\\% &    100.00\\% &        &        - &        - &        \\\\\n",
      "\\bottomrule\n",
      "\\end{tabular}\n",
      "\n"
     ]
    }
   ],
   "source": [
    "print(util.df_to_latex(df_total_percentages))"
   ],
   "metadata": {
    "collapsed": false,
    "pycharm": {
     "name": "#%%\n"
    }
   }
  }
 ],
 "metadata": {
  "kernelspec": {
   "name": "python37664bitenvslevelsconda0fcbcdd2fdaa4d328ecf1cbcb199e13d",
   "language": "python",
   "display_name": "Python 3.7.6 64-bit ('env_slevels': conda)"
  },
  "language_info": {
   "codemirror_mode": {
    "name": "ipython",
    "version": 2
   },
   "file_extension": ".py",
   "mimetype": "text/x-python",
   "name": "python",
   "nbconvert_exporter": "python",
   "pygments_lexer": "ipython2",
   "version": "2.7.6"
  }
 },
 "nbformat": 4,
 "nbformat_minor": 0
}