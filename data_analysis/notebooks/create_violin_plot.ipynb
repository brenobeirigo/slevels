{
 "cells": [
  {
   "cell_type": "markdown",
   "source": [
    "### 1) Overall configurations"
   ],
   "metadata": {
    "collapsed": false,
    "pycharm": {
     "name": "#%% md\n"
    }
   }
  },
  {
   "cell_type": "code",
   "execution_count": 69,
   "outputs": [],
   "source": [
    "import sys\n",
    "from pprint import pprint\n",
    "\n",
    "import pandas as pd\n",
    "sys.path.append( '../slevelsutil/' )\n",
    "\n",
    "import file_util as util\n",
    "import request_track_util as rtrack"
   ],
   "metadata": {
    "collapsed": false,
    "pycharm": {
     "name": "#%%\n"
    }
   }
  },
  {
   "cell_type": "markdown",
   "source": [
    "### 2) Loading the instance data"
   ],
   "metadata": {
    "collapsed": false
   }
  },
  {
   "cell_type": "code",
   "execution_count": 70,
   "outputs": [
    {
     "name": "stdout",
     "output_type": "stream",
     "text": [
      "########### INSTANCE SETTINGS ##################################################\n",
      "{'adjacency_matrix_file': 'C:/Users/LocalAdmin/OneDrive/leap_forward/street_network_server/tenv/data/out/manhattan/network_info/adjacency_matrix.csv',\n",
      " 'distances_file': 'C:/Users/LocalAdmin/OneDrive/leap_forward/street_network_server/tenv/data/out/manhattan/distance/dist_matrix_m.csv',\n",
      " 'durations_file': 'C:/Users/LocalAdmin/OneDrive/leap_forward/street_network_server/tenv/data/out/manhattan/distance/dist_matrix_duration_s.csv',\n",
      " 'instance_description': 'User can have their times worsened',\n",
      " 'instance_name': 'ENFORCEFCFS',\n",
      " 'instances_folder': 'C:/Users/LocalAdmin/IdeaProjects/slevels/instance_output/day_enforce_sl/',\n",
      " 'labels': {'BA': 'batch_duration',\n",
      "            'CD': 'contract_duration',\n",
      "            'CS': 'customer_segmentation',\n",
      "            'CT': 'clear_target_list_every_round',\n",
      "            'HE': 'rebalance_heuristic',\n",
      "            'ID': 'instance_description',\n",
      "            'IF': 'initial_fleet',\n",
      "            'IN': 'instance_name',\n",
      "            'MC': 'max_capacity',\n",
      "            'MO': 'allow_many_to_one',\n",
      "            'MR': 'max_requests',\n",
      "            'OP': 'rebalance_optimal_alonso_mora',\n",
      "            'RE': 'rebalance',\n",
      "            'RT': 'reinsert_targets',\n",
      "            'SD': 'allow_service_deterioration',\n",
      "            'SR': 'service_rate',\n",
      "            'ST': 'simulation_time',\n",
      "            'UR': 'allow_urgent_relocation',\n",
      "            'VH': 'allow_vehicle_hiring'},\n",
      " 'matching_config': [{'all_permutations': True,\n",
      "                      'check_in_parallel': False,\n",
      "                      'max_permutations': 100,\n",
      "                      'name': 'method_fsfc',\n",
      "                      'stop_at_first_best': False},\n",
      "                     {'max_edges_rv': 30,\n",
      "                      'mip_gap': 0.01,\n",
      "                      'mip_time_limit': 15,\n",
      "                      'name': 'method_greedy',\n",
      "                      'rtv_max_vehicle_capacity': 4,\n",
      "                      'rtv_vehicle_timeout': 0.2},\n",
      "                     {'max_edges_rv': 30,\n",
      "                      'mip_gap': 0.01,\n",
      "                      'mip_time_limit': 15,\n",
      "                      'name': 'method_optimal',\n",
      "                      'rejection_penalty': 10000,\n",
      "                      'rtv_max_vehicle_capacity': 4,\n",
      "                      'rtv_vehicle_timeout': 0.2},\n",
      "                     {'bad_service_penalty': 10,\n",
      "                      'max_edges_rv': 30,\n",
      "                      'mip_gap': 0.01,\n",
      "                      'mip_time_limit': 15,\n",
      "                      'name': 'method_optimal_enforce_sl',\n",
      "                      'rejection_penalty': 10000,\n",
      "                      'rtv_max_vehicle_capacity': 4,\n",
      "                      'rtv_vehicle_timeout': 0.2,\n",
      "                      'violation_penalty': 1000}],\n",
      " 'method_options': ['method_optimal',\n",
      "                    'method_greedy',\n",
      "                    'method_fsfc',\n",
      "                    'method_optimal_enforce_sl'],\n",
      " 'network_node_info_file': 'C:/Users/LocalAdmin/OneDrive/leap_forward/street_network_server/tenv/data/out/manhattan/network_info/nodeset_info.json',\n",
      " 'rebalancing_config': [{'name': 'rebalance_optimal_alonso_mora'}],\n",
      " 'requests_file': 'C:/Users/LocalAdmin/OneDrive/leap_forward/street_network_server/tenv/data/out/manhattan/tripdata/ids/tripdata_ids_2011-02-01_000000_2011-02-07_235959.csv',\n",
      " 'result_folder': 'C:/Users/LocalAdmin/IdeaProjects/slevels/instance_output/day_enforce_sl/',\n",
      " 'scenario_config': {'allow_request_displacement': [False],\n",
      "                     'allow_service_deterioration': [False],\n",
      "                     'allow_vehicle_creation': [False],\n",
      "                     'allow_vehicle_hiring': [False],\n",
      "                     'batch_duration': [30],\n",
      "                     'contract_duration': [0],\n",
      "                     'customer_segmentation': {'BB': {'A': 0.16,\n",
      "                                                      'B': 0.68,\n",
      "                                                      'C': 0.16}},\n",
      "                     'earliest_time': ['2011-02-01 18:00:00'],\n",
      "                     'initial_fleet': [1000],\n",
      "                     'max_capacity': [4],\n",
      "                     'max_requests': [1000],\n",
      "                     'rebalance': [True],\n",
      "                     'service_level': {'A': {'pk_delay': 420,\n",
      "                                             'pk_delay_target': 180,\n",
      "                                             'priority': 1,\n",
      "                                             'sharing_preference': 0,\n",
      "                                             'trip_delay': 420},\n",
      "                                       'B': {'pk_delay': 420,\n",
      "                                             'pk_delay_target': 300,\n",
      "                                             'priority': 2,\n",
      "                                             'sharing_preference': 1,\n",
      "                                             'trip_delay': 420},\n",
      "                                       'C': {'pk_delay': 420,\n",
      "                                             'pk_delay_target': 420,\n",
      "                                             'priority': 3,\n",
      "                                             'sharing_preference': 1,\n",
      "                                             'trip_delay': 420}},\n",
      "                     'service_rate': {'S1': {'A': 1, 'B': 1, 'C': 1}},\n",
      "                     'time_horizon': [3600]}}\n"
     ]
    }
   ],
   "source": [
    "# Case study\n",
    "instance_settings_path = \"C:/Users/LocalAdmin/IdeaProjects/slevels/src/main/resources/week/enforce_service_levels.json\"\n",
    "instances_dic = util.load_json(instance_settings_path)\n",
    "\n",
    "# Folder where results will be saved\n",
    "result_folder = instances_dic[\"result_folder\"]\n",
    "\n",
    "# Folder where instances are located\n",
    "instances_folder = instances_dic[\"instances_folder\"]\n",
    "\n",
    "# File name aggregated data\n",
    "instance_name = instances_dic[\"instance_name\"]\n",
    "\n",
    "# Data dictionary for the request track file\n",
    "dict_request_track = util.load_json(\"../data/dictionary/request_track_data_dictionary.json\")\n",
    "dict_sl_class = dict_request_track[\"dict_sl_class\"]\n",
    "dict_fleet = dict_request_track[\"dict_fleet\"]\n",
    "dict_sl_tier = dict_request_track[\"dict_sl_tier\"]\n",
    "headers = dict_request_track[\"headers\"]\n",
    "\n",
    "print(\"########### INSTANCE SETTINGS ##################################################\")\n",
    "pprint(instances_dic)"
   ],
   "metadata": {
    "collapsed": false,
    "pycharm": {
     "name": "#%%\n"
    }
   }
  },
  {
   "cell_type": "markdown",
   "source": [
    "### Comparison Status Quo X Enforce Service Levels (Fixed Fleet)\n",
    "Join two experimental results from different methods:"
   ],
   "metadata": {
    "collapsed": false
   }
  },
  {
   "cell_type": "code",
   "execution_count": 71,
   "outputs": [
    {
     "data": {
      "text/plain": "        Pickup delay (min)  SQ Class  Service Pickup deadline      Method\n0                        0  Standard   Denied        1st tier  Status quo\n1                        0  Standard   Denied        1st tier  Status quo\n2                        0  Low-cost   Denied        1st tier  Status quo\n3                        0  Standard   Denied        1st tier  Status quo\n4                        0  Standard   Denied        1st tier  Status quo\n...                    ...       ...      ...             ...         ...\n139583                  94  Low-cost  Company        1st tier  Enforce SL\n139584                  73  Standard  Company        1st tier  Enforce SL\n139585                  83  Standard  Company        1st tier  Enforce SL\n139586                  37  Standard  Company        1st tier  Enforce SL\n139587                  53  Standard  Company        1st tier  Enforce SL\n\n[279176 rows x 5 columns]",
      "text/html": "<div>\n<style scoped>\n    .dataframe tbody tr th:only-of-type {\n        vertical-align: middle;\n    }\n\n    .dataframe tbody tr th {\n        vertical-align: top;\n    }\n\n    .dataframe thead th {\n        text-align: right;\n    }\n</style>\n<table border=\"1\" class=\"dataframe\">\n  <thead>\n    <tr style=\"text-align: right;\">\n      <th></th>\n      <th>Pickup delay (min)</th>\n      <th>SQ Class</th>\n      <th>Service</th>\n      <th>Pickup deadline</th>\n      <th>Method</th>\n    </tr>\n  </thead>\n  <tbody>\n    <tr>\n      <th>0</th>\n      <td>0</td>\n      <td>Standard</td>\n      <td>Denied</td>\n      <td>1st tier</td>\n      <td>Status quo</td>\n    </tr>\n    <tr>\n      <th>1</th>\n      <td>0</td>\n      <td>Standard</td>\n      <td>Denied</td>\n      <td>1st tier</td>\n      <td>Status quo</td>\n    </tr>\n    <tr>\n      <th>2</th>\n      <td>0</td>\n      <td>Low-cost</td>\n      <td>Denied</td>\n      <td>1st tier</td>\n      <td>Status quo</td>\n    </tr>\n    <tr>\n      <th>3</th>\n      <td>0</td>\n      <td>Standard</td>\n      <td>Denied</td>\n      <td>1st tier</td>\n      <td>Status quo</td>\n    </tr>\n    <tr>\n      <th>4</th>\n      <td>0</td>\n      <td>Standard</td>\n      <td>Denied</td>\n      <td>1st tier</td>\n      <td>Status quo</td>\n    </tr>\n    <tr>\n      <th>...</th>\n      <td>...</td>\n      <td>...</td>\n      <td>...</td>\n      <td>...</td>\n      <td>...</td>\n    </tr>\n    <tr>\n      <th>139583</th>\n      <td>94</td>\n      <td>Low-cost</td>\n      <td>Company</td>\n      <td>1st tier</td>\n      <td>Enforce SL</td>\n    </tr>\n    <tr>\n      <th>139584</th>\n      <td>73</td>\n      <td>Standard</td>\n      <td>Company</td>\n      <td>1st tier</td>\n      <td>Enforce SL</td>\n    </tr>\n    <tr>\n      <th>139585</th>\n      <td>83</td>\n      <td>Standard</td>\n      <td>Company</td>\n      <td>1st tier</td>\n      <td>Enforce SL</td>\n    </tr>\n    <tr>\n      <th>139586</th>\n      <td>37</td>\n      <td>Standard</td>\n      <td>Company</td>\n      <td>1st tier</td>\n      <td>Enforce SL</td>\n    </tr>\n    <tr>\n      <th>139587</th>\n      <td>53</td>\n      <td>Standard</td>\n      <td>Company</td>\n      <td>1st tier</td>\n      <td>Enforce SL</td>\n    </tr>\n  </tbody>\n</table>\n<p>279176 rows × 5 columns</p>\n</div>"
     },
     "execution_count": 71,
     "metadata": {},
     "output_type": "execute_result"
    }
   ],
   "source": [
    "status_quo = \"IN-DAYENFORCESL_FIXMIP_BA-30_ST-43200_MR-1000_IF-1000_MC-4_CS-BB_RE-OP_OPT-JAVIER\"\n",
    "enforce_sl_disc = \"IN-DAYENFORCESL_FIXMIP_DISC_BA-30_ST-43200_MR-1000_IF-1000_MC-4_CS-BB_CD-0_VH_RE-OP_OPT-JAVIER\"\n",
    "enforce_sl = \"IN-DAYENFORCESL_FIXMIP_BA-30_ST-43200_MR-1000_IF-1000_MC-4_CS-BB_RE-OP_OPT-JAVIERSL\"\n",
    "\n",
    "request_track_experiment_labels = [\n",
    "    \"Status quo\",\n",
    "    \"Enforce SL\",\n",
    "#    \"Status quo disc\"\n",
    "]\n",
    "\n",
    "experiments = [\n",
    "    status_quo,\n",
    "    enforce_sl,\n",
    "    # enforce_sl_disc\n",
    "]\n",
    "\n",
    "df_methods_list = [rtrack.read_request_track(instances_folder, experiment) for experiment in experiments]\n",
    "df_methods = rtrack.concat_dfs(df_methods_list, request_track_experiment_labels)\n",
    "df_methods = rtrack.add_labels(df_methods, dict_sl_class, dict_sl_tier, dict_fleet, headers)\n",
    "df_methods"
   ],
   "metadata": {
    "collapsed": false,
    "pycharm": {
     "name": "#%%\n"
    }
   }
  },
  {
   "cell_type": "code",
   "execution_count": 72,
   "outputs": [
    {
     "data": {
      "text/plain": "            Serviced  Rejected  First-tier  Second-tier\nStatus quo    135852      3736      102698        33154\nEnforce SL    131590      7998      103439        28151",
      "text/html": "<div>\n<style scoped>\n    .dataframe tbody tr th:only-of-type {\n        vertical-align: middle;\n    }\n\n    .dataframe tbody tr th {\n        vertical-align: top;\n    }\n\n    .dataframe thead th {\n        text-align: right;\n    }\n</style>\n<table border=\"1\" class=\"dataframe\">\n  <thead>\n    <tr style=\"text-align: right;\">\n      <th></th>\n      <th>Serviced</th>\n      <th>Rejected</th>\n      <th>First-tier</th>\n      <th>Second-tier</th>\n    </tr>\n  </thead>\n  <tbody>\n    <tr>\n      <th>Status quo</th>\n      <td>135852</td>\n      <td>3736</td>\n      <td>102698</td>\n      <td>33154</td>\n    </tr>\n    <tr>\n      <th>Enforce SL</th>\n      <td>131590</td>\n      <td>7998</td>\n      <td>103439</td>\n      <td>28151</td>\n    </tr>\n  </tbody>\n</table>\n</div>"
     },
     "execution_count": 72,
     "metadata": {},
     "output_type": "execute_result"
    }
   ],
   "source": [
    "from collections import defaultdict\n",
    "\n",
    "# Service filters\n",
    "filter_freelance = df_methods[headers[\"service\"]]==dict_fleet[\"FREELANCE\"]\n",
    "filter_denied = df_methods[headers[\"service\"]]==dict_fleet[\"DENIED\"]\n",
    "filter_fleet = df_methods[headers[\"service\"]]==dict_fleet[\"FLEET\"]\n",
    "\n",
    "# Service filters\n",
    "filter_first = df_methods[headers[\"service_level\"]]==dict_sl_tier[\"FIRST\"]\n",
    "filter_second = df_methods[headers[\"service_level\"]]==dict_sl_tier[\"SECOND\"]\n",
    "\n",
    "df_rejected = df_methods[filter_freelance | filter_denied]\n",
    "rejected_count = dict(df_rejected[headers[\"method\"]].value_counts())\n",
    "\n",
    "df_serviced = df_methods[filter_fleet]\n",
    "serviced_count = dict(df_serviced[headers[\"method\"]].value_counts())\n",
    "\n",
    "df_first = df_methods[filter_fleet & filter_first]\n",
    "first_count = dict(df_first[headers[\"method\"]].value_counts())\n",
    "\n",
    "df_second = df_methods[filter_fleet & filter_second]\n",
    "second_count = dict(df_second[headers[\"method\"]].value_counts())\n",
    "\n",
    "dict_status = {\n",
    "    \"Serviced\":df_serviced,\n",
    "    \"Rejected\":df_rejected,\n",
    "    \"First-tier\": df_first,\n",
    "    \"Second-tier\":df_second\n",
    "}\n",
    "dict_methods = defaultdict(list)\n",
    "for method in request_track_experiment_labels:\n",
    "    dict_methods[\"Serviced\"].append(serviced_count[method])\n",
    "    dict_methods[\"Rejected\"].append(rejected_count[method])\n",
    "    dict_methods[\"First-tier\"].append(first_count[method])\n",
    "    dict_methods[\"Second-tier\"].append(second_count[method])\n",
    "\n",
    "df_summary = pd.DataFrame.from_dict(dict_methods)\n",
    "df_summary.set_index(pd.Index(request_track_experiment_labels))"
   ],
   "metadata": {
    "collapsed": false,
    "pycharm": {
     "name": "#%%\n"
    }
   }
  },
  {
   "cell_type": "markdown",
   "source": [
    "### Result summary per service level class"
   ],
   "metadata": {
    "collapsed": false
   }
  },
  {
   "cell_type": "code",
   "execution_count": 73,
   "outputs": [
    {
     "name": "stdout",
     "output_type": "stream",
     "text": [
      "         Status      Method     Class  Count\n",
      "0      Serviced  Status quo  Business  20596\n",
      "1      Serviced  Status quo  Standard  93039\n",
      "2      Serviced  Status quo  Low-cost  22217\n",
      "3      Serviced  Enforce SL  Business  22227\n",
      "4      Serviced  Enforce SL  Standard  90324\n",
      "5      Serviced  Enforce SL  Low-cost  19039\n",
      "6      Rejected  Status quo  Business   1799\n",
      "7      Rejected  Status quo  Standard   1546\n",
      "8      Rejected  Status quo  Low-cost    391\n",
      "9      Rejected  Enforce SL  Business    168\n",
      "10     Rejected  Enforce SL  Standard   4261\n",
      "11     Rejected  Enforce SL  Low-cost   3569\n",
      "12   First-tier  Status quo  Business   9204\n",
      "13   First-tier  Status quo  Standard  71277\n",
      "14   First-tier  Status quo  Low-cost  22217\n",
      "15   First-tier  Enforce SL  Business  19309\n",
      "16   First-tier  Enforce SL  Standard  65091\n",
      "17   First-tier  Enforce SL  Low-cost  19039\n",
      "18  Second-tier  Status quo  Business  11392\n",
      "19  Second-tier  Status quo  Standard  21762\n",
      "20  Second-tier  Status quo  Low-cost      0\n",
      "21  Second-tier  Enforce SL  Business   2918\n",
      "22  Second-tier  Enforce SL  Standard  25233\n",
      "23  Second-tier  Enforce SL  Low-cost      0\n"
     ]
    },
    {
     "data": {
      "text/plain": "                                 Count\nClass    Status      Method           \nBusiness First-tier  Enforce SL  19309\n                     Status quo   9204\n         Rejected    Enforce SL    168\n                     Status quo   1799\n         Second-tier Enforce SL   2918\n                     Status quo  11392\n         Serviced    Enforce SL  22227\n                     Status quo  20596\nLow-cost First-tier  Enforce SL  19039\n                     Status quo  22217\n         Rejected    Enforce SL   3569\n                     Status quo    391\n         Second-tier Enforce SL      0\n                     Status quo      0\n         Serviced    Enforce SL  19039\n                     Status quo  22217\nStandard First-tier  Enforce SL  65091\n                     Status quo  71277\n         Rejected    Enforce SL   4261\n                     Status quo   1546\n         Second-tier Enforce SL  25233\n                     Status quo  21762\n         Serviced    Enforce SL  90324\n                     Status quo  93039",
      "text/html": "<div>\n<style scoped>\n    .dataframe tbody tr th:only-of-type {\n        vertical-align: middle;\n    }\n\n    .dataframe tbody tr th {\n        vertical-align: top;\n    }\n\n    .dataframe thead th {\n        text-align: right;\n    }\n</style>\n<table border=\"1\" class=\"dataframe\">\n  <thead>\n    <tr style=\"text-align: right;\">\n      <th></th>\n      <th></th>\n      <th></th>\n      <th>Count</th>\n    </tr>\n    <tr>\n      <th>Class</th>\n      <th>Status</th>\n      <th>Method</th>\n      <th></th>\n    </tr>\n  </thead>\n  <tbody>\n    <tr>\n      <th rowspan=\"8\" valign=\"top\">Business</th>\n      <th rowspan=\"2\" valign=\"top\">First-tier</th>\n      <th>Enforce SL</th>\n      <td>19309</td>\n    </tr>\n    <tr>\n      <th>Status quo</th>\n      <td>9204</td>\n    </tr>\n    <tr>\n      <th rowspan=\"2\" valign=\"top\">Rejected</th>\n      <th>Enforce SL</th>\n      <td>168</td>\n    </tr>\n    <tr>\n      <th>Status quo</th>\n      <td>1799</td>\n    </tr>\n    <tr>\n      <th rowspan=\"2\" valign=\"top\">Second-tier</th>\n      <th>Enforce SL</th>\n      <td>2918</td>\n    </tr>\n    <tr>\n      <th>Status quo</th>\n      <td>11392</td>\n    </tr>\n    <tr>\n      <th rowspan=\"2\" valign=\"top\">Serviced</th>\n      <th>Enforce SL</th>\n      <td>22227</td>\n    </tr>\n    <tr>\n      <th>Status quo</th>\n      <td>20596</td>\n    </tr>\n    <tr>\n      <th rowspan=\"8\" valign=\"top\">Low-cost</th>\n      <th rowspan=\"2\" valign=\"top\">First-tier</th>\n      <th>Enforce SL</th>\n      <td>19039</td>\n    </tr>\n    <tr>\n      <th>Status quo</th>\n      <td>22217</td>\n    </tr>\n    <tr>\n      <th rowspan=\"2\" valign=\"top\">Rejected</th>\n      <th>Enforce SL</th>\n      <td>3569</td>\n    </tr>\n    <tr>\n      <th>Status quo</th>\n      <td>391</td>\n    </tr>\n    <tr>\n      <th rowspan=\"2\" valign=\"top\">Second-tier</th>\n      <th>Enforce SL</th>\n      <td>0</td>\n    </tr>\n    <tr>\n      <th>Status quo</th>\n      <td>0</td>\n    </tr>\n    <tr>\n      <th rowspan=\"2\" valign=\"top\">Serviced</th>\n      <th>Enforce SL</th>\n      <td>19039</td>\n    </tr>\n    <tr>\n      <th>Status quo</th>\n      <td>22217</td>\n    </tr>\n    <tr>\n      <th rowspan=\"8\" valign=\"top\">Standard</th>\n      <th rowspan=\"2\" valign=\"top\">First-tier</th>\n      <th>Enforce SL</th>\n      <td>65091</td>\n    </tr>\n    <tr>\n      <th>Status quo</th>\n      <td>71277</td>\n    </tr>\n    <tr>\n      <th rowspan=\"2\" valign=\"top\">Rejected</th>\n      <th>Enforce SL</th>\n      <td>4261</td>\n    </tr>\n    <tr>\n      <th>Status quo</th>\n      <td>1546</td>\n    </tr>\n    <tr>\n      <th rowspan=\"2\" valign=\"top\">Second-tier</th>\n      <th>Enforce SL</th>\n      <td>25233</td>\n    </tr>\n    <tr>\n      <th>Status quo</th>\n      <td>21762</td>\n    </tr>\n    <tr>\n      <th rowspan=\"2\" valign=\"top\">Serviced</th>\n      <th>Enforce SL</th>\n      <td>90324</td>\n    </tr>\n    <tr>\n      <th>Status quo</th>\n      <td>93039</td>\n    </tr>\n  </tbody>\n</table>\n</div>"
     },
     "execution_count": 73,
     "metadata": {},
     "output_type": "execute_result"
    }
   ],
   "source": [
    "dict_methods_class = rtrack.get_dict_method_status(dict_sl_class, request_track_experiment_labels, dict_status, headers)\n",
    "\n",
    "df_summary_class = pd.DataFrame.from_dict(dict_methods_class)\n",
    "print(df_summary_class)\n",
    "df_summary_class.set_index([\"Class\", \"Status\", \"Method\"], inplace=True)\n",
    "df_summary_class.sort_index(inplace=True)\n",
    "df_summary_class"
   ],
   "metadata": {
    "collapsed": false,
    "pycharm": {
     "name": "#%%\n"
    }
   }
  },
  {
   "cell_type": "code",
   "execution_count": 74,
   "outputs": [
    {
     "name": "stdout",
     "output_type": "stream",
     "text": [
      "       Pickup delay (min)\n",
      "count       206137.000000\n",
      "mean           149.636552\n",
      "std             98.988531\n",
      "min              1.000000\n",
      "25%             68.000000\n",
      "50%            125.000000\n",
      "75%            223.000000\n",
      "max            420.000000\n"
     ]
    },
    {
     "name": "stderr",
     "output_type": "stream",
     "text": [
      "C:\\Users\\LocalAdmin\\anaconda3\\envs\\env_slevels\\lib\\site-packages\\ipykernel_launcher.py:1: DeprecationWarning: The default dtype for empty Series will be 'object' instead of 'float64' in a future version. Specify a dtype explicitly to silence this warning.\n",
      "  \"\"\"Entry point for launching an IPython kernel.\n"
     ]
    },
    {
     "data": {
      "text/plain": "        Pickup delay (min)  SQ Class  Service Pickup deadline      Method\n1000                   115  Standard  Company        1st tier  Status quo\n1001                    91  Standard  Company        1st tier  Status quo\n1002                    75  Standard  Company        1st tier  Status quo\n1003                   100  Standard  Company        1st tier  Status quo\n1004                    79  Standard  Company        1st tier  Status quo\n...                    ...       ...      ...             ...         ...\n139583                  94  Low-cost  Company        1st tier  Enforce SL\n139584                  73  Standard  Company        1st tier  Enforce SL\n139585                  83  Standard  Company        1st tier  Enforce SL\n139586                  37  Standard  Company        1st tier  Enforce SL\n139587                  53  Standard  Company        1st tier  Enforce SL\n\n[206137 rows x 5 columns]",
      "text/html": "<div>\n<style scoped>\n    .dataframe tbody tr th:only-of-type {\n        vertical-align: middle;\n    }\n\n    .dataframe tbody tr th {\n        vertical-align: top;\n    }\n\n    .dataframe thead th {\n        text-align: right;\n    }\n</style>\n<table border=\"1\" class=\"dataframe\">\n  <thead>\n    <tr style=\"text-align: right;\">\n      <th></th>\n      <th>Pickup delay (min)</th>\n      <th>SQ Class</th>\n      <th>Service</th>\n      <th>Pickup deadline</th>\n      <th>Method</th>\n    </tr>\n  </thead>\n  <tbody>\n    <tr>\n      <th>1000</th>\n      <td>115</td>\n      <td>Standard</td>\n      <td>Company</td>\n      <td>1st tier</td>\n      <td>Status quo</td>\n    </tr>\n    <tr>\n      <th>1001</th>\n      <td>91</td>\n      <td>Standard</td>\n      <td>Company</td>\n      <td>1st tier</td>\n      <td>Status quo</td>\n    </tr>\n    <tr>\n      <th>1002</th>\n      <td>75</td>\n      <td>Standard</td>\n      <td>Company</td>\n      <td>1st tier</td>\n      <td>Status quo</td>\n    </tr>\n    <tr>\n      <th>1003</th>\n      <td>100</td>\n      <td>Standard</td>\n      <td>Company</td>\n      <td>1st tier</td>\n      <td>Status quo</td>\n    </tr>\n    <tr>\n      <th>1004</th>\n      <td>79</td>\n      <td>Standard</td>\n      <td>Company</td>\n      <td>1st tier</td>\n      <td>Status quo</td>\n    </tr>\n    <tr>\n      <th>...</th>\n      <td>...</td>\n      <td>...</td>\n      <td>...</td>\n      <td>...</td>\n      <td>...</td>\n    </tr>\n    <tr>\n      <th>139583</th>\n      <td>94</td>\n      <td>Low-cost</td>\n      <td>Company</td>\n      <td>1st tier</td>\n      <td>Enforce SL</td>\n    </tr>\n    <tr>\n      <th>139584</th>\n      <td>73</td>\n      <td>Standard</td>\n      <td>Company</td>\n      <td>1st tier</td>\n      <td>Enforce SL</td>\n    </tr>\n    <tr>\n      <th>139585</th>\n      <td>83</td>\n      <td>Standard</td>\n      <td>Company</td>\n      <td>1st tier</td>\n      <td>Enforce SL</td>\n    </tr>\n    <tr>\n      <th>139586</th>\n      <td>37</td>\n      <td>Standard</td>\n      <td>Company</td>\n      <td>1st tier</td>\n      <td>Enforce SL</td>\n    </tr>\n    <tr>\n      <th>139587</th>\n      <td>53</td>\n      <td>Standard</td>\n      <td>Company</td>\n      <td>1st tier</td>\n      <td>Enforce SL</td>\n    </tr>\n  </tbody>\n</table>\n<p>206137 rows × 5 columns</p>\n</div>"
     },
     "execution_count": 74,
     "metadata": {},
     "output_type": "execute_result"
    }
   ],
   "source": [
    "a = pd.Series()\n",
    "print(df_first.describe())\n",
    "df_first"
   ],
   "metadata": {
    "collapsed": false,
    "pycharm": {
     "name": "#%%\n"
    }
   }
  },
  {
   "cell_type": "code",
   "execution_count": 75,
   "outputs": [
    {
     "name": "stdout",
     "output_type": "stream",
     "text": [
      "       Pickup delay (min)\n",
      "count        61305.000000\n",
      "mean           365.762956\n",
      "std             44.091856\n",
      "min            181.000000\n",
      "25%            338.000000\n",
      "50%            375.000000\n",
      "75%            401.000000\n",
      "max            420.000000\n"
     ]
    },
    {
     "data": {
      "text/plain": "        Pickup delay (min)  SQ Class  Service Pickup deadline      Method\n1657                   306  Standard  Company        2nd tier  Status quo\n1671                   199  Business  Company        2nd tier  Status quo\n1836                   192  Business  Company        2nd tier  Status quo\n1856                   270  Business  Company        2nd tier  Status quo\n1861                   295  Business  Company        2nd tier  Status quo\n...                    ...       ...      ...             ...         ...\n137196                 370  Standard  Company        2nd tier  Enforce SL\n137223                 301  Standard  Company        2nd tier  Enforce SL\n137230                 412  Standard  Company        2nd tier  Enforce SL\n137236                 312  Standard  Company        2nd tier  Enforce SL\n137727                 406  Business  Company        2nd tier  Enforce SL\n\n[61305 rows x 5 columns]",
      "text/html": "<div>\n<style scoped>\n    .dataframe tbody tr th:only-of-type {\n        vertical-align: middle;\n    }\n\n    .dataframe tbody tr th {\n        vertical-align: top;\n    }\n\n    .dataframe thead th {\n        text-align: right;\n    }\n</style>\n<table border=\"1\" class=\"dataframe\">\n  <thead>\n    <tr style=\"text-align: right;\">\n      <th></th>\n      <th>Pickup delay (min)</th>\n      <th>SQ Class</th>\n      <th>Service</th>\n      <th>Pickup deadline</th>\n      <th>Method</th>\n    </tr>\n  </thead>\n  <tbody>\n    <tr>\n      <th>1657</th>\n      <td>306</td>\n      <td>Standard</td>\n      <td>Company</td>\n      <td>2nd tier</td>\n      <td>Status quo</td>\n    </tr>\n    <tr>\n      <th>1671</th>\n      <td>199</td>\n      <td>Business</td>\n      <td>Company</td>\n      <td>2nd tier</td>\n      <td>Status quo</td>\n    </tr>\n    <tr>\n      <th>1836</th>\n      <td>192</td>\n      <td>Business</td>\n      <td>Company</td>\n      <td>2nd tier</td>\n      <td>Status quo</td>\n    </tr>\n    <tr>\n      <th>1856</th>\n      <td>270</td>\n      <td>Business</td>\n      <td>Company</td>\n      <td>2nd tier</td>\n      <td>Status quo</td>\n    </tr>\n    <tr>\n      <th>1861</th>\n      <td>295</td>\n      <td>Business</td>\n      <td>Company</td>\n      <td>2nd tier</td>\n      <td>Status quo</td>\n    </tr>\n    <tr>\n      <th>...</th>\n      <td>...</td>\n      <td>...</td>\n      <td>...</td>\n      <td>...</td>\n      <td>...</td>\n    </tr>\n    <tr>\n      <th>137196</th>\n      <td>370</td>\n      <td>Standard</td>\n      <td>Company</td>\n      <td>2nd tier</td>\n      <td>Enforce SL</td>\n    </tr>\n    <tr>\n      <th>137223</th>\n      <td>301</td>\n      <td>Standard</td>\n      <td>Company</td>\n      <td>2nd tier</td>\n      <td>Enforce SL</td>\n    </tr>\n    <tr>\n      <th>137230</th>\n      <td>412</td>\n      <td>Standard</td>\n      <td>Company</td>\n      <td>2nd tier</td>\n      <td>Enforce SL</td>\n    </tr>\n    <tr>\n      <th>137236</th>\n      <td>312</td>\n      <td>Standard</td>\n      <td>Company</td>\n      <td>2nd tier</td>\n      <td>Enforce SL</td>\n    </tr>\n    <tr>\n      <th>137727</th>\n      <td>406</td>\n      <td>Business</td>\n      <td>Company</td>\n      <td>2nd tier</td>\n      <td>Enforce SL</td>\n    </tr>\n  </tbody>\n</table>\n<p>61305 rows × 5 columns</p>\n</div>"
     },
     "execution_count": 75,
     "metadata": {},
     "output_type": "execute_result"
    }
   ],
   "source": [
    "print(df_second.describe())\n",
    "df_second"
   ],
   "metadata": {
    "collapsed": false,
    "pycharm": {
     "name": "#%%\n"
    }
   }
  },
  {
   "cell_type": "code",
   "execution_count": 76,
   "outputs": [
    {
     "data": {
      "text/plain": "       Pickup delay (min)\ncount        42823.000000\nmean           194.767531\nstd            126.814652\nmin              1.000000\n25%             96.000000\n50%            158.000000\n75%            328.000000\nmax            420.000000",
      "text/html": "<div>\n<style scoped>\n    .dataframe tbody tr th:only-of-type {\n        vertical-align: middle;\n    }\n\n    .dataframe tbody tr th {\n        vertical-align: top;\n    }\n\n    .dataframe thead th {\n        text-align: right;\n    }\n</style>\n<table border=\"1\" class=\"dataframe\">\n  <thead>\n    <tr style=\"text-align: right;\">\n      <th></th>\n      <th>Pickup delay (min)</th>\n    </tr>\n  </thead>\n  <tbody>\n    <tr>\n      <th>count</th>\n      <td>42823.000000</td>\n    </tr>\n    <tr>\n      <th>mean</th>\n      <td>194.767531</td>\n    </tr>\n    <tr>\n      <th>std</th>\n      <td>126.814652</td>\n    </tr>\n    <tr>\n      <th>min</th>\n      <td>1.000000</td>\n    </tr>\n    <tr>\n      <th>25%</th>\n      <td>96.000000</td>\n    </tr>\n    <tr>\n      <th>50%</th>\n      <td>158.000000</td>\n    </tr>\n    <tr>\n      <th>75%</th>\n      <td>328.000000</td>\n    </tr>\n    <tr>\n      <th>max</th>\n      <td>420.000000</td>\n    </tr>\n  </tbody>\n</table>\n</div>"
     },
     "execution_count": 76,
     "metadata": {},
     "output_type": "execute_result"
    }
   ],
   "source": [
    "df_serviced[df_serviced[headers[\"class\"]] == dict_sl_class[\"A\"]].describe()"
   ],
   "metadata": {
    "collapsed": false,
    "pycharm": {
     "name": "#%%\n"
    }
   }
  },
  {
   "cell_type": "code",
   "execution_count": 77,
   "outputs": [
    {
     "name": "stdout",
     "output_type": "stream",
     "text": [
      "       Pickup delay (min)\n",
      "count       267442.000000\n",
      "mean           199.178618\n",
      "std            127.480121\n",
      "min              1.000000\n",
      "25%             81.000000\n",
      "50%            173.000000\n",
      "75%            315.000000\n",
      "max            420.000000\n",
      "        Pickup delay (min)  SQ Class  Service Pickup deadline      Method\n",
      "1000                   115  Standard  Company        1st tier  Status quo\n",
      "1001                    91  Standard  Company        1st tier  Status quo\n",
      "1002                    75  Standard  Company        1st tier  Status quo\n",
      "1003                   100  Standard  Company        1st tier  Status quo\n",
      "1004                    79  Standard  Company        1st tier  Status quo\n",
      "...                    ...       ...      ...             ...         ...\n",
      "139583                  94  Low-cost  Company        1st tier  Enforce SL\n",
      "139584                  73  Standard  Company        1st tier  Enforce SL\n",
      "139585                  83  Standard  Company        1st tier  Enforce SL\n",
      "139586                  37  Standard  Company        1st tier  Enforce SL\n",
      "139587                  53  Standard  Company        1st tier  Enforce SL\n",
      "\n",
      "[267442 rows x 5 columns]\n"
     ]
    },
    {
     "data": {
      "text/plain": "<Figure size 432x288 with 0 Axes>"
     },
     "metadata": {},
     "output_type": "display_data"
    },
    {
     "data": {
      "text/plain": "<Figure size 432x288 with 1 Axes>",
      "image/png": "[encoded data removed]"
     },
     "metadata": {},
     "output_type": "display_data"
    }
   ],
   "source": [
    "import matplotlib.pyplot as plt\n",
    "import seaborn as sns\n",
    "%matplotlib inline\n",
    "sns.set_style(\"darkgrid\")\n",
    "sns.despine(left=True)\n",
    "import numpy as np\n",
    "\n",
    "print(df_serviced.describe())\n",
    "\n",
    "print(df_serviced)\n",
    "fig, ax = plt.subplots(1,1)\n",
    "g = sns.violinplot(\n",
    "    x=headers[\"class\"],\n",
    "    y=headers[\"delay_pk\"],\n",
    "    hue=headers[\"method\"],\n",
    "    scale_hue=False,\n",
    "    data=df_serviced,\n",
    "    palette=\"Set2\",\n",
    "    ax=ax,\n",
    "    cut=0, # Trim edges\n",
    "    scale=\"count\", # width, area\n",
    "    #inner=\"stick\", # quartile\n",
    "    split=True,\n",
    "    figsize=(300, 3))\n",
    "\n",
    "# g.figure(figsize=(15,15))\n",
    "_ = ax.set_yticks(np.arange(0, 480, 60))\n",
    "_ = ax.set_yticklabels(np.arange(0, 8))"
   ],
   "metadata": {
    "collapsed": false,
    "pycharm": {
     "name": "#%%\n"
    }
   }
  },
  {
   "cell_type": "code",
   "execution_count": 78,
   "outputs": [
    {
     "data": {
      "text/plain": "<seaborn.axisgrid.FacetGrid at 0x252a62045c8>"
     },
     "execution_count": 78,
     "metadata": {},
     "output_type": "execute_result"
    },
    {
     "data": {
      "text/plain": "<Figure size 949.5x432 with 2 Axes>",
      "image/png": "[encoded data removed]"
     },
     "metadata": {},
     "output_type": "display_data"
    }
   ],
   "source": [
    "ax = sns.catplot(\n",
    "    x=headers[\"class\"],\n",
    "    y=headers[\"delay_pk\"],\n",
    "    hue=headers[\"method\"],\n",
    "    col=headers[\"service_level\"],\n",
    "    inner=\"quartile\",\n",
    "    data=df_serviced,\n",
    "    kind=\"violin\",\n",
    "    split=True,\n",
    "    scale_hue=False,\n",
    "    scale=\"count\", # width, area\n",
    "    palette=\"Set2\",\n",
    "    height=6,\n",
    "    cut=0,\n",
    "    aspect=1)\n",
    "\n",
    "ax.set(yticks=[i for i in range(0, 480, 60)])\n",
    "ax.set(yticklabels=[i for  i in range(0, 8)])\n",
    "ax.set_xlabels(fontweight=\"bold\", fontsize=12)\n",
    "ax.set_ylabels(fontweight=\"bold\", fontsize=12)\n"
   ],
   "metadata": {
    "collapsed": false,
    "pycharm": {
     "name": "#%%\n"
    }
   }
  }
 ],
 "metadata": {
  "kernelspec": {
   "name": "python37664bitenvslevelsconda0fcbcdd2fdaa4d328ecf1cbcb199e13d",
   "language": "python",
   "display_name": "Python 3.7.6 64-bit ('env_slevels': conda)"
  },
  "language_info": {
   "codemirror_mode": {
    "name": "ipython",
    "version": 2
   },
   "file_extension": ".py",
   "mimetype": "text/x-python",
   "name": "python",
   "nbconvert_exporter": "python",
   "pygments_lexer": "ipython2",
   "version": "2.7.6"
  }
 },
 "nbformat": 4,
 "nbformat_minor": 0
}