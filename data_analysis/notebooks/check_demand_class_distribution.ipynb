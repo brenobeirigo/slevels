{
 "cells": [
  {
   "cell_type": "markdown",
   "source": [
    "## Check SL class distribution"
   ],
   "metadata": {
    "collapsed": false,
    "pycharm": {
     "name": "#%% md\n"
    }
   }
  },
  {
   "cell_type": "markdown",
   "source": [
    "The random class distribution follows the roulette wheel method (A=16%, B=68%, C=16%).\n",
    "\n",
    "```java\n",
    "private String getRandomClassRoulleteWheel(LinkedList<Entry<String, Qos>> qosClasses) {\n",
    "\n",
    "    int share = 0;\n",
    "    int randValue = rand.nextInt(100) + 1;\n",
    "\n",
    "    for (Entry<String, Qos> qos : qosClasses) {\n",
    "        share += qos.getValue().share * 100;\n",
    "        if (randValue <= share) {\n",
    "            return qos.getKey();\n",
    "        }\n",
    "    }\n",
    "    return qosClasses.getLast().getKey();\n",
    "}\n",
    "```"
   ],
   "metadata": {
    "collapsed": false,
    "pycharm": {
     "name": "#%% md\n"
    }
   }
  },
  {
   "cell_type": "code",
   "execution_count": 32,
   "metadata": {
    "collapsed": true
   },
   "outputs": [
    {
     "name": "stdout",
     "output_type": "stream",
     "text": [
      "IN-ENFORCE_BA-30_ST-86400_MR-10_IF-1_MC-1_CS-BB_RE-OP_OPT-JAVIER.csv - Total: 27171\n",
      "A 15.93%\n",
      "B 70.55%\n",
      "C 13.53%\n",
      "IN-ENFORCESEED2_BA-30_ST-86400_MR-10_IF-1_MC-1_CS-BB_RE-OP_OPT-JAVIER.csv - Total: 27171\n",
      "A 16.44%\n",
      "B 70.14%\n",
      "C 13.41%\n",
      "IN-ENFORCESEED3_BA-30_ST-86400_MR-10_IF-1_MC-1_CS-BB_RE-OP_OPT-JAVIER.csv - Total: 27171\n",
      "A 15.93%\n",
      "B 70.55%\n",
      "C 13.53%\n",
      "IN-ENFORCESEED6_BA-30_ST-86400_MR-10_IF-1_MC-1_CS-BB_RE-OP_OPT-JAVIER.csv - Total: 27171\n",
      "A 15.97%\n",
      "B 67.89%\n",
      "C 16.13%\n",
      "IN-ENFORCESEED7_BA-30_ST-86400_MR-10_IF-1_MC-1_CS-BB_RE-OP_OPT-JAVIER.csv - Total: 27171\n",
      "A 15.97%\n",
      "B 67.89%\n",
      "C 16.13%\n"
     ]
    }
   ],
   "source": [
    "import pandas as pd\n",
    "\n",
    "folder = \"C:/Users/LocalAdmin/IdeaProjects/slevels/instance_output/enforce_sl/request_track/\"\n",
    "files = [\n",
    "    \"IN-ENFORCE_BA-30_ST-86400_MR-10_IF-1_MC-1_CS-BB_RE-OP_OPT-JAVIER.csv\",\n",
    "    \"IN-ENFORCESEED2_BA-30_ST-86400_MR-10_IF-1_MC-1_CS-BB_RE-OP_OPT-JAVIER.csv\",\n",
    "    \"IN-ENFORCESEED3_BA-30_ST-86400_MR-10_IF-1_MC-1_CS-BB_RE-OP_OPT-JAVIER.csv\",\n",
    "    \"IN-ENFORCESEED6_BA-30_ST-86400_MR-10_IF-1_MC-1_CS-BB_RE-OP_OPT-JAVIER.csv\",\n",
    "    \"IN-ENFORCESEED7_BA-30_ST-86400_MR-10_IF-1_MC-1_CS-BB_RE-OP_OPT-JAVIER.csv\"\n",
    "]\n",
    "\n",
    "for file in files:\n",
    "    path = folder + file\n",
    "    df = pd.read_csv(path)\n",
    "    dict_distr = dict(df.groupby(\"class\").count()[\"id\"])\n",
    "    total = sum(dict_distr.values())\n",
    "    print(file, \"- Total:\", total)\n",
    "\n",
    "    for k,v in dict_distr.items():\n",
    "        print(k, f\"{v/total:.2%}\")"
   ]
  }
 ],
 "metadata": {
  "kernelspec": {
   "display_name": "Python 3",
   "language": "python",
   "name": "python3"
  },
  "language_info": {
   "codemirror_mode": {
    "name": "ipython",
    "version": 2
   },
   "file_extension": ".py",
   "mimetype": "text/x-python",
   "name": "python",
   "nbconvert_exporter": "python",
   "pygments_lexer": "ipython2",
   "version": "2.7.6"
  }
 },
 "nbformat": 4,
 "nbformat_minor": 0
}