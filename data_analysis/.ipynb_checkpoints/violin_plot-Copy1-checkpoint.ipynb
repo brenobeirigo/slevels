{
 "cells": [
  {
   "cell_type": "code",
   "execution_count": 23,
   "metadata": {},
   "outputs": [],
   "source": [
    "import os\n",
    "import os.path\n",
    "import pandas as pd\n",
    "from pprint import pprint\n",
    "\n",
    "# Example large data\n",
    "instance_settings_path = \"C:/Users/LocalAdmin/IdeaProjects/slevels/src/main/resources/week/allow_hiring.json\"\n",
    "#file_name = \"IN-HIRINGWEEK_BA-30_ST-604800_MR-1000_IF-1000_MC-4_CS-BB_CD-3600_SR-S1_VH_SD_RE_CT_RT_UR\"\n",
    "#file_name = \"IN-HIRINGWEEK_BA-30_ST-604800_MR-1000_IF-1000_MC-4_CS-CC_CD-3600_SR-S2_VH_SD_RE_CT_RT_UR\"\n",
    "#file_name_s1 = \"IN-HIRINGWEEKMAXWAITING_BA-30_ST-604800_MR-1000_IF-1000_MC-4_CS-BB_CD-0_SR-S1_VH_SD_RE_CT_RT_UR\"\n",
    "#file_name_s2 = \"IN-HIRINGWEEKMAXWAITING_BA-30_ST-604800_MR-1000_IF-1000_MC-4_CS-BB_CD-0_SR-S2_VH_SD_RE_CT_RT_UR\"\n",
    "file_name_s1 = \"IN-HIRINGWEEKMAXWAITING_BA-30_ST-604800_MR-1000_IF-1000_MC-4_CS-BB_CD-10800_SR-S1_VH_SD_RE_CT_RT_UR\"\n",
    "file_name_s2 = \"IN-HIRINGWEEKMAXWAITING_BA-30_ST-604800_MR-1000_IF-1000_MC-4_CS-BB_CD-10800_SR-S2_VH_SD_RE_CT_RT_UR\"\n",
    "\n",
    "# Example short data\n",
    "#instance_settings_path = \"C:/Users/LocalAdmin/IdeaProjects/slevels/src/main/resources/test_1h/hiring_1h.json\"\n",
    "#file_name_s1 = \"IN-HIRING_BA-30_ST-600_MR-1000_IF-10_MC-4_CS-BB_CD-3600_SR-S1_VH_SD_RE_CT_RT_UR\"\n",
    "#file_name_s2 = \"IN-HIRING_BA-30_ST-600_MR-1000_IF-10_MC-4_CS-BB_CD-3600_SR-S2_VH_SD_RE_CT_RT_UR\"\n",
    "#file_name = \"IN-HIRING_BA-30_ST-600_MR-1000_IF-10_MC-4_CS-BB_CD-0_SR-S1_VH_SD_RE_CT_RT_UR\""
   ]
  },
  {
   "cell_type": "code",
   "execution_count": 24,
   "metadata": {},
   "outputs": [],
   "source": [
    "import json\n",
    "\n",
    "def load_json(path):\n",
    "    \"\"\"Read json file and return dictionary\"\"\"\n",
    "\n",
    "    # Add .json to the end of file if needed\n",
    "    if path.find(\".json\") < 0:\n",
    "        path = path + \".json\"\n",
    "\n",
    "    # Read JSON file\n",
    "    with open(path) as data_file:\n",
    "        data_loaded = json.load(data_file)\n",
    "\n",
    "    return data_loaded"
   ]
  },
  {
   "cell_type": "raw",
   "metadata": {},
   "source": [
    "\"class\":\"SQ-Class\"    \n",
    "\"service\"  \n",
    " \"service_level\"    "
   ]
  },
  {
   "cell_type": "code",
   "execution_count": 25,
   "metadata": {},
   "outputs": [
    {
     "name": "stdout",
     "output_type": "stream",
     "text": [
      "########### INSTANCE SETTINGS ##################################################\n",
      "{'instance_description': 'Whole week experiment (hiring and deteriorating '\n",
      "                         'enabled)',\n",
      " 'instance_name': 'HIRINGWEEKMAXWAITING',\n",
      " 'instances_folder': 'C:/Users/LocalAdmin/IdeaProjects/slevels/instance_output/week/',\n",
      " 'labels': {'BA': 'batch_duration',\n",
      "            'CD': 'contract_duration',\n",
      "            'CS': 'customer_segmentation',\n",
      "            'CT': 'clear_target_list_every_round',\n",
      "            'ID': 'instance_description',\n",
      "            'IF': 'initial_fleet',\n",
      "            'IN': 'instance_name',\n",
      "            'MC': 'max_capacity',\n",
      "            'MO': 'allow_many_to_one',\n",
      "            'MR': 'max_requests',\n",
      "            'RE': 'rebalance',\n",
      "            'RT': 'reinsert_targets',\n",
      "            'SD': 'allow_service_deterioration',\n",
      "            'SR': 'service_rate',\n",
      "            'ST': 'simulation_time',\n",
      "            'UR': 'allow_urgent_relocation',\n",
      "            'VH': 'allow_vehicle_hiring'},\n",
      " 'rebalancing_config': {'allow_many_to_one': [False],\n",
      "                        'allow_urgent_relocation': [True],\n",
      "                        'clear_target_list_every_round': [True],\n",
      "                        'reinsert_targets': [True]},\n",
      " 'result_folder': 'C:/Users/LocalAdmin/IdeaProjects/slevels/instance_output/week/',\n",
      " 'scenario_config': {'allow_service_deterioration': [True],\n",
      "                     'allow_vehicle_creation': [True],\n",
      "                     'allow_vehicle_hiring': [True],\n",
      "                     'batch_duration': [30],\n",
      "                     'contract_duration': [0, 3600, 10800],\n",
      "                     'customer_segmentation': {'A': {'A': 1, 'B': 0, 'C': 0},\n",
      "                                               'AA': {'A': 0.68,\n",
      "                                                      'B': 0.16,\n",
      "                                                      'C': 0.16},\n",
      "                                               'B': {'A': 0, 'B': 1, 'C': 0},\n",
      "                                               'BB': {'A': 0.16,\n",
      "                                                      'B': 0.68,\n",
      "                                                      'C': 0.16},\n",
      "                                               'C': {'A': 0, 'B': 0, 'C': 1},\n",
      "                                               'CC': {'A': 0.16,\n",
      "                                                      'B': 0.16,\n",
      "                                                      'C': 0.68}},\n",
      "                     'initial_fleet': [1000],\n",
      "                     'max_capacity': [4],\n",
      "                     'max_requests': [1000],\n",
      "                     'rebalance': [True],\n",
      "                     'service_level': {'A': {'pk_delay': 180,\n",
      "                                             'sharing_preference': 0,\n",
      "                                             'trip_delay': 180},\n",
      "                                       'B': {'pk_delay': 300,\n",
      "                                             'sharing_preference': 1,\n",
      "                                             'trip_delay': 600},\n",
      "                                       'C': {'pk_delay': 600,\n",
      "                                             'sharing_preference': 1,\n",
      "                                             'trip_delay': 900}},\n",
      "                     'service_rate': {'S1': {'A': 1, 'B': 0.9, 'C': 0.8},\n",
      "                                      'S2': {'A': 0.9, 'B': 0.8, 'C': 0.7}},\n",
      "                     'time_horizon': [604800]}}\n"
     ]
    }
   ],
   "source": [
    "instances_dic = load_json(instance_settings_path)\n",
    "\n",
    "# Folder where results will be saved\n",
    "result_folder = instances_dic[\"result_folder\"]\n",
    "request_log_folder = result_folder + \"/request_track\"\n",
    "violin_log_folder = result_folder + \"violin_plot/\"\n",
    "\n",
    "# Folder where instances are located\n",
    "instances_folder = instances_dic[\"instances_folder\"]\n",
    "\n",
    "# File name aggregated data\n",
    "instance_name = instances_dic[\"instance_name\"]\n",
    "\n",
    "\n",
    "print(\"########### INSTANCE SETTINGS ##################################################\")\n",
    "pprint(instances_dic)"
   ]
  },
  {
   "cell_type": "markdown",
   "metadata": {},
   "source": [
    "### Loading data S1"
   ]
  },
  {
   "cell_type": "code",
   "execution_count": 26,
   "metadata": {},
   "outputs": [
    {
     "name": "stdout",
     "output_type": "stream",
     "text": [
      "<class 'pandas.core.frame.DataFrame'>\n",
      "RangeIndex: 1585072 entries, 0 to 1585071\n",
      "Data columns (total 13 columns):\n",
      "earliest         1585072 non-null object\n",
      "id               1585072 non-null int64\n",
      "class            1585072 non-null object\n",
      "pk_delay         1585072 non-null int64\n",
      "ride_delay       1585072 non-null int64\n",
      "pk_time          1585072 non-null object\n",
      "dp_time          1585072 non-null object\n",
      "id_from          1585072 non-null int64\n",
      "id_to            1585072 non-null int64\n",
      "dist             1585072 non-null int64\n",
      "service          1585072 non-null object\n",
      "service_level    1585072 non-null object\n",
      "service_rate     1585072 non-null object\n",
      "dtypes: int64(6), object(7)\n",
      "memory usage: 157.2+ MB\n"
     ]
    }
   ],
   "source": [
    "# Load results\n",
    "experiment_file_s1 = \"{}request_track/{}.csv\".format(instances_folder, file_name_s1)\n",
    "df_user_track_s1 = pd.read_csv(experiment_file_s1,  parse_dates = True, comment = \"#\")\n",
    "df_user_track_s1[\"service_rate\"] = \"S1\"\n",
    "df_user_track_s1.info()"
   ]
  },
  {
   "cell_type": "markdown",
   "metadata": {},
   "source": [
    "### Loading data S2"
   ]
  },
  {
   "cell_type": "code",
   "execution_count": 27,
   "metadata": {},
   "outputs": [
    {
     "name": "stdout",
     "output_type": "stream",
     "text": [
      "<class 'pandas.core.frame.DataFrame'>\n",
      "RangeIndex: 1585072 entries, 0 to 1585071\n",
      "Data columns (total 13 columns):\n",
      "earliest         1585072 non-null object\n",
      "id               1585072 non-null int64\n",
      "class            1585072 non-null object\n",
      "pk_delay         1585072 non-null int64\n",
      "ride_delay       1585072 non-null int64\n",
      "pk_time          1585072 non-null object\n",
      "dp_time          1585072 non-null object\n",
      "id_from          1585072 non-null int64\n",
      "id_to            1585072 non-null int64\n",
      "dist             1585072 non-null int64\n",
      "service          1585072 non-null object\n",
      "service_level    1585072 non-null object\n",
      "service_rate     1585072 non-null object\n",
      "dtypes: int64(6), object(7)\n",
      "memory usage: 157.2+ MB\n"
     ]
    }
   ],
   "source": [
    "# Load results\n",
    "experiment_file_s2 = \"{}request_track/{}.csv\".format(instances_folder, file_name_s2)\n",
    "df_user_track_s2 = pd.read_csv(experiment_file_s2,  parse_dates = True, comment = \"#\")\n",
    "df_user_track_s2[\"service_rate\"] = \"S2\"\n",
    "df_user_track_s2.info()"
   ]
  },
  {
   "cell_type": "markdown",
   "metadata": {},
   "source": [
    "### Concatenating S1 and S2"
   ]
  },
  {
   "cell_type": "code",
   "execution_count": 28,
   "metadata": {},
   "outputs": [
    {
     "name": "stdout",
     "output_type": "stream",
     "text": [
      "<class 'pandas.core.frame.DataFrame'>\n",
      "Int64Index: 3170144 entries, 0 to 1585071\n",
      "Data columns (total 13 columns):\n",
      "earliest         object\n",
      "id               int64\n",
      "class            object\n",
      "pk_delay         int64\n",
      "ride_delay       int64\n",
      "pk_time          object\n",
      "dp_time          object\n",
      "id_from          int64\n",
      "id_to            int64\n",
      "dist             int64\n",
      "service          object\n",
      "service_level    object\n",
      "service_rate     object\n",
      "dtypes: int64(6), object(7)\n",
      "memory usage: 338.6+ MB\n"
     ]
    }
   ],
   "source": [
    "df_user_track = pd.concat([df_user_track_s1, df_user_track_s2])\n",
    "df_user_track.info()"
   ]
  },
  {
   "cell_type": "markdown",
   "metadata": {},
   "source": [
    "### Violin plot (MET X UNMET and Initial X Third-party fleet)"
   ]
  },
  {
   "cell_type": "code",
   "execution_count": 50,
   "metadata": {},
   "outputs": [],
   "source": [
    "import seaborn as sns\n",
    "sns.set_style(\"darkgrid\")\n",
    "import matplotlib.pyplot as plt\n",
    "\n",
    "%matplotlib inline\n",
    "\n",
    "def violin(df_user_track, violin_log_folder, file_name):\n",
    "    # Select pickup times\n",
    "    service_level = \"Pickup deadline\"\n",
    "    service = \"User serviced by\" \n",
    "    sq_class = \"SQ Class\"\n",
    "    pk_delay = \"Pickup delay (min)\"\n",
    "    service_rate = \"S. Rate\"\n",
    "    dic_sq_class = {\"A\":\"Business\",\"B\":\"Standard\", \"C\":\"Low-cost\"}\n",
    "    dic_sr = {\"S1\":\"SR1\", \"S2\":\"SR2\"}\n",
    "        \n",
    "    sq_categories=[\"Business\", \"Standard\", \"Low-cost\"]\n",
    "    df_delay = df_user_track.rename(index=str, columns={\"pk_delay\":pk_delay, \"service_rate\":service_rate, \"class\": sq_class,\"service\":service, \"service_level\":service_level})\n",
    "    category_segmentation = pd.api.types.CategoricalDtype(categories=sq_categories, ordered=True)\n",
    "    df_delay[sq_class].replace(dic_sq_class, inplace=True)\n",
    "    \n",
    "    \n",
    "    # Users Violated / Initial fleet\n",
    "    violated_initial = df_delay[sq_class][(df_delay[service_level]=='UNMET')&(df_delay[service]=='FLEET')].value_counts()\n",
    "    violated_max1 = df_delay[(df_delay[service_level]=='UNMET')&(df_delay[service]=='FLEET')].groupby(sq_class)[pk_delay].max()\n",
    "    # Users Violated / Third-party\n",
    "    violated_freelance = df_delay[sq_class][(df_delay[service_level]=='UNMET')&(df_delay[service]=='FREELANCE')].value_counts()\n",
    "    violated_max2 = df_delay[(df_delay[service_level]=='UNMET')&(df_delay[service]=='FREELANCE')].groupby(sq_class)[pk_delay].max()\n",
    "    print(violated_initial)\n",
    "    print(violated_freelance)\n",
    "    print(\"MAX1\", violated_max1)\n",
    "    print(\"MAX2\", violated_max2)\n",
    "    violated = []\n",
    "    violated_max = []\n",
    "    violated.append(violated_initial)\n",
    "    violated.append(violated_freelance)\n",
    "    violated_max.append(violated_max1)\n",
    "    violated_max.append(violated_max2)\n",
    "    \n",
    "    # Renaming data and applying aliases\n",
    "    # a[key_cs] = a[key_cs].map(lambda e:dict_segmentation[e])\n",
    "    df_delay[sq_class] = df_delay[sq_class].astype(category_segmentation)\n",
    "\n",
    "    # Replacing classes\n",
    "    df_delay[sq_class].replace(dic_sq_class, inplace=True)\n",
    "    \n",
    "     # Replacing service rates\n",
    "    df_delay[service_rate].replace(dic_sr, inplace=True)\n",
    "\n",
    "    # Getting percentage of service level\n",
    "    value_counts_sl = df_user_track['service_level'].value_counts()\n",
    "    value_counts_sl_met = value_counts_sl[\"MET\"]\n",
    "    value_counts_sl_unmet = value_counts_sl[\"UNMET\"]\n",
    "    total = value_counts_sl_met + value_counts_sl_unmet\n",
    "    met = value_counts_sl_met/ total\n",
    "    unmet = value_counts_sl_unmet/ total\n",
    "    sl_map = { \"MET\": \"Shortest \\n({:.2%} users)\".format(met), \"UNMET\": \"Extended \\n({:.2%} users)\".format(unmet)}\n",
    "    df_delay[service_level].replace(sl_map, inplace=True)\n",
    "\n",
    "    \n",
    "    \n",
    "    \n",
    "    # Getting percentage of vehicle fleet\n",
    "    fleet = \"Initial fleet\"\n",
    "    freelance=\"Third-party fleet\"\n",
    "    value_counts_fleet = df_user_track['service'].value_counts()\n",
    "    value_counts_fleet_initial = value_counts_fleet[\"FLEET\"]\n",
    "    value_counts_fleet_freelance = value_counts_fleet[\"FREELANCE\"]\n",
    "    total_fleet = value_counts_fleet_initial + value_counts_fleet_freelance\n",
    "    initial_percentage =  \"{} ({:.2%})\".format(fleet, value_counts_fleet_initial / total_fleet)\n",
    "    freelance_percentage =  \"{} ({:.2%})\".format(freelance, value_counts_fleet_freelance / total_fleet)\n",
    "    fleet_map = { \"FLEET\": initial_percentage, \"FREELANCE\": freelance_percentage}\n",
    "    df_delay[service].replace(fleet_map, inplace=True)\n",
    "\n",
    "\n",
    "\n",
    "    # Violin plot settings\n",
    "    #sns.set(style=\"whitegrid\", palette=\"pastel\", color_codes=True)\n",
    "    sns.despine(left=True)\n",
    "\n",
    "    lGnBu_r = ['#081d58', '#e31a1c', '#225ea8', '#1d91c0', '#41b6c4', '#7fcdbb', '#c7e9b4', '#edf8b1', '#ffffd9']\n",
    "\n",
    "    palette_color = {initial_percentage:'#1d91c0', freelance_percentage:'#edf8b1'}\n",
    "\n",
    "    ax = sns.catplot(x=sq_class,\n",
    "                     y=pk_delay,\n",
    "                     hue=service_level,\n",
    "                     col=service,\n",
    "                     row=service_rate,\n",
    "                     data=df_delay,\n",
    "                     kind=\"violin\",\n",
    "                     split=True,    \n",
    "                     palette=\"Pastel1\",\n",
    "                     inner=\"quart\",\n",
    "                     dodge=True, cut=0, bw=.2,\n",
    "                     scale= 'width',\n",
    "                     scale_hue=True,\n",
    "                     height = 5,\n",
    "                     aspect=0.7)\n",
    "                 \n",
    "    ax.set(yticks=[i for i in range(0, 720, 60)])\n",
    "    ax.set(yticklabels=[i for  i in range(0, 11)])\n",
    "    ax.set_xlabels(fontweight=\"bold\", fontsize=12)\n",
    "    ax.set_ylabels(fontweight=\"bold\", fontsize=12)\n",
    "    \n",
    "    \n",
    "    plt.setp(ax._legend.get_title(), fontsize='12', fontweight=\"bold\")\n",
    "    plt.subplots_adjust(hspace=0.2, wspace=0.1)\n",
    "    #ax.set_titles(r\"$\\bf{{Service\\;rate:}}$\" + \"{row_name}\\n\"+ r\"$\\bf{{Service\\;level:}}$ {col_name}\")\n",
    "    # ax.set_titles(\"\\n{row_name}\\n{col_name}\")\n",
    "    ax.set_titles(\"{col_name}\")\n",
    "    \n",
    "\n",
    "\n",
    "    col1 = ax.axes.flat[0]\n",
    "    col2 = ax.axes.flat[1]\n",
    "    \n",
    "    last_y = -30\n",
    "    for col in range(0,2):\n",
    "        i = 0\n",
    "        for sq in sq_categories:\n",
    "            value = violated[col].get(sq, None)\n",
    "            if value is None:\n",
    "                i = i + 1\n",
    "                continue\n",
    "            ax.axes.flat[col].text(i, violated_max[col].get(sq, 600)+10,\"e=\"+str(value))\n",
    "            i = i + 1\n",
    "   \n",
    "\n",
    "    sns.despine(left=True)\n",
    "    \n",
    "    \n",
    "    # Create directory\n",
    "    if not os.path.exists(violin_log_folder):\n",
    "        os.makedirs(violin_log_folder)\n",
    "    \n",
    "    output_file_name = \"{}{}.svg\".format(violin_log_folder, file_name)\n",
    "    \n",
    "    plt.savefig(output_file_name)"
   ]
  },
  {
   "cell_type": "markdown",
   "metadata": {},
   "source": [
    "### Plot S1"
   ]
  },
  {
   "cell_type": "code",
   "execution_count": 51,
   "metadata": {},
   "outputs": [
    {
     "name": "stdout",
     "output_type": "stream",
     "text": [
      "Standard    39\n",
      "Name: SQ Class, dtype: int64\n",
      "Standard    5\n",
      "Name: SQ Class, dtype: int64\n",
      "MAX1 SQ Class\n",
      "Standard    580\n",
      "Name: Pickup delay (min), dtype: int64\n",
      "MAX2 SQ Class\n",
      "Standard    512\n",
      "Name: Pickup delay (min), dtype: int64\n"
     ]
    },
    {
     "data": {
      "text/plain": [
       "<Figure size 432x288 with 0 Axes>"
      ]
     },
     "metadata": {},
     "output_type": "display_data"
    },
    {
     "data": {
      "image/png": "[encoded data removed]",
      "text/plain": [
       "<Figure size 613.5x360 with 2 Axes>"
      ]
     },
     "metadata": {
      "needs_background": "light"
     },
     "output_type": "display_data"
    }
   ],
   "source": [
    "# Plotting violin with service rate scenario S1\n",
    "violin(df_user_track_s1, violin_log_folder, file_name_s1)"
   ]
  },
  {
   "cell_type": "markdown",
   "metadata": {},
   "source": [
    "### Plot S2"
   ]
  },
  {
   "cell_type": "code",
   "execution_count": 52,
   "metadata": {},
   "outputs": [
    {
     "name": "stdout",
     "output_type": "stream",
     "text": [
      "Business    678\n",
      "Standard     75\n",
      "Name: SQ Class, dtype: int64\n",
      "Business    253\n",
      "Standard     12\n",
      "Name: SQ Class, dtype: int64\n",
      "MAX1 SQ Class\n",
      "Business    360\n",
      "Standard    587\n",
      "Name: Pickup delay (min), dtype: int64\n",
      "MAX2 SQ Class\n",
      "Business    360\n",
      "Standard    522\n",
      "Name: Pickup delay (min), dtype: int64\n"
     ]
    },
    {
     "data": {
      "text/plain": [
       "<Figure size 432x288 with 0 Axes>"
      ]
     },
     "metadata": {},
     "output_type": "display_data"
    },
    {
     "data": {
      "image/png": "[encoded data removed]",
      "text/plain": [
       "<Figure size 608x360 with 2 Axes>"
      ]
     },
     "metadata": {
      "needs_background": "light"
     },
     "output_type": "display_data"
    }
   ],
   "source": [
    "# Plotting violin with service rate scenario S1\n",
    "violin(df_user_track_s2, violin_log_folder, file_name_s2)"
   ]
  },
  {
   "cell_type": "code",
   "execution_count": 32,
   "metadata": {},
   "outputs": [
    {
     "data": {
      "text/plain": [
       "FLEET        1388099\n",
       "FREELANCE     196973\n",
       "Name: service, dtype: int64"
      ]
     },
     "execution_count": 32,
     "metadata": {},
     "output_type": "execute_result"
    }
   ],
   "source": [
    "df_user_track_s2['service'].value_counts()"
   ]
  },
  {
   "cell_type": "code",
   "execution_count": 33,
   "metadata": {},
   "outputs": [
    {
     "ename": "SyntaxError",
     "evalue": "invalid syntax (<ipython-input-33-f58b33f4bcab>, line 1)",
     "output_type": "error",
     "traceback": [
      "\u001b[1;36m  File \u001b[1;32m\"<ipython-input-33-f58b33f4bcab>\"\u001b[1;36m, line \u001b[1;32m1\u001b[0m\n\u001b[1;33m    1 - Covered by SR\u001b[0m\n\u001b[1;37m                 ^\u001b[0m\n\u001b[1;31mSyntaxError\u001b[0m\u001b[1;31m:\u001b[0m invalid syntax\n"
     ]
    }
   ],
   "source": [
    "1 - Covered by SR\n",
    "2 - Not covered by SR\n",
    "\n",
    "B - Picked up by FAV\n",
    "A - Picked up by initial fleet\n",
    "\n",
    "A1 - Red in column 1\n",
    "A2 - Blue in column 1\n",
    "\n",
    "B1 - Red in column 2\n",
    "B2 - Blue in column 2\n",
    "\n",
    "B2.a - Violating service levels was not enough\n",
    "\n",
    "\n",
    "\n"
   ]
  },
  {
   "cell_type": "code",
   "execution_count": null,
   "metadata": {},
   "outputs": [],
   "source": [
    "df_user_track_s1['service'].value_counts()"
   ]
  },
  {
   "cell_type": "code",
   "execution_count": null,
   "metadata": {},
   "outputs": [],
   "source": [
    "len(df_user_track_s2.index)"
   ]
  },
  {
   "cell_type": "code",
   "execution_count": null,
   "metadata": {},
   "outputs": [],
   "source": [
    "# Select pickup times\n",
    "service_level = \"S. level\"\n",
    "service = \"User serviced by\" \n",
    "sq_class = \"SQ Class\"\n",
    "pk_delay = \"Pickup delay(s)\"\n",
    "service_rate = \"S. rate\"\n",
    "dic_sq_class = {\"A\":\"Business\",\"B\":\"Standard\", \"C\":\"Low-cost\"}\n",
    "\n",
    "df_delay = df_user_track.rename(index=str, columns={\"pk_delay\":pk_delay, \"service_rate\":service_rate, \"class\": sq_class, \"service\":service, \"service_level\":service_level})\n",
    "category_segmentation = pd.api.types.CategoricalDtype(categories=[\"Business\", \"Standard\", \"Low-cost\"], ordered=True)\n",
    "df_delay[sq_class].replace(dic_sq_class, inplace=True)\n",
    "# Renaming data and applying aliases\n",
    "# a[key_cs] = a[key_cs].map(lambda e:dict_segmentation[e])\n",
    "df_delay[sq_class] = df_delay[sq_class].astype(category_segmentation)\n",
    "\n",
    "# Replacing classes\n",
    "df_delay[sq_class].replace(dic_sq_class, inplace=True)\n",
    "\n",
    "# Getting percentage of service level\n",
    "value_counts_sl = df_user_track['service_level'].value_counts()\n",
    "value_counts_sl_met = value_counts_sl[\"MET\"]\n",
    "value_counts_sl_unmet = value_counts_sl[\"UNMET\"]\n",
    "total = value_counts_sl_met + value_counts_sl_unmet\n",
    "met = value_counts_sl_met/ total\n",
    "unmet = value_counts_sl_unmet/ total\n",
    "sl_map = { \"MET\": \"Met ({:.2%})\".format(met), \"UNMET\": \"Unmet ({:.2%})\".format(unmet)}\n",
    "df_delay[service_level].replace(sl_map, inplace=True)\n",
    "\n",
    "# Getting percentage of vehicle fleet\n",
    "fleet = \"Initial fleet\"\n",
    "freelance=\"Third-pary fleet\"\n",
    "value_counts_fleet = df_user_track['service'].value_counts()\n",
    "value_counts_fleet_initial = value_counts_fleet[\"FLEET\"]\n",
    "value_counts_fleet_freelance = value_counts_fleet[\"FREELANCE\"]\n",
    "total_fleet = value_counts_fleet_initial + value_counts_fleet_freelance\n",
    "initial_percentage =  \"{} ({:.2%})\".format(fleet, value_counts_fleet_initial / total_fleet)\n",
    "freelance_percentage =  \"{} ({:.2%})\".format(freelance, value_counts_fleet_freelance / total_fleet)\n",
    "fleet_map = { \"FLEET\": initial_percentage, \"FREELANCE\": freelance_percentage}\n",
    "df_delay[service].replace(fleet_map, inplace=True)\n",
    "\n",
    "\n",
    "\n",
    "# Violin plot settings\n",
    "\n",
    "hue=service\n",
    "output_file_name = \"{}{}.svg\".format(violin_log_folder, file_name)\n",
    "sns.set(style=\"whitegrid\", palette=\"pastel\", color_codes=True)\n",
    "sns.despine(left=True)\n",
    "\n",
    "lGnBu_r = ['#081d58', '#e31a1c', '#225ea8', '#1d91c0', '#41b6c4', '#7fcdbb', '#c7e9b4', '#edf8b1', '#ffffd9']\n",
    "\n",
    "palette_color = {initial_percentage:'#1d91c0', freelance_percentage:'#edf8b1'}\n",
    "\n",
    "ax = sns.catplot(x=sq_class,\n",
    "                 y=pk_delay,\n",
    "                 hue=hue,\n",
    "                 col=service_level,\n",
    "                 row=service_rate,\n",
    "                 data=df_delay,\n",
    "                 kind=\"violin\",\n",
    "                 split=True,                 \n",
    "                 palette=palette_color,\n",
    "                 inner=\"box\",\n",
    "                 saturation = 1,\n",
    "                 dodge=True, cut=0, bw=.2,\n",
    "                 scale= 'width',\n",
    "                 scale_hue=True,\n",
    "                 height = 5,\n",
    "                 fontweight=\"bold\",\n",
    "                 aspect=0.7)\n",
    "\n",
    "\n",
    "\n",
    "# palette=\"Set2\"\n",
    "#palette={fleet: \"#FF003C\", freelance: \"#FABE28\"},\n",
    "#ax.set_xlabel(\"Service quality class\", fontweight=\"bold\", fontsize=\"small\")\n",
    "#ax.set_ylabel(\"Delay(s)\", fontweight=\"bold\", fontsize=\"small\")\n",
    "#plt.xticks(fontsize=\"small\")\n",
    "#plt.yticks(fontsize=\"small\")\n",
    "\n",
    "#scale : {“area”, “count”, “width”}, optional\n",
    "#The method used to scale the width of each violin.\n",
    "#If area, each violin will have the same area.\n",
    "#If count, the width of the violins will be scaled by the number of observations in that bin.\n",
    "#If width, each violin will have the same width.\n",
    "\n",
    "legend.get_frame().set_alpha(0)\n",
    "legend.set_title(\"\")\n",
    "\n",
    "sns.despine(left=True)\n",
    "plt.savefig(output_file_name)"
   ]
  },
  {
   "cell_type": "code",
   "execution_count": null,
   "metadata": {},
   "outputs": [],
   "source": [
    "plt.show()"
   ]
  },
  {
   "cell_type": "markdown",
   "metadata": {},
   "source": [
    "### Creating single violin plot (hue = MET, UNMET)"
   ]
  },
  {
   "cell_type": "code",
   "execution_count": null,
   "metadata": {},
   "outputs": [],
   "source": [
    "# Python graphs: https://python-graph-gallery.com/\n",
    "# Visualization with matplotlib: https://www.oreilly.com/library/view/python-data-science/9781491912126/ch04.htmlimport matplotlib.pyplot as plt\n",
    "import seaborn as sns\n",
    "import matplotlib.pyplot as plt\n",
    "%matplotlib inline\n",
    "\n",
    "# Select pickup times\n",
    "#df_user_track = df_user_track[[\"id\", \"earliest\", \"pk_time\", \"dp_time\", \"service_level\", \"class\", \"pk_delay\"]]\n",
    "#df_user_track.sort_values(by=[\"pk_delay\"], ascending=False, inplace=True)\n",
    "\n",
    "df_delay = df_user_track.rename(index=str, columns={\"service_level\": \"Service level\", \"pk_delay\":\"Delay(s)\", \"class\":\"SQ-Class\"})\n",
    "print(df_delay.head(10))\n",
    "#df_delay = df_delay[df_delay['Delay(s)']<900]\n",
    "\n",
    "# Violin plot settings\n",
    "x=\"SQ-Class\"\n",
    "y=\"Delay(s)\"\n",
    "hue=\"Service level\"\n",
    "output_file_name = \"{}{}.png\".format(violin_log_folder, file_name)\n",
    "\n",
    "ax = sns.violinplot(x=x,\n",
    "                        y=y,\n",
    "                        hue=hue,\n",
    "                        split=True,\n",
    "                        inner=\"quart\",\n",
    "                        saturation = 1,\n",
    "                        palette={\"MET\": \"#FF003C\", \"UNMET\": \"#FABE28\"},\n",
    "                        data=df_delay,\n",
    "                        linewidth = 1,\n",
    "                        aspect=0.7)\n",
    "    \n",
    "ax.set_xlabel(\"Service quality class\", fontweight=\"bold\", fontsize=\"small\")\n",
    "ax.set_ylabel(\"Delay(s)\", fontweight=\"bold\", fontsize=\"small\")\n",
    "plt.xticks(fontsize=\"small\")\n",
    "plt.yticks(fontsize=\"small\")\n",
    "\n",
    "legend = plt.legend(loc = \"upper right\",\n",
    "               bbox_to_anchor=(1, 0.95),\n",
    "               fontsize=\"small\",\n",
    "               edgecolor=\"white\")\n",
    "\n",
    "legend.get_frame().set_alpha(0)\n",
    "\n",
    "\n",
    "# legend.set_title(\"Type:\", prop = {'size':'small', 'weight':'bold'})\n",
    "legend.set_title(\"\")\n",
    "\n",
    "#  bbox_to_anchor=(1.25, 0.9),\n",
    "\n",
    "sns.despine(left=True)\n",
    "plt.savefig(output_file_name, bbox_inches=\"tight\")"
   ]
  },
  {
   "cell_type": "markdown",
   "metadata": {},
   "source": [
    "### Creating single violin plot (hue = FREELANCE, FLEET)"
   ]
  },
  {
   "cell_type": "code",
   "execution_count": null,
   "metadata": {},
   "outputs": [],
   "source": [
    "# Select pickup times\n",
    "df_delay = df_user_track.rename(index=str, columns={\"pk_delay\":\"Delay(s)\", \"class\":\"SQ-Class\",\"service\":\"Fleet service\"})\n",
    "\n",
    "\n",
    "# Violin plot settings\n",
    "x=\"SQ-Class\"\n",
    "y=\"Delay(s)\"\n",
    "hue=\"Fleet service\"\n",
    "output_file_name = \"{}{}.png\".format(violin_log_folder, file_name)\n",
    "\n",
    "\n",
    "ax = sns.violinplot(x=x,\n",
    "                        y=y,\n",
    "                        hue=hue,\n",
    "                        split=True,\n",
    "                        inner=\"quart\",\n",
    "                        saturation = 1,\n",
    "                        palette={\"FLEET\": \"#FF003C\", \"FREELANCE\": \"#FABE28\"},\n",
    "                        data=df_delay,\n",
    "                        linewidth = 1,\n",
    "                        aspect=0.7)\n",
    "    \n",
    "ax.set_xlabel(\"Service quality class\", fontweight=\"bold\", fontsize=\"small\")\n",
    "ax.set_ylabel(\"Delay(s)\", fontweight=\"bold\", fontsize=\"small\")\n",
    "plt.xticks(fontsize=\"small\")\n",
    "plt.yticks(fontsize=\"small\")\n",
    "\n",
    "legend = plt.legend(loc = \"upper right\",\n",
    "               bbox_to_anchor=(1, 0.95),\n",
    "               fontsize=\"small\",\n",
    "               edgecolor=\"white\")\n",
    "\n",
    "legend.get_frame().set_alpha(0)\n",
    "\n",
    "\n",
    "# legend.set_title(\"Type:\", prop = {'size':'small', 'weight':'bold'})\n",
    "legend.set_title(\"\")\n",
    "\n",
    "#  bbox_to_anchor=(1.25, 0.9),\n",
    "\n",
    "sns.despine(left=True)\n",
    "plt.savefig(output_file_name, bbox_inches=\"tight\")"
   ]
  },
  {
   "cell_type": "code",
   "execution_count": null,
   "metadata": {},
   "outputs": [],
   "source": [
    "# Select pickup times\n",
    "#df_user_track = df_user_track[[\"id\", \"earliest\", \"pk_time\", \"dp_time\", \"service_level\", \"class\", \"pk_delay\"]]\n",
    "#df_user_track.sort_values(by=[\"pk_delay\"], ascending=False, inplace=True)\n",
    "\n",
    "df_delay = df_user_track.rename(index=str, columns={\"service_level\": \"Service level\", \"pk_delay\":\"Delay(s)\", \"class\":\"SQ-Class\",  \"service\":\"Vehicle service\"})\n",
    "print(df_delay.head(10))\n",
    "\n",
    "# Violin plot settings\n",
    "x=\"SQ-Class\"\n",
    "y=\"Delay(s)\"\n",
    "hue=\"Vehicle service\"\n",
    "output_file_name = \"{}{}.png\".format(violin_log_folder, file_name)\n",
    "\n",
    "ax = sns.boxplot(x=x,\n",
    "                y=y,\n",
    "                saturation = 1,\n",
    "                palette={\"FLEET\": \"#FF003C\", \"FREELANCE\": \"#FABE28\"},\n",
    "                data=df_delay,\n",
    "                linewidth = 1,\n",
    "                aspect=0.7)\n",
    "\n",
    "ax.set_xlabel(\"Service quality class\", fontweight=\"bold\", fontsize=\"small\")\n",
    "ax.set_ylabel(\"Delay(s)\", fontweight=\"bold\", fontsize=\"small\")\n",
    "plt.xticks(fontsize=\"small\")\n",
    "plt.yticks(fontsize=\"small\")\n",
    "\n",
    "legend = plt.legend(loc = \"upper right\",\n",
    "               bbox_to_anchor=(1, 0.95),\n",
    "               fontsize=\"small\",\n",
    "               edgecolor=\"white\")\n",
    "\n",
    "legend.get_frame().set_alpha(0)\n",
    "\n",
    "\n",
    "legend.set_title(\"\")\n",
    "\n",
    "sns.despine(left=True)\n",
    "plt.savefig(output_file_name, bbox_inches=\"tight\")\n"
   ]
  },
  {
   "cell_type": "code",
   "execution_count": null,
   "metadata": {},
   "outputs": [],
   "source": [
    "import matplotlib.pyplot as plt\n",
    "import seaborn as sns\n",
    "sns.set(style=\"whitegrid\", palette=\"pastel\", color_codes=True)\n",
    "\n",
    "def create_violin_plot(df_source, file_name, x = None, y = None, hue= None):\n",
    "    # Violin plots 101\n",
    "    # https://blog.modeanalytics.com/violin-plot-examples/\n",
    "    \n",
    "\n",
    "    # Draw a nested violinplot and split the violins for easier comparison\n",
    "    ax = sns.boxplot(x=x,\n",
    "                    y=y,\n",
    "                    saturation = 1,\n",
    "                    palette={\"Pick up\": \"#FF003C\", \"Ride\": \"#FABE28\"},\n",
    "                    data=df_source,\n",
    "                    linewidth = 1,\n",
    "                    aspect=0.7)\n",
    "    \n",
    "    ax.set_xlabel(\"Service quality class\", fontweight=\"bold\", fontsize=\"small\")\n",
    "    ax.set_ylabel(\"Delay(s)\", fontweight=\"bold\", fontsize=\"small\")\n",
    "    plt.xticks(fontsize=\"small\")\n",
    "    plt.yticks(fontsize=\"small\")\n",
    "    \n",
    "    legend = plt.legend(loc = \"upper right\",\n",
    "                   bbox_to_anchor=(1, 0.95),\n",
    "                   fontsize=\"small\",\n",
    "                   edgecolor=\"white\")\n",
    "    \n",
    "    legend.get_frame().set_alpha(0)\n",
    "    \n",
    "\n",
    "    # legend.set_title(\"Type:\", prop = {'size':'small', 'weight':'bold'})\n",
    "    legend.set_title(\"\")\n",
    "\n",
    "    #  bbox_to_anchor=(1.25, 0.9),\n",
    "    \n",
    "    sns.despine(left=True)\n",
    "    plt.savefig(file_name, bbox_inches=\"tight\")"
   ]
  },
  {
   "cell_type": "markdown",
   "metadata": {},
   "source": [
    "### Violin plot"
   ]
  },
  {
   "cell_type": "code",
   "execution_count": null,
   "metadata": {},
   "outputs": [],
   "source": [
    "import matplotlib.pyplot as plt\n",
    "import seaborn as sns\n",
    "sns.set(style=\"whitegrid\", palette=\"pastel\", color_codes=True)\n",
    "\n",
    "def create_violin_plot(df_source, file_name, x = None, y = None, hue= None):\n",
    "    # Violin plots 101\n",
    "    # https://blog.modeanalytics.com/violin-plot-examples/\n",
    "    \n",
    "    # Draw a nested violinplot and split the violins for easier comparison\n",
    "    ax = sns.violinplot(x=x,\n",
    "                        y=y,\n",
    "                        hue=hue,\n",
    "                        split=True,\n",
    "                        inner=\"quart\",\n",
    "                        saturation = 1,\n",
    "                        palette={\"MET\": \"#FF003C\", \"UNMET\": \"#FABE28\"},\n",
    "                        data=df_source,\n",
    "                        linewidth = 1,\n",
    "                        aspect=0.7)\n",
    "    \n",
    "    ax.set_xlabel(\"Service quality class\", fontweight=\"bold\", fontsize=\"small\")\n",
    "    ax.set_ylabel(\"Delay(s)\", fontweight=\"bold\", fontsize=\"small\")\n",
    "    plt.xticks(fontsize=\"small\")\n",
    "    plt.yticks(fontsize=\"small\")\n",
    "    \n",
    "    legend = plt.legend(loc = \"upper right\",\n",
    "                   bbox_to_anchor=(1, 0.95),\n",
    "                   fontsize=\"small\",\n",
    "                   edgecolor=\"white\")\n",
    "    \n",
    "    legend.get_frame().set_alpha(0)\n",
    "    \n",
    "\n",
    "    # legend.set_title(\"Type:\", prop = {'size':'small', 'weight':'bold'})\n",
    "    legend.set_title(\"\")\n",
    "\n",
    "    #  bbox_to_anchor=(1.25, 0.9),\n",
    "    \n",
    "    sns.despine(left=True)\n",
    "    plt.savefig(file_name, bbox_inches=\"tight\")"
   ]
  },
  {
   "cell_type": "markdown",
   "metadata": {},
   "source": [
    "### Box plot"
   ]
  },
  {
   "cell_type": "code",
   "execution_count": null,
   "metadata": {},
   "outputs": [],
   "source": [
    "def create_box_plot(df_source, file_name, x = None, y = None):\n",
    "    # Violin plots 101\n",
    "    # https://blog.modeanalytics.com/violin-plot-examples/\n",
    "    \n",
    "    # Draw a nested violinplot and split the violins for easier comparison\n",
    "    ax = sns.boxplot(x=x,\n",
    "                        y=y,\n",
    "                        saturation = 1,\n",
    "                        palette={\"Pick up\": \"#FF003C\", \"Ride\": \"#FABE28\"},\n",
    "                        data=df_source,\n",
    "                        linewidth = 1,\n",
    "                        aspect=0.7)\n",
    "    \n",
    "    ax.set_xlabel(\"Service quality class\", fontweight=\"bold\", fontsize=\"small\")\n",
    "    ax.set_ylabel(\"Delay(s)\", fontweight=\"bold\", fontsize=\"small\")\n",
    "    plt.xticks(fontsize=\"small\")\n",
    "    plt.yticks(fontsize=\"small\")\n",
    "    \n",
    "    legend = plt.legend(loc = \"upper right\",\n",
    "                   bbox_to_anchor=(1, 0.95),\n",
    "                   fontsize=\"small\",\n",
    "                   edgecolor=\"white\")\n",
    "    \n",
    "    legend.get_frame().set_alpha(0)\n",
    "    \n",
    "\n",
    "    # legend.set_title(\"Type:\", prop = {'size':'small', 'weight':'bold'})\n",
    "    legend.set_title(\"\")\n",
    "\n",
    "    #  bbox_to_anchor=(1.25, 0.9),\n",
    "    \n",
    "    sns.despine(left=True)\n",
    "    plt.savefig(file_name, bbox_inches=\"tight\")"
   ]
  },
  {
   "cell_type": "code",
   "execution_count": null,
   "metadata": {},
   "outputs": [],
   "source": [
    "df_delay = pd.melt(df_user_track,\n",
    "           id_vars=[\"id\", \"service_level\", \"class\"],\n",
    "           value_vars=[\"pk_delay\", \"ride_delay\"],\n",
    "           var_name=\"type\",\n",
    "           value_name=\"delay\")\n",
    "\n",
    "df_delay = df_delay.sort_values(by=[\"class\"], ascending=False)\n",
    "df_delay.sort_values(by=[\"delay\"], ascending=False, inplace=True)\n",
    "\n",
    "df_delay[\"type\"] = df_delay[\"type\"].map({\"pk_delay\":\"Pick up\", \"ride_delay\":\"Ride\"})\n",
    "df_delay = df_delay.rename(index=str, columns={\"service_level\": \"Service level\", \"delay\":\"Delay(s)\", \"type\":\"Type\", \"class\":\"Service quality\"})\n",
    "\n",
    "\n",
    "df_delay.head()"
   ]
  },
  {
   "cell_type": "code",
   "execution_count": null,
   "metadata": {},
   "outputs": [],
   "source": [
    "\n",
    "df_delay = pd.melt(df_user_track,\n",
    "           id_vars=[\"id\", \"service_level\", \"class\"],\n",
    "           value_vars=[\"pk_delay\", \"ride_delay\"],\n",
    "           var_name=\"type\",\n",
    "           value_name=\"delay\")\n",
    "\n",
    "df_delay = df_delay.sort_values(by=[\"class\"], ascending=False)\n",
    "df_delay.sort_values(by=[\"delay\"], ascending=False, inplace=True)\n",
    "\n",
    "df_delay[\"type\"] = df_delay[\"type\"].map({\"pk_delay\":\"Pick up\", \"ride_delay\":\"Ride\"})\n",
    "df_delay = df_delay.rename(index=str, columns={\"service_level\": \"Service level\", \"delay\":\"Delay(s)\", \"type\":\"Type\", \"class\":\"Service quality\"})\n",
    "\n",
    "\n",
    "df_delay.head()"
   ]
  },
  {
   "cell_type": "code",
   "execution_count": null,
   "metadata": {},
   "outputs": [],
   "source": [
    "create_violin_plot(df_delay, \"plot.png\")"
   ]
  }
 ],
 "metadata": {
  "kernelspec": {
   "display_name": "Python 3",
   "language": "python",
   "name": "python3"
  },
  "language_info": {
   "codemirror_mode": {
    "name": "ipython",
    "version": 3
   },
   "file_extension": ".py",
   "mimetype": "text/x-python",
   "name": "python",
   "nbconvert_exporter": "python",
   "pygments_lexer": "ipython3",
   "version": "3.7.1"
  }
 },
 "nbformat": 4,
 "nbformat_minor": 2
}
