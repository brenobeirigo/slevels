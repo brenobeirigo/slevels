{
 "cells": [
  {
   "cell_type": "markdown",
   "metadata": {},
   "source": [
    "### 1) Overall configurations "
   ]
  },
  {
   "cell_type": "code",
   "execution_count": 1,
   "metadata": {},
   "outputs": [],
   "source": [
    "import os\n",
    "import os.path\n",
    "import pandas as pd\n",
    "from pprint import pprint\n",
    "\n",
    "# Example large data\n",
    "instance_settings_path = \"C:/Users/LocalAdmin/IdeaProjects/slevels/src/main/resources/week/allow_hiring.json\"\n",
    "\n",
    "# Example short data\n",
    "#instance_settings_path = \"C:/Users/LocalAdmin/IdeaProjects/slevels/src/main/resources/test_1h/hiring_1h.json\"\n",
    "#file_name_s1 = \"IN-HIRING_BA-30_ST-600_MR-1000_IF-10_MC-4_CS-BB_CD-3600_SR-S1_VH_SD_RE_CT_RT_UR\"\n",
    "#file_name_s2 = \"IN-HIRING_BA-30_ST-600_MR-1000_IF-10_MC-4_CS-BB_CD-3600_SR-S2_VH_SD_RE_CT_RT_UR\"\n",
    "#file_name = \"IN-HIRING_BA-30_ST-600_MR-1000_IF-10_MC-4_CS-BB_CD-0_SR-S1_VH_SD_RE_CT_RT_UR\""
   ]
  },
  {
   "cell_type": "markdown",
   "metadata": {},
   "source": [
    "### 2) Loading the instance data"
   ]
  },
  {
   "cell_type": "code",
   "execution_count": 2,
   "metadata": {},
   "outputs": [
    {
     "name": "stdout",
     "output_type": "stream",
     "text": [
      "########### INSTANCE SETTINGS ##################################################\n",
      "{'instance_description': 'Whole week experiment (hiring and deteriorating '\n",
      "                         'enabled)',\n",
      " 'instance_name': 'HIRINGWEEKMAXWAITINGREB2',\n",
      " 'instances_folder': 'C:/Users/LocalAdmin/IdeaProjects/slevels/instance_output/week/',\n",
      " 'labels': {'BA': 'batch_duration',\n",
      "            'CD': 'contract_duration',\n",
      "            'CS': 'customer_segmentation',\n",
      "            'CT': 'clear_target_list_every_round',\n",
      "            'ID': 'instance_description',\n",
      "            'IF': 'initial_fleet',\n",
      "            'IN': 'instance_name',\n",
      "            'MC': 'max_capacity',\n",
      "            'MO': 'allow_many_to_one',\n",
      "            'MR': 'max_requests',\n",
      "            'RE': 'rebalance',\n",
      "            'RT': 'reinsert_targets',\n",
      "            'SD': 'allow_service_deterioration',\n",
      "            'SR': 'service_rate',\n",
      "            'ST': 'simulation_time',\n",
      "            'UR': 'allow_urgent_relocation',\n",
      "            'VH': 'allow_vehicle_hiring'},\n",
      " 'rebalancing_config': {'allow_many_to_one': [True],\n",
      "                        'allow_urgent_relocation': [False],\n",
      "                        'clear_target_list_every_round': [False],\n",
      "                        'reinsert_targets': [True]},\n",
      " 'result_folder': 'C:/Users/LocalAdmin/IdeaProjects/slevels/instance_output/week/',\n",
      " 'scenario_config': {'allow_service_deterioration': [True],\n",
      "                     'allow_vehicle_creation': [True],\n",
      "                     'allow_vehicle_hiring': [True],\n",
      "                     'batch_duration': [30],\n",
      "                     'contract_duration': [0, 3600, 10800],\n",
      "                     'customer_segmentation': {'A': {'A': 1, 'B': 0, 'C': 0},\n",
      "                                               'AA': {'A': 0.68,\n",
      "                                                      'B': 0.16,\n",
      "                                                      'C': 0.16},\n",
      "                                               'B': {'A': 0, 'B': 1, 'C': 0},\n",
      "                                               'BB': {'A': 0.16,\n",
      "                                                      'B': 0.68,\n",
      "                                                      'C': 0.16},\n",
      "                                               'C': {'A': 0, 'B': 0, 'C': 1},\n",
      "                                               'CC': {'A': 0.16,\n",
      "                                                      'B': 0.16,\n",
      "                                                      'C': 0.68}},\n",
      "                     'initial_fleet': [1000],\n",
      "                     'max_capacity': [4],\n",
      "                     'max_requests': [1000],\n",
      "                     'rebalance': [True],\n",
      "                     'service_level': {'A': {'pk_delay': 180,\n",
      "                                             'sharing_preference': 0,\n",
      "                                             'trip_delay': 180},\n",
      "                                       'B': {'pk_delay': 300,\n",
      "                                             'sharing_preference': 1,\n",
      "                                             'trip_delay': 600},\n",
      "                                       'C': {'pk_delay': 600,\n",
      "                                             'sharing_preference': 1,\n",
      "                                             'trip_delay': 900}},\n",
      "                     'service_rate': {'S1': {'A': 1.0, 'B': 0.9, 'C': 0.8},\n",
      "                                      'S2': {'A': 0.9, 'B': 0.8, 'C': 0.7}},\n",
      "                     'time_horizon': [604800]}}\n"
     ]
    }
   ],
   "source": [
    "import json\n",
    "\n",
    "def load_json(path):\n",
    "    \"\"\"Read json file and return dictionary\"\"\"\n",
    "\n",
    "    # Add .json to the end of file if needed\n",
    "    if path.find(\".json\") < 0:\n",
    "        path = path + \".json\"\n",
    "\n",
    "    # Read JSON file\n",
    "    with open(path) as data_file:\n",
    "        data_loaded = json.load(data_file)\n",
    "\n",
    "    return data_loaded\n",
    "\n",
    "instances_dic = load_json(instance_settings_path)\n",
    "\n",
    "# Folder where results will be saved\n",
    "result_folder = instances_dic[\"result_folder\"]\n",
    "request_log_folder = result_folder + \"/request_track\"\n",
    "violin_log_folder = result_folder + \"violin_plot/\"\n",
    "\n",
    "# Folder where instances are located\n",
    "instances_folder = instances_dic[\"instances_folder\"]\n",
    "\n",
    "# File name aggregated data\n",
    "instance_name = instances_dic[\"instance_name\"]\n",
    "\n",
    "\n",
    "print(\"########### INSTANCE SETTINGS ##################################################\")\n",
    "pprint(instances_dic)"
   ]
  },
  {
   "cell_type": "markdown",
   "metadata": {},
   "source": [
    "### Violin plot (MET X UNMET and Initial X Third-party fleet)"
   ]
  },
  {
   "cell_type": "code",
   "execution_count": 9,
   "metadata": {},
   "outputs": [
    {
     "data": {
      "text/plain": [
       "<Figure size 432x288 with 0 Axes>"
      ]
     },
     "metadata": {},
     "output_type": "display_data"
    }
   ],
   "source": [
    "import matplotlib.pyplot as plt\n",
    "import seaborn as sns\n",
    "%matplotlib inline\n",
    "sns.set_style(\"darkgrid\")\n",
    "sns.despine(left=True)\n",
    "\n",
    "def violin(df_user_track, violin_log_folder, file_name, replace=False, file_extension = 'pdf'):\n",
    "    \n",
    "    font_ticks = 16\n",
    "    font_axis = 18\n",
    "    font_title = 20\n",
    "    # Create directory\n",
    "    if not os.path.exists(violin_log_folder):\n",
    "        os.makedirs(violin_log_folder)\n",
    "    \n",
    "    output_file_name = \"{}{}.{}\".format(violin_log_folder, file_name, file_extension)\n",
    "    \n",
    "    # Stop generation if already generated \n",
    "    if os.path.isfile(output_file_name) and not replace:\n",
    "        return\n",
    "    \n",
    "    \n",
    "    # New column labels (variable names are column names)\n",
    "    service_level = \"Pickup deadline\"\n",
    "    service = \"User serviced by\" \n",
    "    sq_class = \"SQ Class\"\n",
    "    pk_delay = \"Pickup delay (min)\"\n",
    "    \n",
    "    # New data nomenclature\n",
    "    dic_sq_class = {\"A\":\"Business\",\n",
    "                    \"B\":\"Standard\",\n",
    "                    \"C\":\"Low-cost\"}    \n",
    "    sq_categories= list(dic_sq_class.values())\n",
    "    \n",
    "    # Was the user pickup deadline extended? YES = UNMET in dataframe\n",
    "    met = \"Shortest\"\n",
    "    unmet = \"Extended\"\n",
    "    dic_slevel = {\"MET\":met,\n",
    "                  \"UNMET\":unmet}\n",
    "    \n",
    "    # Was the user picked up by a third-party vehicle? YES = FREELANCE in dataframe\n",
    "    fleet = \"Initial fleet\"\n",
    "    freelance=\"Third-party fleet\" \n",
    "    dic_fleet = {\"FLEET\":fleet,\n",
    "                 \"FREELANCE\":freelance}    \n",
    "    \n",
    "    # Replacing column names\n",
    "    df_delay = df_user_track.rename(index=str,\n",
    "                                    columns={\"pk_delay\":pk_delay,\n",
    "                                             \"class\": sq_class,\n",
    "                                             \"service\":service,\n",
    "                                             \"service_level\":service_level})\n",
    "    \n",
    "    \n",
    "    category_segmentation = pd.api.types.CategoricalDtype(categories=sq_categories, ordered=True)\n",
    "    df_delay[sq_class].replace(dic_sq_class, inplace=True)\n",
    "    \n",
    "    # Renaming data and applying aliases\n",
    "    # a[key_cs] = a[key_cs].map(lambda e:dict_segmentation[e])\n",
    "    df_delay[sq_class] = df_delay[sq_class].astype(category_segmentation)\n",
    "\n",
    "    # Replacing classes\n",
    "    df_delay[sq_class].replace(dic_sq_class, inplace=True)\n",
    "\n",
    "    # Getting percentage of users in each end of the service rate\n",
    "    value_counts_sl = df_delay[service_level].value_counts()\n",
    "    met_n = value_counts_sl.get(\"MET\",0)\n",
    "    unmet_n = value_counts_sl.get(\"UNMET\",0)\n",
    "    sl_map = {  \"MET\": \"1st tier ({:.2%})\".format(met_n/(met_n+unmet_n)),\n",
    "              \"UNMET\": \"2nd tier ({:.2%})\".format(unmet_n/(met_n+unmet_n))}\n",
    "    df_delay[service_level].replace(sl_map, inplace=True)\n",
    "    \n",
    "    ### Getting percentage of vehicle fleet serviced by each vehicle type\n",
    "    value_counts_fleet = df_delay[service].value_counts()\n",
    "    fleet_n = value_counts_fleet.get(\"FLEET\", 0)\n",
    "    freelance_n = value_counts_fleet.get(\"FREELANCE\", 0)\n",
    "    # How many users (%) serviced by each vehicle\n",
    "    fleet_map = {    \"FLEET\": fleet_n/(fleet_n+freelance_n),\n",
    "                 \"FREELANCE\": freelance_n/(fleet_n+freelance_n)}\n",
    "    #df_delay[service].replace(fleet_map, inplace=True)\n",
    "\n",
    "    # Customized palette\n",
    "    #palette_color = {initial_percentage:'#1d91c0', freelance_percentage:'#edf8b1'}\n",
    "\n",
    "    g = sns.catplot(x=sq_class,\n",
    "                     y=pk_delay,\n",
    "                     hue=service_level,\n",
    "                     col=service,\n",
    "                     data=df_delay,\n",
    "                     kind=\"violin\",\n",
    "                     cut=0,\n",
    "                     bw=.2,\n",
    "                     palette=\"Pastel1\")\n",
    "\n",
    "    # Formatting tick shape (from secs to mins)\n",
    "    min_y = 0\n",
    "    max_y = 660 # Goes until eleven to fit data labels\n",
    "    step_y = 60\n",
    "    g.set(yticks=[i for i in range(min_y, max_y+step_y, step_y)])\n",
    "    g.set(yticklabels=[i for  i in range(0, 11)])\n",
    "    \n",
    "    # Setting tick style\n",
    "    g.set_xlabels(fontweight=\"bold\", fontsize=font_axis, labelpad =10)\n",
    "    g.set_ylabels(fontsize=font_ticks)\n",
    "\n",
    "\n",
    "    \n",
    "    plt.setp(g._legend.get_title(), fontsize=font_axis, fontweight=\"bold\")\n",
    "    plt.setp(g._legend.get_texts(), fontsize=font_ticks)\n",
    "    plt.setp(g._legend, bbox_to_anchor=(1.06, 0.5))\n",
    "    #plt.subplots_adjust(hspace=0.6, wspace=0.1)\n",
    "\n",
    "    # Setting column headers\n",
    "    # Example to use rows, cols and Latex math\n",
    "    # g.set_titles(r\"$\\bf{{Service\\;rate:}}$\" + \"{row_name}\\n\"+ r\"$\\bf{{Service\\;level:}}$ {col_name}\")\n",
    "    g.set_titles(\"{col_name}\")\n",
    "\n",
    "    # Loop catplot columns\n",
    "    sl_unmet = sl_map['UNMET']\n",
    "    for col, fleet_type in enumerate(dic_fleet.keys()):\n",
    "        \n",
    "        # Create column titles\n",
    "        g.axes.flat[col].set_title(dic_fleet[fleet_type], fontweight=\"bold\", fontsize=font_title, pad=28)\n",
    "        g.axes.flat[col].text(0.1, max_y + 15, \"(serviced {:.2%} requests)\".format(fleet_map[fleet_type]), fontsize=font_ticks)\n",
    "        g.axes.flat[col].tick_params(axis='both', labelsize=font_ticks)\n",
    "        filter_unmet = (df_delay[service_level]==sl_unmet) & (df_delay[service]==fleet_type)\n",
    "        # User count (per fleet type) who had their pickup deadlines extended\n",
    "        extended_count = dict(df_delay[sq_class][filter_unmet].value_counts())\n",
    "        \n",
    "        # Place data label over the user who waited the longest (upmost y coordinate)\n",
    "        max_pkdelay_extended = dict(df_delay[filter_unmet].groupby(sq_class)[pk_delay].max())\n",
    "        \n",
    "        for sq_i, sq in enumerate(sq_categories):\n",
    "            \n",
    "            # How many users from sq had to wait more?\n",
    "            extended_sq = int(extended_count.get(sq, 0))\n",
    "            \n",
    "            if extended_sq > 0:\n",
    "                extended_sq_max = max_pkdelay_extended[sq]\n",
    "                up_padding = 10\n",
    "                pos_y = extended_sq_max + up_padding\n",
    "                \n",
    "                \n",
    "                g.axes.flat[col].text(sq_i+0.08,\n",
    "                                      pos_y,\n",
    "                                      \"n={}\".format(extended_sq),fontsize=font_ticks)\n",
    "                \n",
    "    plt.savefig(output_file_name, bbox_inches=\"tight\")\n",
    "    \n",
    "    # Close figure\n",
    "    plt.clf()"
   ]
  },
  {
   "cell_type": "markdown",
   "metadata": {},
   "source": [
    "### Plot single instance"
   ]
  },
  {
   "cell_type": "code",
   "execution_count": 10,
   "metadata": {},
   "outputs": [
    {
     "data": {
      "text/plain": [
       "<Figure size 829.75x360 with 0 Axes>"
      ]
     },
     "metadata": {},
     "output_type": "display_data"
    },
    {
     "data": {
      "text/plain": [
       "<Figure size 829.75x360 with 0 Axes>"
      ]
     },
     "metadata": {},
     "output_type": "display_data"
    },
    {
     "data": {
      "text/plain": [
       "<Figure size 829.625x360 with 0 Axes>"
      ]
     },
     "metadata": {},
     "output_type": "display_data"
    }
   ],
   "source": [
    "contract_3h = 'IN-HIRINGWEEKMAXWAITING_BA-30_ST-604800_MR-1000_IF-1000_MC-4_CS-BB_CD-10800_SR-S2_VH_SD_RE_CT_RT_UR'\n",
    "contract_1h = 'IN-HIRINGWEEKMAXWAITING_BA-30_ST-604800_MR-1000_IF-1000_MC-4_CS-BB_CD-3600_SR-S2_VH_SD_RE_CT_RT_UR'\n",
    "contract_single_ride = 'IN-HIRINGWEEKMAXWAITING_BA-30_ST-604800_MR-1000_IF-1000_MC-4_CS-BB_CD-0_SR-S2_VH_SD_RE_CT_RT_UR'\n",
    "\n",
    "\n",
    "\n",
    "contracts = [contract_single_ride, contract_1h, contract_3h]\n",
    "\n",
    "for contract in contracts:\n",
    "    \n",
    "    experiment = \"{}request_track/{}.csv\".format(instances_folder, contract)\n",
    "    df_user_track_single = pd.read_csv(experiment,  parse_dates = True, comment = \"#\")\n",
    "    \n",
    "    # Plotting violin with service rate scenario S1\n",
    "    violin(df_user_track_single, violin_log_folder, contract, replace=True, file_extension = 'png')"
   ]
  },
  {
   "cell_type": "markdown",
   "metadata": {},
   "source": [
    "### Processing all data"
   ]
  },
  {
   "cell_type": "code",
   "execution_count": 6,
   "metadata": {},
   "outputs": [
    {
     "name": "stdout",
     "output_type": "stream",
     "text": [
      "Reading files in folder: C:/Users/LocalAdmin/IdeaProjects/slevels/instance_output/week//request_track\n",
      "  - Processing IN-HIRINGWEEKMAXWAITINGREB2_BA-30_ST-604800_MR-1000_IF-1000_MC-4_CS-AA_CD-0_SR-S2_VH_SD_RE_MO_RT\n"
     ]
    },
    {
     "name": "stderr",
     "output_type": "stream",
     "text": [
      "C:\\Users\\LocalAdmin\\Anaconda3\\lib\\site-packages\\scipy\\stats\\stats.py:1713: FutureWarning: Using a non-tuple sequence for multidimensional indexing is deprecated; use `arr[tuple(seq)]` instead of `arr[seq]`. In the future this will be interpreted as an array index, `arr[np.array(seq)]`, which will result either in an error or a different result.\n",
      "  return np.add.reduce(sorted[indexer] * weights, axis=axis) / sumval\n"
     ]
    },
    {
     "name": "stdout",
     "output_type": "stream",
     "text": [
      "  - Processing IN-HIRINGWEEKMAXWAITINGREB2_BA-30_ST-604800_MR-1000_IF-1000_MC-4_CS-A_CD-0_SR-S2_VH_SD_RE_MO_RT\n",
      "  - Processing IN-HIRINGWEEKMAXWAITINGREB2_BA-30_ST-604800_MR-1000_IF-1000_MC-4_CS-BB_CD-0_SR-S2_VH_SD_RE_MO_RT\n",
      "  - Processing IN-HIRINGWEEKMAXWAITINGREB2_BA-30_ST-604800_MR-1000_IF-1000_MC-4_CS-B_CD-0_SR-S2_VH_SD_RE_MO_RT\n",
      "  - Processing IN-HIRINGWEEKMAXWAITINGREB2_BA-30_ST-604800_MR-1000_IF-1000_MC-4_CS-CC_CD-0_SR-S2_VH_SD_RE_MO_RT\n",
      "  - Processing IN-HIRINGWEEKMAXWAITING_BA-30_ST-604800_MR-1000_IF-1000_MC-4_CS-AA_CD-0_SR-S1_VH_SD_RE_CT_RT_UR\n",
      "  - Processing IN-HIRINGWEEKMAXWAITING_BA-30_ST-604800_MR-1000_IF-1000_MC-4_CS-AA_CD-0_SR-S2_VH_SD_RE_CT_RT_UR\n",
      "  - Processing IN-HIRINGWEEKMAXWAITING_BA-30_ST-604800_MR-1000_IF-1000_MC-4_CS-AA_CD-10800_SR-S1_VH_SD_RE_CT_RT_UR\n",
      "  - Processing IN-HIRINGWEEKMAXWAITING_BA-30_ST-604800_MR-1000_IF-1000_MC-4_CS-AA_CD-10800_SR-S2_VH_SD_RE_CT_RT_UR\n",
      "  - Processing IN-HIRINGWEEKMAXWAITING_BA-30_ST-604800_MR-1000_IF-1000_MC-4_CS-AA_CD-3600_SR-S1_VH_SD_RE_CT_RT_UR\n",
      "  - Processing IN-HIRINGWEEKMAXWAITING_BA-30_ST-604800_MR-1000_IF-1000_MC-4_CS-AA_CD-3600_SR-S2_VH_SD_RE_CT_RT_UR\n",
      "  - Processing IN-HIRINGWEEKMAXWAITING_BA-30_ST-604800_MR-1000_IF-1000_MC-4_CS-A_CD-0_SR-S1_VH_SD_RE_CT_RT_UR\n",
      "  - Processing IN-HIRINGWEEKMAXWAITING_BA-30_ST-604800_MR-1000_IF-1000_MC-4_CS-A_CD-0_SR-S2_VH_SD_RE_CT_RT_UR\n",
      "  - Processing IN-HIRINGWEEKMAXWAITING_BA-30_ST-604800_MR-1000_IF-1000_MC-4_CS-A_CD-10800_SR-S1_VH_SD_RE_CT_RT_UR\n",
      "  - Processing IN-HIRINGWEEKMAXWAITING_BA-30_ST-604800_MR-1000_IF-1000_MC-4_CS-A_CD-10800_SR-S2_VH_SD_RE_CT_RT_UR\n",
      "  - Processing IN-HIRINGWEEKMAXWAITING_BA-30_ST-604800_MR-1000_IF-1000_MC-4_CS-A_CD-3600_SR-S1_VH_SD_RE_CT_RT_UR\n",
      "  - Processing IN-HIRINGWEEKMAXWAITING_BA-30_ST-604800_MR-1000_IF-1000_MC-4_CS-A_CD-3600_SR-S2_VH_SD_RE_CT_RT_UR\n",
      "  - Processing IN-HIRINGWEEKMAXWAITING_BA-30_ST-604800_MR-1000_IF-1000_MC-4_CS-BB_CD-0_SR-S1_VH_SD_RE_CT_RT_UR\n",
      "  - Processing IN-HIRINGWEEKMAXWAITING_BA-30_ST-604800_MR-1000_IF-1000_MC-4_CS-BB_CD-0_SR-S2_VH_SD_RE_CT_RT_UR\n",
      "  - Processing IN-HIRINGWEEKMAXWAITING_BA-30_ST-604800_MR-1000_IF-1000_MC-4_CS-BB_CD-10800_SR-S1_VH_SD_RE_CT_RT_UR\n",
      "  - Processing IN-HIRINGWEEKMAXWAITING_BA-30_ST-604800_MR-1000_IF-1000_MC-4_CS-BB_CD-10800_SR-S2_VH_SD_RE_CT_RT_UR\n"
     ]
    },
    {
     "name": "stderr",
     "output_type": "stream",
     "text": [
      "C:\\Users\\LocalAdmin\\Anaconda3\\lib\\site-packages\\matplotlib\\pyplot.py:522: RuntimeWarning: More than 20 figures have been opened. Figures created through the pyplot interface (`matplotlib.pyplot.figure`) are retained until explicitly closed and may consume too much memory. (To control this warning, see the rcParam `figure.max_open_warning`).\n",
      "  max_open_warning, RuntimeWarning)\n"
     ]
    },
    {
     "name": "stdout",
     "output_type": "stream",
     "text": [
      "  - Processing IN-HIRINGWEEKMAXWAITING_BA-30_ST-604800_MR-1000_IF-1000_MC-4_CS-BB_CD-3600_SR-S1_VH_SD_RE_CT_RT_UR\n",
      "  - Processing IN-HIRINGWEEKMAXWAITING_BA-30_ST-604800_MR-1000_IF-1000_MC-4_CS-BB_CD-3600_SR-S2_VH_SD_RE_CT_RT_UR\n",
      "  - Processing IN-HIRINGWEEKMAXWAITING_BA-30_ST-604800_MR-1000_IF-1000_MC-4_CS-B_CD-0_SR-S1_VH_SD_RE_CT_RT_UR\n",
      "  - Processing IN-HIRINGWEEKMAXWAITING_BA-30_ST-604800_MR-1000_IF-1000_MC-4_CS-B_CD-0_SR-S2_VH_SD_RE_CT_RT_UR\n",
      "  - Processing IN-HIRINGWEEKMAXWAITING_BA-30_ST-604800_MR-1000_IF-1000_MC-4_CS-B_CD-10800_SR-S1_VH_SD_RE_CT_RT_UR\n",
      "  - Processing IN-HIRINGWEEKMAXWAITING_BA-30_ST-604800_MR-1000_IF-1000_MC-4_CS-B_CD-10800_SR-S2_VH_SD_RE_CT_RT_UR\n",
      "  - Processing IN-HIRINGWEEKMAXWAITING_BA-30_ST-604800_MR-1000_IF-1000_MC-4_CS-B_CD-3600_SR-S1_VH_SD_RE_CT_RT_UR\n",
      "  - Processing IN-HIRINGWEEKMAXWAITING_BA-30_ST-604800_MR-1000_IF-1000_MC-4_CS-B_CD-3600_SR-S2_VH_SD_RE_CT_RT_UR\n",
      "  - Processing IN-HIRINGWEEKMAXWAITING_BA-30_ST-604800_MR-1000_IF-1000_MC-4_CS-CC_CD-0_SR-S1_VH_SD_RE_CT_RT_UR\n",
      "  - Processing IN-HIRINGWEEKMAXWAITING_BA-30_ST-604800_MR-1000_IF-1000_MC-4_CS-CC_CD-0_SR-S2_VH_SD_RE_CT_RT_UR\n",
      "  - Processing IN-HIRINGWEEKMAXWAITING_BA-30_ST-604800_MR-1000_IF-1000_MC-4_CS-CC_CD-10800_SR-S1_VH_SD_RE_CT_RT_UR\n",
      "  - Processing IN-HIRINGWEEKMAXWAITING_BA-30_ST-604800_MR-1000_IF-1000_MC-4_CS-CC_CD-10800_SR-S2_VH_SD_RE_CT_RT_UR\n",
      "  - Processing IN-HIRINGWEEKMAXWAITING_BA-30_ST-604800_MR-1000_IF-1000_MC-4_CS-CC_CD-3600_SR-S1_VH_SD_RE_CT_RT_UR\n",
      "  - Processing IN-HIRINGWEEKMAXWAITING_BA-30_ST-604800_MR-1000_IF-1000_MC-4_CS-CC_CD-3600_SR-S2_VH_SD_RE_CT_RT_UR\n",
      "  - Processing IN-HIRINGWEEKMAXWAITING_BA-30_ST-604800_MR-1000_IF-1000_MC-4_CS-C_CD-0_SR-S1_VH_SD_RE_CT_RT_UR\n",
      "  - Processing IN-HIRINGWEEKMAXWAITING_BA-30_ST-604800_MR-1000_IF-1000_MC-4_CS-C_CD-0_SR-S2_VH_SD_RE_CT_RT_UR\n",
      "  - Processing IN-HIRINGWEEKMAXWAITING_BA-30_ST-604800_MR-1000_IF-1000_MC-4_CS-C_CD-10800_SR-S1_VH_SD_RE_CT_RT_UR\n",
      "  - Processing IN-HIRINGWEEKMAXWAITING_BA-30_ST-604800_MR-1000_IF-1000_MC-4_CS-C_CD-10800_SR-S2_VH_SD_RE_CT_RT_UR\n",
      "  - Processing IN-HIRINGWEEKMAXWAITING_BA-30_ST-604800_MR-1000_IF-1000_MC-4_CS-C_CD-3600_SR-S1_VH_SD_RE_CT_RT_UR\n",
      "  - Processing IN-HIRINGWEEKMAXWAITING_BA-30_ST-604800_MR-1000_IF-1000_MC-4_CS-C_CD-3600_SR-S2_VH_SD_RE_CT_RT_UR\n",
      "  - Processing IN-WEEKDENY_BA-30_ST-604800_MR-1000_IF-1000_MC-4_CS-A\n",
      "  - Processing IN-WEEKDENY_BA-30_ST-604800_MR-1000_IF-1000_MC-4_CS-AA\n",
      "  - Processing IN-WEEKDENY_BA-30_ST-604800_MR-1000_IF-1000_MC-4_CS-AA_RE_CT_RT_UR\n",
      "  - Processing IN-WEEKDENY_BA-30_ST-604800_MR-1000_IF-1000_MC-4_CS-A_RE_CT_RT_UR\n",
      "  - Processing IN-WEEKDENY_BA-30_ST-604800_MR-1000_IF-1000_MC-4_CS-B\n",
      "  - Processing IN-WEEKDENY_BA-30_ST-604800_MR-1000_IF-1000_MC-4_CS-BB\n",
      "  - Processing IN-WEEKDENY_BA-30_ST-604800_MR-1000_IF-1000_MC-4_CS-BB_RE_CT_RT_UR\n",
      "  - Processing IN-WEEKDENY_BA-30_ST-604800_MR-1000_IF-1000_MC-4_CS-B_RE_CT_RT_UR\n",
      "  - Processing IN-WEEKDENY_BA-30_ST-604800_MR-1000_IF-1000_MC-4_CS-C\n",
      "  - Processing IN-WEEKDENY_BA-30_ST-604800_MR-1000_IF-1000_MC-4_CS-CC\n",
      "  - Processing IN-WEEKDENY_BA-30_ST-604800_MR-1000_IF-1000_MC-4_CS-CC_RE_CT_RT_UR\n",
      "  - Processing IN-WEEKDENY_BA-30_ST-604800_MR-1000_IF-1000_MC-4_CS-C_RE_CT_RT_UR\n"
     ]
    },
    {
     "data": {
      "text/plain": [
       "<Figure size 831.5x360 with 0 Axes>"
      ]
     },
     "metadata": {},
     "output_type": "display_data"
    },
    {
     "data": {
      "text/plain": [
       "<Figure size 831.25x360 with 0 Axes>"
      ]
     },
     "metadata": {},
     "output_type": "display_data"
    },
    {
     "data": {
      "text/plain": [
       "<Figure size 831.375x360 with 0 Axes>"
      ]
     },
     "metadata": {},
     "output_type": "display_data"
    },
    {
     "data": {
      "text/plain": [
       "<Figure size 831.625x360 with 0 Axes>"
      ]
     },
     "metadata": {},
     "output_type": "display_data"
    },
    {
     "data": {
      "text/plain": [
       "<Figure size 831.25x360 with 0 Axes>"
      ]
     },
     "metadata": {},
     "output_type": "display_data"
    },
    {
     "data": {
      "text/plain": [
       "<Figure size 836.75x360 with 0 Axes>"
      ]
     },
     "metadata": {},
     "output_type": "display_data"
    },
    {
     "data": {
      "text/plain": [
       "<Figure size 831.375x360 with 0 Axes>"
      ]
     },
     "metadata": {},
     "output_type": "display_data"
    },
    {
     "data": {
      "text/plain": [
       "<Figure size 836.75x360 with 0 Axes>"
      ]
     },
     "metadata": {},
     "output_type": "display_data"
    },
    {
     "data": {
      "text/plain": [
       "<Figure size 831.375x360 with 0 Axes>"
      ]
     },
     "metadata": {},
     "output_type": "display_data"
    },
    {
     "data": {
      "text/plain": [
       "<Figure size 836.75x360 with 0 Axes>"
      ]
     },
     "metadata": {},
     "output_type": "display_data"
    },
    {
     "data": {
      "text/plain": [
       "<Figure size 831.375x360 with 0 Axes>"
      ]
     },
     "metadata": {},
     "output_type": "display_data"
    },
    {
     "data": {
      "text/plain": [
       "<Figure size 836.75x360 with 0 Axes>"
      ]
     },
     "metadata": {},
     "output_type": "display_data"
    },
    {
     "data": {
      "text/plain": [
       "<Figure size 831.375x360 with 0 Axes>"
      ]
     },
     "metadata": {},
     "output_type": "display_data"
    },
    {
     "data": {
      "text/plain": [
       "<Figure size 836.75x360 with 0 Axes>"
      ]
     },
     "metadata": {},
     "output_type": "display_data"
    },
    {
     "data": {
      "text/plain": [
       "<Figure size 831.375x360 with 0 Axes>"
      ]
     },
     "metadata": {},
     "output_type": "display_data"
    },
    {
     "data": {
      "text/plain": [
       "<Figure size 836.75x360 with 0 Axes>"
      ]
     },
     "metadata": {},
     "output_type": "display_data"
    },
    {
     "data": {
      "text/plain": [
       "<Figure size 831.125x360 with 0 Axes>"
      ]
     },
     "metadata": {},
     "output_type": "display_data"
    },
    {
     "data": {
      "text/plain": [
       "<Figure size 831.125x360 with 0 Axes>"
      ]
     },
     "metadata": {},
     "output_type": "display_data"
    },
    {
     "data": {
      "text/plain": [
       "<Figure size 831.375x360 with 0 Axes>"
      ]
     },
     "metadata": {},
     "output_type": "display_data"
    },
    {
     "data": {
      "text/plain": [
       "<Figure size 836.75x360 with 0 Axes>"
      ]
     },
     "metadata": {},
     "output_type": "display_data"
    },
    {
     "data": {
      "text/plain": [
       "<Figure size 831.25x360 with 0 Axes>"
      ]
     },
     "metadata": {},
     "output_type": "display_data"
    },
    {
     "data": {
      "text/plain": [
       "<Figure size 831.125x360 with 0 Axes>"
      ]
     },
     "metadata": {},
     "output_type": "display_data"
    },
    {
     "data": {
      "text/plain": [
       "<Figure size 831.375x360 with 0 Axes>"
      ]
     },
     "metadata": {},
     "output_type": "display_data"
    },
    {
     "data": {
      "text/plain": [
       "<Figure size 831.125x360 with 0 Axes>"
      ]
     },
     "metadata": {},
     "output_type": "display_data"
    },
    {
     "data": {
      "text/plain": [
       "<Figure size 831.25x360 with 0 Axes>"
      ]
     },
     "metadata": {},
     "output_type": "display_data"
    },
    {
     "data": {
      "text/plain": [
       "<Figure size 831.25x360 with 0 Axes>"
      ]
     },
     "metadata": {},
     "output_type": "display_data"
    },
    {
     "data": {
      "text/plain": [
       "<Figure size 831.125x360 with 0 Axes>"
      ]
     },
     "metadata": {},
     "output_type": "display_data"
    },
    {
     "data": {
      "text/plain": [
       "<Figure size 831.25x360 with 0 Axes>"
      ]
     },
     "metadata": {},
     "output_type": "display_data"
    },
    {
     "data": {
      "text/plain": [
       "<Figure size 831.25x360 with 0 Axes>"
      ]
     },
     "metadata": {},
     "output_type": "display_data"
    },
    {
     "data": {
      "text/plain": [
       "<Figure size 831.125x360 with 0 Axes>"
      ]
     },
     "metadata": {},
     "output_type": "display_data"
    },
    {
     "data": {
      "text/plain": [
       "<Figure size 831.25x360 with 0 Axes>"
      ]
     },
     "metadata": {},
     "output_type": "display_data"
    },
    {
     "data": {
      "text/plain": [
       "<Figure size 836.75x360 with 0 Axes>"
      ]
     },
     "metadata": {},
     "output_type": "display_data"
    },
    {
     "data": {
      "text/plain": [
       "<Figure size 831.125x360 with 0 Axes>"
      ]
     },
     "metadata": {},
     "output_type": "display_data"
    },
    {
     "data": {
      "text/plain": [
       "<Figure size 836.75x360 with 0 Axes>"
      ]
     },
     "metadata": {},
     "output_type": "display_data"
    },
    {
     "data": {
      "text/plain": [
       "<Figure size 831.25x360 with 0 Axes>"
      ]
     },
     "metadata": {},
     "output_type": "display_data"
    },
    {
     "data": {
      "text/plain": [
       "<Figure size 831.375x360 with 0 Axes>"
      ]
     },
     "metadata": {},
     "output_type": "display_data"
    },
    {
     "data": {
      "text/plain": [
       "<Figure size 831.375x360 with 0 Axes>"
      ]
     },
     "metadata": {},
     "output_type": "display_data"
    },
    {
     "data": {
      "text/plain": [
       "<Figure size 831.125x360 with 0 Axes>"
      ]
     },
     "metadata": {},
     "output_type": "display_data"
    },
    {
     "data": {
      "text/plain": [
       "<Figure size 831.25x360 with 0 Axes>"
      ]
     },
     "metadata": {},
     "output_type": "display_data"
    },
    {
     "data": {
      "text/plain": [
       "<Figure size 831.125x360 with 0 Axes>"
      ]
     },
     "metadata": {},
     "output_type": "display_data"
    },
    {
     "data": {
      "text/plain": [
       "<Figure size 831.125x360 with 0 Axes>"
      ]
     },
     "metadata": {},
     "output_type": "display_data"
    },
    {
     "data": {
      "text/plain": [
       "<Figure size 831.25x360 with 0 Axes>"
      ]
     },
     "metadata": {},
     "output_type": "display_data"
    },
    {
     "data": {
      "text/plain": [
       "<Figure size 831.5x360 with 0 Axes>"
      ]
     },
     "metadata": {},
     "output_type": "display_data"
    },
    {
     "data": {
      "text/plain": [
       "<Figure size 831.5x360 with 0 Axes>"
      ]
     },
     "metadata": {},
     "output_type": "display_data"
    },
    {
     "data": {
      "text/plain": [
       "<Figure size 831.5x360 with 0 Axes>"
      ]
     },
     "metadata": {},
     "output_type": "display_data"
    },
    {
     "data": {
      "text/plain": [
       "<Figure size 831.375x360 with 0 Axes>"
      ]
     },
     "metadata": {},
     "output_type": "display_data"
    },
    {
     "data": {
      "text/plain": [
       "<Figure size 831.5x360 with 0 Axes>"
      ]
     },
     "metadata": {},
     "output_type": "display_data"
    },
    {
     "data": {
      "text/plain": [
       "<Figure size 831.375x360 with 0 Axes>"
      ]
     },
     "metadata": {},
     "output_type": "display_data"
    },
    {
     "data": {
      "text/plain": [
       "<Figure size 831.25x360 with 0 Axes>"
      ]
     },
     "metadata": {},
     "output_type": "display_data"
    },
    {
     "data": {
      "text/plain": [
       "<Figure size 831.5x360 with 0 Axes>"
      ]
     },
     "metadata": {},
     "output_type": "display_data"
    },
    {
     "data": {
      "text/plain": [
       "<Figure size 831.5x360 with 0 Axes>"
      ]
     },
     "metadata": {},
     "output_type": "display_data"
    },
    {
     "data": {
      "text/plain": [
       "<Figure size 831.25x360 with 0 Axes>"
      ]
     },
     "metadata": {},
     "output_type": "display_data"
    },
    {
     "data": {
      "text/plain": [
       "<Figure size 831.25x360 with 0 Axes>"
      ]
     },
     "metadata": {},
     "output_type": "display_data"
    }
   ],
   "source": [
    "# Get all instances in folder\n",
    "instance_file_names = os.listdir(request_log_folder)\n",
    "\n",
    "\n",
    "# Instance Info (key = instance name)\n",
    "dic_all_instance_settings = dict()\n",
    "dic_all_round_track = dict()\n",
    "dic_all_request_track = dict()\n",
    "\n",
    "print(\"Reading files in folder:\", request_log_folder)\n",
    "for file_name in instance_file_names:\n",
    "    instance, extension = file_name.split(\".\")\n",
    "    print(\"  - Processing\", instance)\n",
    "    experiment_file= \"{}request_track/{}.csv\".format(instances_folder, instance)\n",
    "    df_user_track = pd.read_csv(experiment_file,  parse_dates = True, comment = \"#\")\n",
    "    violin(df_user_track, violin_log_folder, instance, replace=True)"
   ]
  },
  {
   "cell_type": "code",
   "execution_count": null,
   "metadata": {},
   "outputs": [],
   "source": []
  }
 ],
 "metadata": {
  "kernelspec": {
   "display_name": "Python 3",
   "language": "python",
   "name": "python3"
  },
  "language_info": {
   "codemirror_mode": {
    "name": "ipython",
    "version": 3
   },
   "file_extension": ".py",
   "mimetype": "text/x-python",
   "name": "python",
   "nbconvert_exporter": "python",
   "pygments_lexer": "ipython3",
   "version": "3.7.1"
  }
 },
 "nbformat": 4,
 "nbformat_minor": 2
}
