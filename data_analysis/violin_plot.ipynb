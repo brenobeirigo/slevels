{
 "cells": [
  {
   "cell_type": "markdown",
   "metadata": {},
   "source": [
    "### 1) Overall configurations "
   ]
  },
  {
   "cell_type": "code",
   "execution_count": 1,
   "metadata": {},
   "outputs": [],
   "source": [
    "import os\n",
    "import os.path\n",
    "import pandas as pd\n",
    "from pprint import pprint\n",
    "\n",
    "# Example large data\n",
    "instance_settings_path = \"C:/Users/LocalAdmin/IdeaProjects/slevels/src/main/resources/week/profile_time.json\""
   ]
  },
  {
   "cell_type": "markdown",
   "metadata": {},
   "source": [
    "### 2) Loading the instance data"
   ]
  },
  {
   "cell_type": "code",
   "execution_count": 2,
   "metadata": {},
   "outputs": [
    {
     "name": "stdout",
     "output_type": "stream",
     "text": [
      "########### INSTANCE SETTINGS ##################################################\n",
      "{'adjacency_matrix_file': 'C:/Users/LocalAdmin/OneDrive/leap_forward/street_network_server/tenv/data/out/manhattan_nyc/distance/adjacency_matrix.csv',\n",
      " 'distances_file': 'C:/Users/LocalAdmin/OneDrive/leap_forward/street_network_server/tenv/data/out/manhattan_nyc/distance/dist_matrix_m.csv',\n",
      " 'instance_description': 'Parallel vs. Sequential execution - update fleet '\n",
      "                         'status',\n",
      " 'instance_name': 'S1',\n",
      " 'instances_folder': 'C:/Users/LocalAdmin/IdeaProjects/slevels/instance_output/profile_time/',\n",
      " 'labels': {'BA': 'batch_duration',\n",
      "            'CD': 'contract_duration',\n",
      "            'CS': 'customer_segmentation',\n",
      "            'CT': 'clear_target_list_every_round',\n",
      "            'HE': 'heuristic_rebalancing',\n",
      "            'ID': 'instance_description',\n",
      "            'IF': 'initial_fleet',\n",
      "            'IN': 'instance_name',\n",
      "            'MC': 'max_capacity',\n",
      "            'MO': 'allow_many_to_one',\n",
      "            'MR': 'max_requests',\n",
      "            'OP': 'optimal_rebalancing',\n",
      "            'RE': 'rebalance',\n",
      "            'RT': 'reinsert_targets',\n",
      "            'SD': 'allow_service_deterioration',\n",
      "            'SR': 'service_rate',\n",
      "            'ST': 'simulation_time',\n",
      "            'UR': 'allow_urgent_relocation',\n",
      "            'VH': 'allow_vehicle_hiring'},\n",
      " 'matching_config': {'sort_waiting_users_by_class': [False]},\n",
      " 'rebalancing_config': {'allow_many_to_one': [False, True],\n",
      "                        'allow_urgent_relocation': [True, False],\n",
      "                        'clear_target_list_every_round': [True, False],\n",
      "                        'rebalancing_method': ['rebalance_heuristic',\n",
      "                                               'rebalance_optimal_alonso_mora'],\n",
      "                        'reinsert_targets': [True, False]},\n",
      " 'requests_file': 'C:/Users/LocalAdmin/OneDrive/leap_forward/street_network_server/tenv/data/out/manhattan_nyc/tripdata/ids/tripdata_ids_2011-02-01_000000_2011-02-07_235959.csv',\n",
      " 'result_folder': 'C:/Users/LocalAdmin/IdeaProjects/slevels/instance_output/profile_time/',\n",
      " 'scenario_config': {'allow_service_deterioration': [False],\n",
      "                     'allow_vehicle_creation': [False],\n",
      "                     'allow_vehicle_hiring': [False],\n",
      "                     'batch_duration': [30],\n",
      "                     'contract_duration': [0],\n",
      "                     'customer_segmentation': {'BB': {'A': 0.16,\n",
      "                                                      'B': 0.68,\n",
      "                                                      'C': 0.16}},\n",
      "                     'initial_fleet': [1000],\n",
      "                     'max_capacity': [4],\n",
      "                     'max_requests': [1000],\n",
      "                     'rebalance': [True],\n",
      "                     'service_level': {'A': {'pk_delay': 180,\n",
      "                                             'sharing_preference': 0,\n",
      "                                             'trip_delay': 180},\n",
      "                                       'B': {'pk_delay': 300,\n",
      "                                             'sharing_preference': 1,\n",
      "                                             'trip_delay': 600},\n",
      "                                       'C': {'pk_delay': 600,\n",
      "                                             'sharing_preference': 1,\n",
      "                                             'trip_delay': 900}},\n",
      "                     'service_rate': {'S1': {'A': 0.9, 'B': 0.8, 'C': 0.7}},\n",
      "                     'time_horizon': [86400]}}\n"
     ]
    }
   ],
   "source": [
    "import json\n",
    "\n",
    "def load_json(path):\n",
    "    \"\"\"Read json file and return dictionary\"\"\"\n",
    "\n",
    "    # Add .json to the end of file if needed\n",
    "    if path.find(\".json\") < 0:\n",
    "        path = path + \".json\"\n",
    "\n",
    "    # Read JSON file\n",
    "    with open(path) as data_file:\n",
    "        data_loaded = json.load(data_file)\n",
    "\n",
    "    return data_loaded\n",
    "\n",
    "instances_dic = load_json(instance_settings_path)\n",
    "\n",
    "# Folder where results will be saved\n",
    "result_folder = instances_dic[\"result_folder\"]\n",
    "request_log_folder = result_folder + \"/request_track\"\n",
    "violin_log_folder = result_folder + \"violin_plot/\"\n",
    "\n",
    "# Folder where instances are located\n",
    "instances_folder = instances_dic[\"instances_folder\"]\n",
    "\n",
    "# File name aggregated data\n",
    "instance_name = instances_dic[\"instance_name\"]\n",
    "\n",
    "\n",
    "print(\"########### INSTANCE SETTINGS ##################################################\")\n",
    "pprint(instances_dic)"
   ]
  },
  {
   "cell_type": "markdown",
   "metadata": {},
   "source": [
    "### Violin plot (MET X UNMET and Initial X Third-party fleet)"
   ]
  },
  {
   "cell_type": "code",
   "execution_count": 5,
   "metadata": {},
   "outputs": [
    {
     "data": {
      "text/plain": [
       "<Figure size 432x288 with 0 Axes>"
      ]
     },
     "metadata": {},
     "output_type": "display_data"
    }
   ],
   "source": [
    "import matplotlib.pyplot as plt\n",
    "import seaborn as sns\n",
    "%matplotlib inline\n",
    "sns.set_style(\"darkgrid\")\n",
    "sns.despine(left=True)\n",
    "\n",
    "def violin(df_user_track, violin_log_folder, file_name, replace=False, file_extension = 'pdf'):\n",
    "    \n",
    "    font_ticks = 16\n",
    "    font_axis = 18\n",
    "    font_title = 20\n",
    "    # Create directory\n",
    "    if not os.path.exists(violin_log_folder):\n",
    "        os.makedirs(violin_log_folder)\n",
    "    \n",
    "    output_file_name = \"{}{}.{}\".format(violin_log_folder, file_name, file_extension)\n",
    "    \n",
    "    # Stop generation if already generated \n",
    "    if os.path.isfile(output_file_name) and not replace:\n",
    "        return\n",
    "    \n",
    "    \n",
    "    # New column labels (variable names are column names)\n",
    "    service_level = \"Pickup deadline\"\n",
    "    service = \"User serviced by\" \n",
    "    sq_class = \"SQ Class\"\n",
    "    pk_delay = \"Pickup delay (min)\"\n",
    "    \n",
    "    # New data nomenclature\n",
    "    dic_sq_class = {\"A\":\"Business\",\n",
    "                    \"B\":\"Standard\",\n",
    "                    \"C\":\"Low-cost\"}    \n",
    "    sq_categories= list(dic_sq_class.values())\n",
    "    \n",
    "    # Was the user pickup deadline extended? YES = UNMET in dataframe\n",
    "    met = \"Shortest\"\n",
    "    unmet = \"Extended\"\n",
    "    dic_slevel = {\"MET\":met,\n",
    "                  \"UNMET\":unmet}\n",
    "    \n",
    "    # Was the user picked up by a third-party vehicle? YES = FREELANCE in dataframe\n",
    "    fleet = \"Initial fleet\"\n",
    "    freelance=\"Third-party fleet\" \n",
    "    dic_fleet = {\"FLEET\":fleet,\n",
    "                 \"FREELANCE\":freelance}    \n",
    "    \n",
    "    # Replacing column names\n",
    "    df_delay = df_user_track.rename(index=str,\n",
    "                                    columns={\"pk_delay\":pk_delay,\n",
    "                                             \"class\": sq_class,\n",
    "                                             \"service\":service,\n",
    "                                             \"service_level\":service_level})\n",
    "    \n",
    "    \n",
    "    category_segmentation = pd.api.types.CategoricalDtype(categories=sq_categories, ordered=True)\n",
    "    df_delay[sq_class].replace(dic_sq_class, inplace=True)\n",
    "    \n",
    "    # Renaming data and applying aliases\n",
    "    # a[key_cs] = a[key_cs].map(lambda e:dict_segmentation[e])\n",
    "    df_delay[sq_class] = df_delay[sq_class].astype(category_segmentation)\n",
    "\n",
    "    # Replacing classes\n",
    "    df_delay[sq_class].replace(dic_sq_class, inplace=True)\n",
    "\n",
    "    # Getting percentage of users in each end of the service rate\n",
    "    value_counts_sl = df_delay[service_level].value_counts()\n",
    "    met_n = value_counts_sl.get(\"MET\",0)\n",
    "    unmet_n = value_counts_sl.get(\"UNMET\",0)\n",
    "    sl_map = {  \"MET\": \"1st tier ({:.2%})\".format(met_n/(met_n+unmet_n)),\n",
    "              \"UNMET\": \"2nd tier ({:.2%})\".format(unmet_n/(met_n+unmet_n))}\n",
    "    df_delay[service_level].replace(sl_map, inplace=True)\n",
    "    \n",
    "    ### Getting percentage of vehicle fleet serviced by each vehicle type\n",
    "    value_counts_fleet = df_delay[service].value_counts()\n",
    "    fleet_n = value_counts_fleet.get(\"FLEET\", 0)\n",
    "    freelance_n = value_counts_fleet.get(\"FREELANCE\", 0)\n",
    "    # How many users (%) serviced by each vehicle\n",
    "    fleet_map = {    \"FLEET\": fleet_n/(fleet_n+freelance_n),\n",
    "                 \"FREELANCE\": freelance_n/(fleet_n+freelance_n)}\n",
    "    #df_delay[service].replace(fleet_map, inplace=True)\n",
    "\n",
    "    # Customized palette\n",
    "    #palette_color = {initial_percentage:'#1d91c0', freelance_percentage:'#edf8b1'}\n",
    "\n",
    "    g = sns.catplot(x=sq_class,\n",
    "                     y=pk_delay,\n",
    "                     hue=service_level,\n",
    "                     col=service,\n",
    "                     data=df_delay,\n",
    "                     kind=\"violin\",\n",
    "                     cut=0,\n",
    "                     bw=.2,\n",
    "                     palette=\"Pastel1\")\n",
    "\n",
    "    # Formatting tick shape (from secs to mins)\n",
    "    min_y = 0\n",
    "    max_y = 660 # Goes until eleven to fit data labels\n",
    "    step_y = 60\n",
    "    g.set(yticks=[i for i in range(min_y, max_y+step_y, step_y)])\n",
    "    g.set(yticklabels=[i for  i in range(0, 11)])\n",
    "    \n",
    "    # Setting tick style\n",
    "    g.set_xlabels(fontweight=\"bold\", fontsize=font_axis, labelpad =10)\n",
    "    g.set_ylabels(fontsize=font_ticks)\n",
    "\n",
    "\n",
    "    \n",
    "    plt.setp(g._legend.get_title(), fontsize=font_axis, fontweight=\"bold\")\n",
    "    plt.setp(g._legend.get_texts(), fontsize=font_ticks)\n",
    "    plt.setp(g._legend, bbox_to_anchor=(1.06, 0.5))\n",
    "    #plt.subplots_adjust(hspace=0.6, wspace=0.1)\n",
    "\n",
    "    # Setting column headers\n",
    "    # Example to use rows, cols and Latex math\n",
    "    # g.set_titles(r\"$\\bf{{Service\\;rate:}}$\" + \"{row_name}\\n\"+ r\"$\\bf{{Service\\;level:}}$ {col_name}\")\n",
    "    g.set_titles(\"{col_name}\")\n",
    "\n",
    "    # Loop catplot columns\n",
    "    sl_unmet = sl_map['UNMET']\n",
    "    for col, fleet_type in enumerate(dic_fleet.keys()):\n",
    "        \n",
    "        # Create column titles\n",
    "        g.axes.flat[col].set_title(dic_fleet[fleet_type], fontweight=\"bold\", fontsize=font_title, pad=28)\n",
    "        g.axes.flat[col].text(0.1, max_y + 15, \"(serviced {:.2%} requests)\".format(fleet_map[fleet_type]), fontsize=font_ticks)\n",
    "        g.axes.flat[col].tick_params(axis='both', labelsize=font_ticks)\n",
    "        filter_unmet = (df_delay[service_level]==sl_unmet) & (df_delay[service]==fleet_type)\n",
    "        # User count (per fleet type) who had their pickup deadlines extended\n",
    "        extended_count = dict(df_delay[sq_class][filter_unmet].value_counts())\n",
    "        \n",
    "        # Place data label over the user who waited the longest (upmost y coordinate)\n",
    "        max_pkdelay_extended = dict(df_delay[filter_unmet].groupby(sq_class)[pk_delay].max())\n",
    "        \n",
    "        for sq_i, sq in enumerate(sq_categories):\n",
    "            \n",
    "            # How many users from sq had to wait more?\n",
    "            extended_sq = int(extended_count.get(sq, 0))\n",
    "            \n",
    "            if extended_sq > 0:\n",
    "                extended_sq_max = max_pkdelay_extended[sq]\n",
    "                up_padding = 10\n",
    "                pos_y = extended_sq_max + up_padding\n",
    "                \n",
    "                \n",
    "                g.axes.flat[col].text(sq_i+0.08,\n",
    "                                      pos_y,\n",
    "                                      \"n={}\".format(extended_sq),fontsize=font_ticks)\n",
    "                \n",
    "    plt.savefig(output_file_name, bbox_inches=\"tight\")\n",
    "    \n",
    "    # Close figure\n",
    "    plt.clf()"
   ]
  },
  {
   "cell_type": "markdown",
   "metadata": {},
   "source": [
    "### Plot single instance"
   ]
  },
  {
   "cell_type": "code",
   "execution_count": 10,
   "metadata": {},
   "outputs": [
    {
     "data": {
      "text/plain": [
       "<Figure size 829.75x360 with 0 Axes>"
      ]
     },
     "metadata": {},
     "output_type": "display_data"
    },
    {
     "data": {
      "text/plain": [
       "<Figure size 829.75x360 with 0 Axes>"
      ]
     },
     "metadata": {},
     "output_type": "display_data"
    },
    {
     "data": {
      "text/plain": [
       "<Figure size 829.625x360 with 0 Axes>"
      ]
     },
     "metadata": {},
     "output_type": "display_data"
    }
   ],
   "source": [
    "contract_3h = 'IN-HIRINGWEEKMAXWAITING_BA-30_ST-604800_MR-1000_IF-1000_MC-4_CS-BB_CD-10800_SR-S2_VH_SD_RE_CT_RT_UR'\n",
    "contract_1h = 'IN-HIRINGWEEKMAXWAITING_BA-30_ST-604800_MR-1000_IF-1000_MC-4_CS-BB_CD-3600_SR-S2_VH_SD_RE_CT_RT_UR'\n",
    "contract_single_ride = 'IN-HIRINGWEEKMAXWAITING_BA-30_ST-604800_MR-1000_IF-1000_MC-4_CS-BB_CD-0_SR-S2_VH_SD_RE_CT_RT_UR'\n",
    "\n",
    "\n",
    "\n",
    "contracts = [contract_single_ride, contract_1h, contract_3h]\n",
    "\n",
    "for contract in contracts:\n",
    "    \n",
    "    experiment = \"{}request_track/{}.csv\".format(instances_folder, contract)\n",
    "    df_user_track_single = pd.read_csv(experiment,  parse_dates = True, comment = \"#\")\n",
    "    \n",
    "    # Plotting violin with service rate scenario S1\n",
    "    violin(df_user_track_single, violin_log_folder, contract, replace=True, file_extension = 'png')"
   ]
  },
  {
   "cell_type": "markdown",
   "metadata": {},
   "source": [
    "### Processing all data"
   ]
  },
  {
   "cell_type": "code",
   "execution_count": 4,
   "metadata": {},
   "outputs": [
    {
     "name": "stdout",
     "output_type": "stream",
     "text": [
      "Reading files in folder: C:/Users/LocalAdmin/IdeaProjects/slevels/instance_output/profile_time//request_track\n",
      "  - Processing IN-S3_BA-30_ST-86400_MR-1000_IF-1000_MC-4_CS-BB_RE_CT_HE\n",
      "  - Processing IN-S3_BA-30_ST-86400_MR-1000_IF-1000_MC-4_CS-BB_RE_CT_MO_HE\n",
      "  - Processing IN-S3_BA-30_ST-86400_MR-1000_IF-1000_MC-4_CS-BB_RE_CT_MO_OP\n",
      "  - Processing IN-S3_BA-30_ST-86400_MR-1000_IF-1000_MC-4_CS-BB_RE_CT_MO_RT_HE\n",
      "  - Processing IN-S3_BA-30_ST-86400_MR-1000_IF-1000_MC-4_CS-BB_RE_CT_MO_RT_OP\n",
      "  - Processing IN-S3_BA-30_ST-86400_MR-1000_IF-1000_MC-4_CS-BB_RE_CT_MO_RT_UR_HE\n",
      "  - Processing IN-S3_BA-30_ST-86400_MR-1000_IF-1000_MC-4_CS-BB_RE_CT_MO_RT_UR_OP\n",
      "  - Processing IN-S3_BA-30_ST-86400_MR-1000_IF-1000_MC-4_CS-BB_RE_CT_MO_UR_HE\n",
      "  - Processing IN-S3_BA-30_ST-86400_MR-1000_IF-1000_MC-4_CS-BB_RE_CT_MO_UR_OP\n",
      "  - Processing IN-S3_BA-30_ST-86400_MR-1000_IF-1000_MC-4_CS-BB_RE_CT_OP\n",
      "  - Processing IN-S3_BA-30_ST-86400_MR-1000_IF-1000_MC-4_CS-BB_RE_CT_RT_HE\n",
      "  - Processing IN-S3_BA-30_ST-86400_MR-1000_IF-1000_MC-4_CS-BB_RE_CT_RT_OP\n",
      "  - Processing IN-S3_BA-30_ST-86400_MR-1000_IF-1000_MC-4_CS-BB_RE_CT_RT_UR_HE\n",
      "  - Processing IN-S3_BA-30_ST-86400_MR-1000_IF-1000_MC-4_CS-BB_RE_CT_RT_UR_OP\n",
      "  - Processing IN-S3_BA-30_ST-86400_MR-1000_IF-1000_MC-4_CS-BB_RE_CT_UR_HE\n",
      "  - Processing IN-S3_BA-30_ST-86400_MR-1000_IF-1000_MC-4_CS-BB_RE_CT_UR_OP\n",
      "  - Processing IN-S3_BA-30_ST-86400_MR-1000_IF-1000_MC-4_CS-BB_RE_HE\n"
     ]
    },
    {
     "ename": "IndexError",
     "evalue": "index 1 is out of bounds for axis 0 with size 1",
     "output_type": "error",
     "traceback": [
      "\u001b[1;31m---------------------------------------------------------------------------\u001b[0m",
      "\u001b[1;31mIndexError\u001b[0m                                Traceback (most recent call last)",
      "\u001b[1;32m<ipython-input-4-695c2954f673>\u001b[0m in \u001b[0;36m<module>\u001b[1;34m\u001b[0m\n\u001b[0;32m     14\u001b[0m     \u001b[0mexperiment_file\u001b[0m\u001b[1;33m=\u001b[0m \u001b[1;34m\"{}request_track/{}.csv\"\u001b[0m\u001b[1;33m.\u001b[0m\u001b[0mformat\u001b[0m\u001b[1;33m(\u001b[0m\u001b[0minstances_folder\u001b[0m\u001b[1;33m,\u001b[0m \u001b[0minstance\u001b[0m\u001b[1;33m)\u001b[0m\u001b[1;33m\u001b[0m\u001b[1;33m\u001b[0m\u001b[0m\n\u001b[0;32m     15\u001b[0m     \u001b[0mdf_user_track\u001b[0m \u001b[1;33m=\u001b[0m \u001b[0mpd\u001b[0m\u001b[1;33m.\u001b[0m\u001b[0mread_csv\u001b[0m\u001b[1;33m(\u001b[0m\u001b[0mexperiment_file\u001b[0m\u001b[1;33m,\u001b[0m  \u001b[0mparse_dates\u001b[0m \u001b[1;33m=\u001b[0m \u001b[1;32mTrue\u001b[0m\u001b[1;33m,\u001b[0m \u001b[0mcomment\u001b[0m \u001b[1;33m=\u001b[0m \u001b[1;34m\"#\"\u001b[0m\u001b[1;33m)\u001b[0m\u001b[1;33m\u001b[0m\u001b[1;33m\u001b[0m\u001b[0m\n\u001b[1;32m---> 16\u001b[1;33m     \u001b[0mviolin\u001b[0m\u001b[1;33m(\u001b[0m\u001b[0mdf_user_track\u001b[0m\u001b[1;33m,\u001b[0m \u001b[0mviolin_log_folder\u001b[0m\u001b[1;33m,\u001b[0m \u001b[0minstance\u001b[0m\u001b[1;33m,\u001b[0m \u001b[0mreplace\u001b[0m\u001b[1;33m=\u001b[0m\u001b[1;32mTrue\u001b[0m\u001b[1;33m)\u001b[0m\u001b[1;33m\u001b[0m\u001b[1;33m\u001b[0m\u001b[0m\n\u001b[0m",
      "\u001b[1;32m<ipython-input-3-d4b5608cf876>\u001b[0m in \u001b[0;36mviolin\u001b[1;34m(df_user_track, violin_log_folder, file_name, replace, file_extension)\u001b[0m\n\u001b[0;32m    121\u001b[0m \u001b[1;33m\u001b[0m\u001b[0m\n\u001b[0;32m    122\u001b[0m         \u001b[1;31m# Create column titles\u001b[0m\u001b[1;33m\u001b[0m\u001b[1;33m\u001b[0m\u001b[1;33m\u001b[0m\u001b[0m\n\u001b[1;32m--> 123\u001b[1;33m         \u001b[0mg\u001b[0m\u001b[1;33m.\u001b[0m\u001b[0maxes\u001b[0m\u001b[1;33m.\u001b[0m\u001b[0mflat\u001b[0m\u001b[1;33m[\u001b[0m\u001b[0mcol\u001b[0m\u001b[1;33m]\u001b[0m\u001b[1;33m.\u001b[0m\u001b[0mset_title\u001b[0m\u001b[1;33m(\u001b[0m\u001b[0mdic_fleet\u001b[0m\u001b[1;33m[\u001b[0m\u001b[0mfleet_type\u001b[0m\u001b[1;33m]\u001b[0m\u001b[1;33m,\u001b[0m \u001b[0mfontweight\u001b[0m\u001b[1;33m=\u001b[0m\u001b[1;34m\"bold\"\u001b[0m\u001b[1;33m,\u001b[0m \u001b[0mfontsize\u001b[0m\u001b[1;33m=\u001b[0m\u001b[0mfont_title\u001b[0m\u001b[1;33m,\u001b[0m \u001b[0mpad\u001b[0m\u001b[1;33m=\u001b[0m\u001b[1;36m28\u001b[0m\u001b[1;33m)\u001b[0m\u001b[1;33m\u001b[0m\u001b[1;33m\u001b[0m\u001b[0m\n\u001b[0m\u001b[0;32m    124\u001b[0m         \u001b[0mg\u001b[0m\u001b[1;33m.\u001b[0m\u001b[0maxes\u001b[0m\u001b[1;33m.\u001b[0m\u001b[0mflat\u001b[0m\u001b[1;33m[\u001b[0m\u001b[0mcol\u001b[0m\u001b[1;33m]\u001b[0m\u001b[1;33m.\u001b[0m\u001b[0mtext\u001b[0m\u001b[1;33m(\u001b[0m\u001b[1;36m0.1\u001b[0m\u001b[1;33m,\u001b[0m \u001b[0mmax_y\u001b[0m \u001b[1;33m+\u001b[0m \u001b[1;36m15\u001b[0m\u001b[1;33m,\u001b[0m \u001b[1;34m\"(serviced {:.2%} requests)\"\u001b[0m\u001b[1;33m.\u001b[0m\u001b[0mformat\u001b[0m\u001b[1;33m(\u001b[0m\u001b[0mfleet_map\u001b[0m\u001b[1;33m[\u001b[0m\u001b[0mfleet_type\u001b[0m\u001b[1;33m]\u001b[0m\u001b[1;33m)\u001b[0m\u001b[1;33m,\u001b[0m \u001b[0mfontsize\u001b[0m\u001b[1;33m=\u001b[0m\u001b[0mfont_ticks\u001b[0m\u001b[1;33m)\u001b[0m\u001b[1;33m\u001b[0m\u001b[1;33m\u001b[0m\u001b[0m\n\u001b[0;32m    125\u001b[0m         \u001b[0mg\u001b[0m\u001b[1;33m.\u001b[0m\u001b[0maxes\u001b[0m\u001b[1;33m.\u001b[0m\u001b[0mflat\u001b[0m\u001b[1;33m[\u001b[0m\u001b[0mcol\u001b[0m\u001b[1;33m]\u001b[0m\u001b[1;33m.\u001b[0m\u001b[0mtick_params\u001b[0m\u001b[1;33m(\u001b[0m\u001b[0maxis\u001b[0m\u001b[1;33m=\u001b[0m\u001b[1;34m'both'\u001b[0m\u001b[1;33m,\u001b[0m \u001b[0mlabelsize\u001b[0m\u001b[1;33m=\u001b[0m\u001b[0mfont_ticks\u001b[0m\u001b[1;33m)\u001b[0m\u001b[1;33m\u001b[0m\u001b[1;33m\u001b[0m\u001b[0m\n",
      "\u001b[1;31mIndexError\u001b[0m: index 1 is out of bounds for axis 0 with size 1"
     ]
    },
    {
     "data": {
      "text/plain": [
       "<Figure size 833.25x360 with 0 Axes>"
      ]
     },
     "metadata": {},
     "output_type": "display_data"
    },
    {
     "data": {
      "text/plain": [
       "<Figure size 833.25x360 with 0 Axes>"
      ]
     },
     "metadata": {},
     "output_type": "display_data"
    },
    {
     "data": {
      "text/plain": [
       "<Figure size 832.5x360 with 0 Axes>"
      ]
     },
     "metadata": {},
     "output_type": "display_data"
    },
    {
     "data": {
      "text/plain": [
       "<Figure size 833.25x360 with 0 Axes>"
      ]
     },
     "metadata": {},
     "output_type": "display_data"
    },
    {
     "data": {
      "text/plain": [
       "<Figure size 832.5x360 with 0 Axes>"
      ]
     },
     "metadata": {},
     "output_type": "display_data"
    },
    {
     "data": {
      "text/plain": [
       "<Figure size 830x360 with 0 Axes>"
      ]
     },
     "metadata": {},
     "output_type": "display_data"
    },
    {
     "data": {
      "text/plain": [
       "<Figure size 832.5x360 with 0 Axes>"
      ]
     },
     "metadata": {},
     "output_type": "display_data"
    },
    {
     "data": {
      "text/plain": [
       "<Figure size 833.25x360 with 0 Axes>"
      ]
     },
     "metadata": {},
     "output_type": "display_data"
    },
    {
     "data": {
      "text/plain": [
       "<Figure size 832.5x360 with 0 Axes>"
      ]
     },
     "metadata": {},
     "output_type": "display_data"
    },
    {
     "data": {
      "text/plain": [
       "<Figure size 832.5x360 with 0 Axes>"
      ]
     },
     "metadata": {},
     "output_type": "display_data"
    },
    {
     "data": {
      "text/plain": [
       "<Figure size 833.25x360 with 0 Axes>"
      ]
     },
     "metadata": {},
     "output_type": "display_data"
    },
    {
     "data": {
      "text/plain": [
       "<Figure size 832.5x360 with 0 Axes>"
      ]
     },
     "metadata": {},
     "output_type": "display_data"
    },
    {
     "data": {
      "text/plain": [
       "<Figure size 833.25x360 with 0 Axes>"
      ]
     },
     "metadata": {},
     "output_type": "display_data"
    },
    {
     "data": {
      "text/plain": [
       "<Figure size 832.5x360 with 0 Axes>"
      ]
     },
     "metadata": {},
     "output_type": "display_data"
    },
    {
     "data": {
      "text/plain": [
       "<Figure size 833.25x360 with 0 Axes>"
      ]
     },
     "metadata": {},
     "output_type": "display_data"
    },
    {
     "data": {
      "text/plain": [
       "<Figure size 832.5x360 with 0 Axes>"
      ]
     },
     "metadata": {},
     "output_type": "display_data"
    },
    {
     "data": {
      "image/png": "[encoded data removed]",
      "text/plain": [
       "<Figure size 475.625x360 with 1 Axes>"
      ]
     },
     "metadata": {},
     "output_type": "display_data"
    }
   ],
   "source": [
    "# Get all instances in folder\n",
    "instance_file_names = os.listdir(request_log_folder)\n",
    "\n",
    "\n",
    "# Instance Info (key = instance name)\n",
    "dic_all_instance_settings = dict()\n",
    "dic_all_round_track = dict()\n",
    "dic_all_request_track = dict()\n",
    "\n",
    "print(\"Reading files in folder:\", request_log_folder)\n",
    "for file_name in instance_file_names:\n",
    "    instance, extension = file_name.split(\".\")\n",
    "    print(\"  - Processing\", instance)\n",
    "    experiment_file= \"{}request_track/{}.csv\".format(instances_folder, instance)\n",
    "    df_user_track = pd.read_csv(experiment_file,  parse_dates = True, comment = \"#\")\n",
    "    violin(df_user_track, violin_log_folder, instance, replace=True)"
   ]
  },
  {
   "cell_type": "code",
   "execution_count": null,
   "metadata": {},
   "outputs": [],
   "source": []
  }
 ],
 "metadata": {
  "kernelspec": {
   "display_name": "Python 3",
   "language": "python",
   "name": "python3"
  },
  "language_info": {
   "codemirror_mode": {
    "name": "ipython",
    "version": 3
   },
   "file_extension": ".py",
   "mimetype": "text/x-python",
   "name": "python",
   "nbconvert_exporter": "python",
   "pygments_lexer": "ipython3",
   "version": "3.7.6"
  }
 },
 "nbformat": 4,
 "nbformat_minor": 4
}
