{
 "cells": [
  {
   "cell_type": "markdown",
   "metadata": {},
   "source": [
    "### 1) Overall configurations"
   ]
  },
  {
   "cell_type": "code",
   "execution_count": 35,
   "metadata": {
    "collapsed": false,
    "jupyter": {
     "outputs_hidden": false
    },
    "pycharm": {
     "name": "#%%\n"
    }
   },
   "outputs": [],
   "source": [
    "import sys\n",
    "\n",
    "import pandas as pd\n",
    "sys.path.append( '../slevelsutil/' )\n",
    "\n",
    "import request_track_util as rtrack\n",
    "from Instance import Instance\n",
    "from ResultTripServiceLevel import ResultTripServiceLevel"
   ]
  },
  {
   "cell_type": "markdown",
   "metadata": {},
   "source": [
    "### 2) Loading the instance data"
   ]
  },
  {
   "cell_type": "code",
   "execution_count": 36,
   "metadata": {
    "collapsed": false,
    "jupyter": {
     "outputs_hidden": false
    },
    "pycharm": {
     "name": "#%%\n"
    }
   },
   "outputs": [],
   "source": [
    "test_case = \"standard_vs_enforce_BB\"\n",
    "instance_settings_path = \"C:/Users/LocalAdmin/IdeaProjects/slevels/src/main/resources/week/enforce_service_levels.json\"\n",
    "data_dict_path = \"../data/dictionary/request_track_data_dictionary.json\"\n",
    "\n",
    "instance = Instance(test_case, instance_settings_path, data_dict_path)\n",
    "tripdata = ResultTripServiceLevel(instance)"
   ]
  },
  {
   "cell_type": "code",
   "execution_count": 37,
   "metadata": {
    "collapsed": false,
    "jupyter": {
     "outputs_hidden": false
    },
    "pycharm": {
     "name": "#%%\n"
    }
   },
   "outputs": [
    {
     "name": "stdout",
     "output_type": "stream",
     "text": [
      "         Status             Policy  SQ Class  Count\n",
      "0      Serviced  Enforce SL + Hire  Business   6603\n",
      "1      Serviced  Enforce SL + Hire  Standard  28555\n",
      "2      Serviced  Enforce SL + Hire  Low-cost   6768\n",
      "3      Serviced         Enforce SL  Business   6171\n",
      "4      Serviced         Enforce SL  Standard  24245\n",
      "5      Serviced         Enforce SL  Low-cost   6299\n",
      "6      Serviced       Min. waiting  Business   6570\n",
      "7      Serviced       Min. waiting  Standard  23811\n",
      "8      Serviced       Min. waiting  Low-cost   5360\n",
      "9      Rejected  Enforce SL + Hire  Business      0\n",
      "10     Rejected  Enforce SL + Hire  Standard     26\n",
      "11     Rejected  Enforce SL + Hire  Low-cost      5\n",
      "12     Rejected         Enforce SL  Business    432\n",
      "13     Rejected         Enforce SL  Standard   4336\n",
      "14     Rejected         Enforce SL  Low-cost    474\n",
      "15     Rejected       Min. waiting  Business     33\n",
      "16     Rejected       Min. waiting  Standard   4770\n",
      "17     Rejected       Min. waiting  Low-cost   1413\n",
      "18   First-tier  Enforce SL + Hire  Business   6355\n",
      "19   First-tier  Enforce SL + Hire  Standard  26579\n",
      "20   First-tier  Enforce SL + Hire  Low-cost   6768\n",
      "21   First-tier         Enforce SL  Business   5313\n",
      "22   First-tier         Enforce SL  Standard  13587\n",
      "23   First-tier         Enforce SL  Low-cost   6299\n",
      "24   First-tier       Min. waiting  Business   3230\n",
      "25   First-tier       Min. waiting  Standard   9570\n",
      "26   First-tier       Min. waiting  Low-cost   5360\n",
      "27  Second-tier  Enforce SL + Hire  Business    248\n",
      "28  Second-tier  Enforce SL + Hire  Standard   1976\n",
      "29  Second-tier  Enforce SL + Hire  Low-cost      0\n",
      "30  Second-tier         Enforce SL  Business    858\n",
      "31  Second-tier         Enforce SL  Standard  10658\n",
      "32  Second-tier         Enforce SL  Low-cost      0\n",
      "33  Second-tier       Min. waiting  Business   3340\n",
      "34  Second-tier       Min. waiting  Standard  14241\n",
      "35  Second-tier       Min. waiting  Low-cost      0\n"
     ]
    }
   ],
   "source": [
    "\n",
    "figure_name_box_plot = \"boxplot_pickup_waiting_serviced.pdf\"\n",
    "fig_boxplot_filepath = f'{instance.paper_folder}{test_case}_{figure_name_box_plot}'\n",
    "\n",
    "df_summary_class = tripdata.df_summary_class"
   ]
  },
  {
   "cell_type": "code",
   "execution_count": 38,
   "metadata": {
    "collapsed": false,
    "jupyter": {
     "outputs_hidden": false
    },
    "pycharm": {
     "name": "#%%\n"
    }
   },
   "outputs": [
    {
     "data": {
      "text/html": [
       "<div>\n",
       "<style scoped>\n",
       "    .dataframe tbody tr th:only-of-type {\n",
       "        vertical-align: middle;\n",
       "    }\n",
       "\n",
       "    .dataframe tbody tr th {\n",
       "        vertical-align: top;\n",
       "    }\n",
       "\n",
       "    .dataframe thead th {\n",
       "        text-align: right;\n",
       "    }\n",
       "</style>\n",
       "<table border=\"1\" class=\"dataframe\">\n",
       "  <thead>\n",
       "    <tr style=\"text-align: right;\">\n",
       "      <th></th>\n",
       "      <th>Pickup waiting (min)</th>\n",
       "      <th>deviation</th>\n",
       "    </tr>\n",
       "  </thead>\n",
       "  <tbody>\n",
       "    <tr>\n",
       "      <th>count</th>\n",
       "      <td>19344.000000</td>\n",
       "      <td>19344.000000</td>\n",
       "    </tr>\n",
       "    <tr>\n",
       "      <th>mean</th>\n",
       "      <td>160.831782</td>\n",
       "      <td>33.551747</td>\n",
       "    </tr>\n",
       "    <tr>\n",
       "      <th>std</th>\n",
       "      <td>104.486647</td>\n",
       "      <td>71.179011</td>\n",
       "    </tr>\n",
       "    <tr>\n",
       "      <th>min</th>\n",
       "      <td>1.000000</td>\n",
       "      <td>0.000000</td>\n",
       "    </tr>\n",
       "    <tr>\n",
       "      <th>25%</th>\n",
       "      <td>88.000000</td>\n",
       "      <td>0.000000</td>\n",
       "    </tr>\n",
       "    <tr>\n",
       "      <th>50%</th>\n",
       "      <td>136.000000</td>\n",
       "      <td>0.000000</td>\n",
       "    </tr>\n",
       "    <tr>\n",
       "      <th>75%</th>\n",
       "      <td>178.000000</td>\n",
       "      <td>0.000000</td>\n",
       "    </tr>\n",
       "    <tr>\n",
       "      <th>max</th>\n",
       "      <td>420.000000</td>\n",
       "      <td>240.000000</td>\n",
       "    </tr>\n",
       "  </tbody>\n",
       "</table>\n",
       "</div>"
      ],
      "text/plain": [
       "       Pickup waiting (min)     deviation\n",
       "count          19344.000000  19344.000000\n",
       "mean             160.831782     33.551747\n",
       "std              104.486647     71.179011\n",
       "min                1.000000      0.000000\n",
       "25%               88.000000      0.000000\n",
       "50%              136.000000      0.000000\n",
       "75%              178.000000      0.000000\n",
       "max              420.000000    240.000000"
      ]
     },
     "execution_count": 38,
     "metadata": {},
     "output_type": "execute_result"
    }
   ],
   "source": [
    "tripdata.df_serviced[tripdata.df_serviced[instance.headers[\"class\"]] == instance.dict_sl_class[\"A\"]].describe()"
   ]
  },
  {
   "cell_type": "code",
   "execution_count": 39,
   "metadata": {
    "collapsed": false,
    "jupyter": {
     "outputs_hidden": false
    },
    "pycharm": {
     "name": "#%%\n"
    }
   },
   "outputs": [
    {
     "name": "stdout",
     "output_type": "stream",
     "text": [
      "Plotting expected  {'Business': 180, 'Standard': 300, 'Low-cost': 420}\n",
      "('Business', 'Standard', 'Low-cost') (180, 300, 420)\n",
      "saving at C:/Users/LocalAdmin/OneDrive/leap_forward/phd_project/sqc/business_class_amod/standard_vs_enforce_BB_boxplot_pickup_waiting_serviced.pdf\n"
     ]
    },
    {
     "data": {
      "text/plain": [
       "<Figure size 432x288 with 0 Axes>"
      ]
     },
     "metadata": {},
     "output_type": "display_data"
    },
    {
     "data": {
      "image/png": "[encoded data removed]",
      "text/plain": [
       "<Figure size 432x288 with 1 Axes>"
      ]
     },
     "metadata": {},
     "output_type": "display_data"
    }
   ],
   "source": [
    "import matplotlib.pyplot as plt\n",
    "import seaborn as sns\n",
    "%matplotlib inline\n",
    "sns.set(style=\"whitegrid\")\n",
    "sns.despine(left=True)\n",
    "import numpy as np\n",
    "\n",
    "fig, ax = plt.subplots(1,1)\n",
    "g = sns.boxplot(\n",
    "    x=instance.headers[\"class\"],\n",
    "    y=instance.headers[\"delay_pk\"],\n",
    "    hue=instance.headers[\"method\"],\n",
    "    data=tripdata.df_serviced,\n",
    "    palette=\"Set2\",\n",
    "    ax=ax)\n",
    "\n",
    "\n",
    "print(\"Plotting expected \", instance.sl_class_target_pickup)\n",
    "x,y = list(zip(*instance.sl_class_target_pickup.items()))\n",
    "print(x,y)\n",
    "ax.scatter(x, y, marker=\"x\", color=\"red\", label=\"Expected waiting\")\n",
    "ax.legend(bbox_to_anchor=(1.05, 1.0), loc='upper left')\n",
    "\n",
    "plt.tight_layout()\n",
    "\n",
    "_ = ax.set_yticks(np.arange(0, 480, 60))\n",
    "_ = ax.set_yticklabels(np.arange(0, 8))\n",
    "\n",
    "sns.despine(left=True)\n",
    "\n",
    "print(\"saving at\", fig_boxplot_filepath)\n",
    "plt.savefig(fig_boxplot_filepath, bbox_inches=\"tight\")"
   ]
  },
  {
   "cell_type": "code",
   "execution_count": 40,
   "metadata": {
    "collapsed": false,
    "jupyter": {
     "outputs_hidden": false
    },
    "pycharm": {
     "name": "#%%\n"
    }
   },
   "outputs": [
    {
     "data": {
      "text/plain": [
       "<Figure size 432x288 with 0 Axes>"
      ]
     },
     "metadata": {},
     "output_type": "display_data"
    }
   ],
   "source": [
    "import matplotlib.pyplot as plt\n",
    "import seaborn as sns\n",
    "%matplotlib inline\n",
    "\n",
    "sns.set_style(\n",
    "    \"whitegrid\", {\n",
    "        'xtick.bottom': True,\n",
    "        'xtick.top': False,\n",
    "        'ytick.left': False,\n",
    "        'ytick.right': False\n",
    "    }\n",
    ")\n",
    "sns.set_context(\"paper\")\n",
    "sns.despine(left=True)"
   ]
  },
  {
   "cell_type": "code",
   "execution_count": 41,
   "metadata": {
    "collapsed": false,
    "jupyter": {
     "outputs_hidden": false
    },
    "pycharm": {
     "name": "#%%\n"
    }
   },
   "outputs": [
    {
     "name": "stdout",
     "output_type": "stream",
     "text": [
      "         Status             Policy  SQ Class  Count\n",
      "0      Serviced  Enforce SL + Hire  Business   6603\n",
      "1      Serviced  Enforce SL + Hire  Standard  28555\n",
      "2      Serviced  Enforce SL + Hire  Low-cost   6768\n",
      "3      Serviced         Enforce SL  Business   6171\n",
      "4      Serviced         Enforce SL  Standard  24245\n",
      "5      Serviced         Enforce SL  Low-cost   6299\n",
      "6      Serviced       Min. waiting  Business   6570\n",
      "7      Serviced       Min. waiting  Standard  23811\n",
      "8      Serviced       Min. waiting  Low-cost   5360\n",
      "9      Rejected  Enforce SL + Hire  Business      0\n",
      "10     Rejected  Enforce SL + Hire  Standard     26\n",
      "11     Rejected  Enforce SL + Hire  Low-cost      5\n",
      "12     Rejected         Enforce SL  Business    432\n",
      "13     Rejected         Enforce SL  Standard   4336\n",
      "14     Rejected         Enforce SL  Low-cost    474\n",
      "15     Rejected       Min. waiting  Business     33\n",
      "16     Rejected       Min. waiting  Standard   4770\n",
      "17     Rejected       Min. waiting  Low-cost   1413\n",
      "18   First-tier  Enforce SL + Hire  Business   6355\n",
      "19   First-tier  Enforce SL + Hire  Standard  26579\n",
      "20   First-tier  Enforce SL + Hire  Low-cost   6768\n",
      "21   First-tier         Enforce SL  Business   5313\n",
      "22   First-tier         Enforce SL  Standard  13587\n",
      "23   First-tier         Enforce SL  Low-cost   6299\n",
      "24   First-tier       Min. waiting  Business   3230\n",
      "25   First-tier       Min. waiting  Standard   9570\n",
      "26   First-tier       Min. waiting  Low-cost   5360\n",
      "27  Second-tier  Enforce SL + Hire  Business    248\n",
      "28  Second-tier  Enforce SL + Hire  Standard   1976\n",
      "29  Second-tier  Enforce SL + Hire  Low-cost      0\n",
      "30  Second-tier         Enforce SL  Business    858\n",
      "31  Second-tier         Enforce SL  Standard  10658\n",
      "32  Second-tier         Enforce SL  Low-cost      0\n",
      "33  Second-tier       Min. waiting  Business   3340\n",
      "34  Second-tier       Min. waiting  Standard  14241\n",
      "35  Second-tier       Min. waiting  Low-cost      0\n"
     ]
    }
   ],
   "source": [
    "df_rejected_method_class = tripdata.df_rejected_method_class"
   ]
  },
  {
   "cell_type": "markdown",
   "metadata": {
    "pycharm": {
     "name": "#%% md\n"
    }
   },
   "source": [
    "Count rejected"
   ]
  },
  {
   "cell_type": "code",
   "execution_count": 42,
   "metadata": {
    "collapsed": false,
    "jupyter": {
     "outputs_hidden": false
    },
    "pycharm": {
     "name": "#%%\n"
    }
   },
   "outputs": [
    {
     "data": {
      "image/png": "[encoded data removed]",
      "text/plain": [
       "<Figure size 691.2x288 with 3 Axes>"
      ]
     },
     "metadata": {},
     "output_type": "display_data"
    }
   ],
   "source": [
    "g = sns.catplot(\n",
    "    kind=\"bar\",\n",
    "    x=instance.headers[\"method\"],\n",
    "    y=\"Count\",\n",
    "    col=instance.headers[\"class\"],\n",
    "    data=df_rejected_method_class,\n",
    "    col_order=instance.order_classes,\n",
    "    order = instance.order_methods_dict.keys(),\n",
    "    height=4,\n",
    "    aspect=0.8,\n",
    ")\n",
    "\n",
    "g = rtrack.add_ticks(g, 0, 5500, 500, tick_format=\"{:,}\")\n",
    "plt.tight_layout()\n",
    "g = g.set_axis_labels(instance.headers[\"method\"], \"#Rejected\")\n",
    "g = g.set_titles(\"{col_name}\")\n",
    "\n",
    "figure_name_bar = \"grid_rejected_bar.pdf\"\n",
    "sns.despine(left=True)\n",
    "plt.show()"
   ]
  }
 ],
 "metadata": {
  "kernelspec": {
   "display_name": "envmobio",
   "language": "python",
   "name": "envmobio"
  },
  "language_info": {
   "codemirror_mode": {
    "name": "ipython",
    "version": 3
   },
   "file_extension": ".py",
   "mimetype": "text/x-python",
   "name": "python",
   "nbconvert_exporter": "python",
   "pygments_lexer": "ipython3",
   "version": "3.8.10"
  }
 },
 "nbformat": 4,
 "nbformat_minor": 4
}
