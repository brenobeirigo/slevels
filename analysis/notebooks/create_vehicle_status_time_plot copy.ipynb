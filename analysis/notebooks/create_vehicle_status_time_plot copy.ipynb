{
 "cells": [
  {
   "cell_type": "code",
   "execution_count": 1,
   "metadata": {
    "tags": []
   },
   "outputs": [],
   "source": [
    "import sys\n",
    "\n",
    "sys.path.append( '../slevelsutil/' )\n",
    "import round_track_util as rutil\n",
    "from Instance import Instance\n",
    "import file_util"
   ]
  },
  {
   "cell_type": "code",
   "execution_count": 2,
   "metadata": {
    "jupyter": {
     "outputs_hidden": false
    },
    "pycharm": {
     "name": "#%%\n"
    }
   },
   "outputs": [],
   "source": [
    "filter_instance = {\"instance_name\":\"SCENARIO\"} #, \"customer_segmentation\":\"X\", \"service_rate\": \"S1\"}\n",
    "test_case = \"standard_vs_enforce_BB\"\n",
    "#instance_settings_path = \"C:/Users/LocalAdmin/IdeaProjects/slevels/src/main/resources/day/trc_paper.json\"\n",
    "#data_dict_path = \"../data/dictionary/request_track_data_dictionary.json\"\n",
    "test_label = \"\"\n",
    "\n",
    "# TRC Paper (Flexible execution cuts)\n",
    "# instance_settings_path = \"C:/Users/LocalAdmin/IdeaProjects/slevels/src/main/resources/day/enforce_sl_all_hierachical_scenarios_150_plus.json\"\n",
    "# data_dict_path = \"../data/dictionary/request_track_data_dictionary_plus.json\"\n",
    "# test_label = \"time_plus\"\n",
    "\n",
    "# TRC Paper (Whole day)\n",
    "#instance_settings_path = \"C:/Users/LocalAdmin/IdeaProjects/slevels/src/main/resources/day/enforce_sl_whole_day_plus.json\"\n",
    "instance_settings_path = \"../../src/main/resources/day/day_nyc_zones.json\"\n",
    "data_dict_path = \"../data/dictionary/request_track_data_dictionary_informs_tsl.json\"\n",
    "test_label = \"day_time_plus\"\n",
    "result_folder = \"/../analysis/data/results/plots/\"\n",
    "instance_case = Instance(test_case, instance_settings_path, data_dict_path, result_folder)"
   ]
  },
  {
   "cell_type": "markdown",
   "metadata": {
    "pycharm": {
     "name": "#%% md\n"
    }
   },
   "source": [
    "### One day config"
   ]
  },
  {
   "cell_type": "code",
   "execution_count": 5,
   "metadata": {
    "jupyter": {
     "outputs_hidden": false
    },
    "pycharm": {
     "name": "#%%\n"
    }
   },
   "outputs": [
    {
     "name": "stdout",
     "output_type": "stream",
     "text": [
      "Reading 3 files from '/mnt/d/projects/dev/slevels/analysis/data/results/1618NYCZONES300/request_track/'.\n",
      "['IN-1618NYCZONES300_SD-20190205180000_ST-7200_BA-60_MR-10_PR-0.10_IF-100_MC-4_CS-BB_HC-150_CD-0_VH_RE-OP_OPT-FCFS.csv', 'IN-1618NYCZONES300_SD-20190205180000_ST-7200_BA-60_MR-10_PR-0.10_IF-100_MC-4_CS-BB_HC-150_CD-0_VH_RE-OP_OPT-JAVIER.csv', 'IN-1618NYCZONES300_SD-20190205180000_ST-7200_BA-60_MR-10_PR-0.10_IF-100_MC-4_CS-BB_HC-150_CD-0_VH_RE-OP_OPT-JAVIERVF.csv']\n",
      "  - Processing IN-1618NYCZONES300_SD-20190205180000_ST-7200_BA-60_MR-10_PR-0.10_IF-100_MC-4_CS-BB_HC-150_CD-0_VH_RE-OP_OPT-FCFS.csv\n",
      "Creating figure in '/mnt/d/projects/dev/slevels/analysis/data/results/1618NYCZONES300/paper_informstsl_2022/vehicle_status/VS_IN-1618NYCZONES300_SD-20190205180000_ST-7200_BA-60_MR-10_PR-0.10_IF-100_MC-4_CS-BB_HC-150_CD-0_VH_RE-OP_OPT-FCFS.png'\n",
      "TW1(2019-02-05T18:00:30, 2019-02-05T20:00:00)\n",
      "TW: ('2019-02-05T18:00:30', '2019-02-05T20:00:00')\n",
      "TW2(2019-02-05T18:00:30, 2019-02-05T20:00:00)\n",
      "Index(['waiting', 'finished', 'denied', 'n_requests', 'seat_count',\n",
      "       'picking_up_seats', 'rebalancing_seats', 'empty_seats',\n",
      "       'total_capacity', 'active_vehicles', 'hired_vehicles',\n",
      "       'deactivated_vehicles', 'enroute_count', 'pk_delay', 'total_delay',\n",
      "       'parked_vehicles', 'origin_vehicles', 'rebalancing',\n",
      "       'stopped_rebalancing', 'idle', 'picking_up', 'O1', 'O2', 'O3', 'O4',\n",
      "       'V1', 'V2', 'V3', 'V4', 'distance_traveled_cruising',\n",
      "       'distance_traveled_loaded', 'distance_traveled_rebalancing',\n",
      "       'time_ride_matching_s', 'time_update_fleet_status_s',\n",
      "       'time_vehicle_rebalancing_s', 'B_pk', 'B_dp', 'B_count',\n",
      "       'B_unmet_slevels'],\n",
      "      dtype='object')\n",
      "Firt record: 2019-02-05 18:01:00  -- Last record: 2019-02-05 20:29:00\n",
      "TW: 2019-02-05 18:00:30 2019-02-05 20:00:00\n",
      "Len x: 120\n",
      "{'axes.facecolor': '#d0d0dd', 'axes.edgecolor': '.15', 'axes.grid': True, 'axes.axisbelow': True, 'axes.labelcolor': '.15', 'figure.facecolor': 'white', 'grid.color': '1.0', 'grid.linestyle': '-', 'text.color': '.15', 'xtick.color': '.15', 'ytick.color': '.15', 'xtick.direction': 'out', 'ytick.direction': 'out', 'lines.solid_capstyle': <CapStyle.round: 'round'>, 'patch.edgecolor': 'w', 'patch.force_edgecolor': True, 'image.cmap': 'rocket', 'font.family': ['sans-serif'], 'font.sans-serif': ['Arial', 'DejaVu Sans', 'Liberation Sans', 'Bitstream Vera Sans', 'sans-serif'], 'xtick.bottom': True, 'xtick.top': False, 'ytick.left': True, 'ytick.right': False, 'axes.spines.left': True, 'axes.spines.bottom': True, 'axes.spines.right': True, 'axes.spines.top': True}\n",
      "Range:  DatetimeIndex(['2019-02-05 18:01:30', '2019-02-05 19:01:30'], dtype='datetime64[ns]', freq='60T')\n",
      "LIMITS: 0 100\n",
      "Fleet makeup: {'V1': 0, 'V2': 0, 'V3': 0, 'V4': 100}\n",
      " Total seats: {'V1': 0, 'V2': 0, 'V3': 0, 'V4': 400}\n",
      "Service rate: 80.76% (Serviced: 1998 + Denied: 476 = 2474) \n",
      "Pickup delay: 169.73 / Ride delay: 193.75 \n",
      "Runtime: 0.01s\n",
      "  - Processing IN-1618NYCZONES300_SD-20190205180000_ST-7200_BA-60_MR-10_PR-0.10_IF-100_MC-4_CS-BB_HC-150_CD-0_VH_RE-OP_OPT-JAVIER.csv\n",
      "Creating figure in '/mnt/d/projects/dev/slevels/analysis/data/results/1618NYCZONES300/paper_informstsl_2022/vehicle_status/VS_IN-1618NYCZONES300_SD-20190205180000_ST-7200_BA-60_MR-10_PR-0.10_IF-100_MC-4_CS-BB_HC-150_CD-0_VH_RE-OP_OPT-JAVIER.png'\n",
      "TW1(2019-02-05T18:00:30, 2019-02-05T20:00:00)\n",
      "TW: ('2019-02-05T18:00:30', '2019-02-05T20:00:00')\n",
      "TW2(2019-02-05T18:00:30, 2019-02-05T20:00:00)\n",
      "Index(['waiting', 'finished', 'denied', 'n_requests', 'seat_count',\n",
      "       'picking_up_seats', 'rebalancing_seats', 'empty_seats',\n",
      "       'total_capacity', 'active_vehicles', 'hired_vehicles',\n",
      "       'deactivated_vehicles', 'enroute_count', 'pk_delay', 'total_delay',\n",
      "       'parked_vehicles', 'origin_vehicles', 'rebalancing',\n",
      "       'stopped_rebalancing', 'idle', 'picking_up', 'O1', 'O2', 'O3', 'O4',\n",
      "       'V1', 'V2', 'V3', 'V4', 'distance_traveled_cruising',\n",
      "       'distance_traveled_loaded', 'distance_traveled_rebalancing',\n",
      "       'time_ride_matching_s', 'time_update_fleet_status_s',\n",
      "       'time_vehicle_rebalancing_s', 'B_pk', 'B_dp', 'B_count',\n",
      "       'B_unmet_slevels'],\n",
      "      dtype='object')\n",
      "Firt record: 2019-02-05 18:01:00  -- Last record: 2019-02-05 20:32:00\n",
      "TW: 2019-02-05 18:00:30 2019-02-05 20:00:00\n",
      "Len x: 120\n",
      "{'axes.facecolor': '#d0d0dd', 'axes.edgecolor': '.15', 'axes.grid': True, 'axes.axisbelow': True, 'axes.labelcolor': '.15', 'figure.facecolor': 'white', 'grid.color': '1.0', 'grid.linestyle': '-', 'text.color': '.15', 'xtick.color': '.15', 'ytick.color': '.15', 'xtick.direction': 'out', 'ytick.direction': 'out', 'lines.solid_capstyle': <CapStyle.round: 'round'>, 'patch.edgecolor': 'w', 'patch.force_edgecolor': True, 'image.cmap': 'rocket', 'font.family': ['sans-serif'], 'font.sans-serif': ['Arial', 'DejaVu Sans', 'Liberation Sans', 'Bitstream Vera Sans', 'sans-serif'], 'xtick.bottom': True, 'xtick.top': False, 'ytick.left': True, 'ytick.right': False, 'axes.spines.left': True, 'axes.spines.bottom': True, 'axes.spines.right': True, 'axes.spines.top': True}\n",
      "Range:  DatetimeIndex(['2019-02-05 18:01:30', '2019-02-05 19:01:30'], dtype='datetime64[ns]', freq='60T')\n",
      "LIMITS: 0 100\n",
      "Fleet makeup: {'V1': 0, 'V2': 0, 'V3': 0, 'V4': 100}\n",
      " Total seats: {'V1': 0, 'V2': 0, 'V3': 0, 'V4': 400}\n",
      "Service rate: 88.64% (Serviced: 2193 + Denied: 281 = 2474) \n",
      "Pickup delay: 153.85 / Ride delay: 179.04 \n",
      "Runtime: 0.01s\n",
      "  - Processing IN-1618NYCZONES300_SD-20190205180000_ST-7200_BA-60_MR-10_PR-0.10_IF-100_MC-4_CS-BB_HC-150_CD-0_VH_RE-OP_OPT-JAVIERVF.csv\n",
      "Creating figure in '/mnt/d/projects/dev/slevels/analysis/data/results/1618NYCZONES300/paper_informstsl_2022/vehicle_status/VS_IN-1618NYCZONES300_SD-20190205180000_ST-7200_BA-60_MR-10_PR-0.10_IF-100_MC-4_CS-BB_HC-150_CD-0_VH_RE-OP_OPT-JAVIERVF.png'\n",
      "TW1(2019-02-05T18:00:30, 2019-02-05T20:00:00)\n",
      "TW: ('2019-02-05T18:00:30', '2019-02-05T20:00:00')\n",
      "TW2(2019-02-05T18:00:30, 2019-02-05T20:00:00)\n",
      "Index(['waiting', 'finished', 'denied', 'n_requests', 'seat_count',\n",
      "       'picking_up_seats', 'rebalancing_seats', 'empty_seats',\n",
      "       'total_capacity', 'active_vehicles', 'hired_vehicles',\n",
      "       'deactivated_vehicles', 'enroute_count', 'pk_delay', 'total_delay',\n",
      "       'parked_vehicles', 'origin_vehicles', 'rebalancing',\n",
      "       'stopped_rebalancing', 'idle', 'picking_up', 'O1', 'O2', 'O3', 'O4',\n",
      "       'V1', 'V2', 'V3', 'V4', 'distance_traveled_cruising',\n",
      "       'distance_traveled_loaded', 'distance_traveled_rebalancing',\n",
      "       'time_ride_matching_s', 'time_update_fleet_status_s',\n",
      "       'time_vehicle_rebalancing_s', 'B_pk', 'B_dp', 'B_count',\n",
      "       'B_unmet_slevels'],\n",
      "      dtype='object')\n",
      "Firt record: 2019-02-05 18:01:00  -- Last record: 2019-02-05 20:29:00\n",
      "TW: 2019-02-05 18:00:30 2019-02-05 20:00:00\n",
      "Len x: 120\n",
      "{'axes.facecolor': '#d0d0dd', 'axes.edgecolor': '.15', 'axes.grid': True, 'axes.axisbelow': True, 'axes.labelcolor': '.15', 'figure.facecolor': 'white', 'grid.color': '1.0', 'grid.linestyle': '-', 'text.color': '.15', 'xtick.color': '.15', 'ytick.color': '.15', 'xtick.direction': 'out', 'ytick.direction': 'out', 'lines.solid_capstyle': <CapStyle.round: 'round'>, 'patch.edgecolor': 'w', 'patch.force_edgecolor': True, 'image.cmap': 'rocket', 'font.family': ['sans-serif'], 'font.sans-serif': ['Arial', 'DejaVu Sans', 'Liberation Sans', 'Bitstream Vera Sans', 'sans-serif'], 'xtick.bottom': True, 'xtick.top': False, 'ytick.left': True, 'ytick.right': False, 'axes.spines.left': True, 'axes.spines.bottom': True, 'axes.spines.right': True, 'axes.spines.top': True}\n",
      "Range:  DatetimeIndex(['2019-02-05 18:01:30', '2019-02-05 19:01:30'], dtype='datetime64[ns]', freq='60T')\n",
      "LIMITS: 0 100\n",
      "Fleet makeup: {'V1': 0, 'V2': 0, 'V3': 0, 'V4': 100}\n",
      " Total seats: {'V1': 0, 'V2': 0, 'V3': 0, 'V4': 400}\n",
      "Service rate: 82.22% (Serviced: 2034 + Denied: 440 = 2474) \n",
      "Pickup delay: 233.19 / Ride delay: 252.20 \n",
      "Runtime: 0.00s\n"
     ]
    },
    {
     "data": {
      "text/plain": [
       "<Figure size 648x648 with 0 Axes>"
      ]
     },
     "metadata": {},
     "output_type": "display_data"
    }
   ],
   "source": [
    "import pathlib\n",
    "\n",
    "instance_file_names = file_util.read_files_from_folder(instance_case.request_log_folder)\n",
    "print(instance_file_names)\n",
    "\n",
    "hour_config2 = {\n",
    "    \"custom_tw\" : ('2019-02-05T18:00:30', '2019-02-05T20:00:00'),\n",
    "    \"x_data_format\" : ('60T', '%H:%M'),\n",
    "    \"size_inches\":  (9, 9)\n",
    "}\n",
    "\n",
    "ylabels_hour_config2 = (\n",
    "            [0, 25, 50, 75, 100],\n",
    "            [0, 25, 50, 75, 100], \n",
    "            \"xx-large\")\n",
    "\n",
    "hour_config = {\n",
    "    \"custom_tw\" : ('2011-02-01T18:00:00', '2011-02-01T19:00:00'),\n",
    "    \"x_data_format\" : ('15T', '%H:%M'),\n",
    "    \"size_inches\":  (9, 9)\n",
    "}\n",
    "y_hour_config = (\n",
    "            [0, 250, 500, 750, 1000, 1250],\n",
    "            [0, 250, 500, 750, 1000, 1250], \n",
    "            \"xx-large\"),\n",
    "day_config = {\n",
    "    \"custom_tw\" : ('2011-02-01T00:00:00', '2011-02-02T00:00:00'),\n",
    "    \"x_data_format\" : ('3H', '%#H'),\n",
    "    \"size_inches\": (30, 9),\n",
    "}\n",
    "\n",
    "fonts_large = {\n",
    "    \"fontsize\":\"xx-large\",\n",
    "    \"fontsize_label\":\"xx-large\",\n",
    "    \"fontsize_label_sr\":\"x-large\",\n",
    "    \"context_font_scale\": 1.3,\n",
    "}\n",
    "\n",
    "for file_name in instance_file_names:\n",
    "    print(\"  - Processing\", file_name)\n",
    "    instance, extension = pathlib.Path(file_name).stem, pathlib.Path(file_name).suffix\n",
    "    instance_settings = Instance.get_instance_settings(instance_case.instances_dic[\"labels\"], instance)\n",
    "\n",
    "\n",
    "    periods_config = hour_config2\n",
    "    fonts = fonts_large\n",
    "    rutil.plot_vehicle_status_graph(\n",
    "        instance_case.round_log_folder,\n",
    "        instance_case.paper_folder+\"vehicle_status/\",\n",
    "        instance,\n",
    "        replace=True,\n",
    "        smooth=0,\n",
    "        label_y = ylabels_hour_config2,\n",
    "        print_details=False,\n",
    "        **fonts,\n",
    "        **periods_config,\n",
    "        color_bg = \"#C0C0C0\",\n",
    "        horizontal_legend = True,\n",
    "        day_sep_config = (dict(linewidth=6, color='white', alpha=0.4), dict(linewidth=1, color='black', linestyle='--')),\n",
    "        fig_type = 'png',\n",
    "        print_details_axis = (\"Time (h)\", \"#Vehicles\"),\n",
    "        input_dic = instance_settings,\n",
    "        show_tick_label_x = True,\n",
    "        annotate_data_per_status=False,\n",
    "        extra_info_coord = '2019-02-05 18:30:00',\n",
    "        show_service_rate=\"Picked up: \",\n",
    "\n",
    "    )"
   ]
  },
  {
   "cell_type": "markdown",
   "metadata": {
    "pycharm": {
     "name": "#%% md\n"
    }
   },
   "source": [
    "### Whole week config"
   ]
  },
  {
   "cell_type": "raw",
   "metadata": {
    "pycharm": {
     "name": "#%% raw\n"
    }
   },
   "source": [
    "\n",
    "\n",
    "\n",
    "# Instance Info (key = instance name)\n",
    "dic_all_instance_settings = dict()\n",
    "dic_all_round_track = dict()\n",
    "dic_all_request_track = dict()\n",
    "\n",
    "general_config = dict(\n",
    "    replace=True,\n",
    "    smooth=0,\n",
    "    print_details=False,\n",
    "    size_inches = (18,3),\n",
    "    fontsize=\"x-large\",\n",
    "    fontsize_label=\"x-large\",\n",
    "    custom_tw = ('2011-02-01T00:00:00', '2011-02-08T00:00:00'),\n",
    "    x_data_format = ('6h', '%H'),\n",
    "    label_y = ([0, 225, 450, 675, 900, 1125, 1350, 1575, 1800, 2025, 2250], [0, 225, 450, 675, 900, 1125, 1350, 1575, 1800,  2025, 2250], \"small\"),\n",
    "    color_bg = \"#C0C0C0\",\n",
    "    context_font_scale = 1.3,\n",
    "    horizontal_legend = True,\n",
    "    day_sep_config = (dict(linewidth=6, color='white', alpha=0.4), dict(linewidth=1, color='black', linestyle='--')),\n",
    "    fig_type = 'png',\n",
    "    linewidth = 1,\n",
    ")\n",
    "\n",
    "msg_fontsize = 'large'\n",
    "\n",
    "for file_name in instance_file_names:\n",
    "    instance, extension = file_name.split(\".\")\n",
    "    print(\"  - Processing\", instance)\n",
    "    instance_settings = Instance.get_instance_settings(instance_case.instances_dic[\"labels\"], instance)\n",
    "\n",
    "    rutil.plot_vehicle_status_graph(\n",
    "        instance_case.round_log_folder,\n",
    "        instance_case.vehicle_status_graph_folder,\n",
    "        instance,\n",
    "        show_tick_label_x = True,\n",
    "        show_week_days = True,\n",
    "        print_details_axis = (\"Time (h)\", \"#Vehicles\"),\n",
    "        **general_config,\n",
    "        input_dic = instance_settings\n",
    "    )"
   ]
  },
  {
   "cell_type": "code",
   "execution_count": 4,
   "metadata": {
    "jupyter": {
     "outputs_hidden": false
    },
    "pycharm": {
     "name": "#%%\n"
    }
   },
   "outputs": [
    {
     "data": {
      "text/plain": [
       "'07'"
      ]
     },
     "execution_count": 4,
     "metadata": {},
     "output_type": "execute_result"
    }
   ],
   "source": [
    "import datetime\n",
    "d = datetime.datetime(2013, 9, 30, 7, 6, 5)\n",
    "d.strftime(\"%#H\")"
   ]
  }
 ],
 "metadata": {
  "kernelspec": {
   "display_name": "envmobio",
   "language": "python",
   "name": "envmobio"
  },
  "language_info": {
   "codemirror_mode": {
    "name": "ipython",
    "version": 3
   },
   "file_extension": ".py",
   "mimetype": "text/x-python",
   "name": "python",
   "nbconvert_exporter": "python",
   "pygments_lexer": "ipython3",
   "version": "3.8.10"
  }
 },
 "nbformat": 4,
 "nbformat_minor": 4
}
